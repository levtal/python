{
 "cells": [
  {
   "cell_type": "markdown",
   "metadata": {},
   "source": [
    "***Input english word ***"
   ]
  },
  {
   "cell_type": "code",
   "execution_count": 1,
   "metadata": {
    "collapsed": true
   },
   "outputs": [],
   "source": [
    "word ='divergence'"
   ]
  },
  {
   "cell_type": "code",
   "execution_count": 2,
   "metadata": {
    "collapsed": true
   },
   "outputs": [],
   "source": [
    "from bs4 import BeautifulSoup\n",
    "import requests"
   ]
  },
  {
   "cell_type": "code",
   "execution_count": 3,
   "metadata": {
    "collapsed": true
   },
   "outputs": [],
   "source": [
    "url = 'http://www.morfix.co.il/en/'+ word\n",
    "try: \n",
    "    source = requests.get(url).text\n",
    "    soup = BeautifulSoup(source, 'lxml')\n",
    "except Exception as e:\n",
    "     print('No Internet Connection','\\n\\n',e) "
   ]
  },
  {
   "cell_type": "code",
   "execution_count": 4,
   "metadata": {},
   "outputs": [
    {
     "name": "stdout",
     "output_type": "stream",
     "text": [
      "הִתְפַּצְּלוּת, הִסְתַּעֲפוּת, הִתְחַלְּקוּת; סְטִיָּה; (מתמטיקה) הִתְבַּדְּרוּת \n"
     ]
    }
   ],
   "source": [
    "tr4 = soup.find('div',class_=\"translation translation_he heTrans\")\n",
    "try: \n",
    "    out =   tr4.text \n",
    "except Exception as e:\n",
    "    out  = None  #No p tab\n",
    "print(out)  "
   ]
  },
  {
   "cell_type": "code",
   "execution_count": 5,
   "metadata": {},
   "outputs": [
    {
     "name": "stdout",
     "output_type": "stream",
     "text": [
      "באנליזה וקטורית, הדיברגנץ או דיבירגנט (באנגלית: divergence) הוא אופרטור המופעל על שדה וקטורי. הדיברגנץ משייך לכל נקודה במרחב ערך מספרי המתאר את צפיפות המקורות של השדה הווקטורי שעליו הוא מופעל.\n",
      "\n"
     ]
    }
   ],
   "source": [
    "tr = soup.find('div',class_=\"translate_box_en box heWord0\")\n",
    "try: \n",
    "    out =   tr.p.text \n",
    "except Exception as e:\n",
    "    out  = None   \n",
    "print(out)        "
   ]
  },
  {
   "cell_type": "code",
   "execution_count": 6,
   "metadata": {},
   "outputs": [
    {
     "name": "stdout",
     "output_type": "stream",
     "text": [
      "None\n"
     ]
    }
   ],
   "source": [
    "\n",
    "try: \n",
    "    tr2 =tr.find('div',class_=\"hebrew hebrew_font\").text\n",
    "    out =   tr2.text \n",
    "except Exception as e:\n",
    "    out  = None   \n",
    "\n",
    "print(out) \n",
    " "
   ]
  },
  {
   "cell_type": "code",
   "execution_count": 7,
   "metadata": {},
   "outputs": [
    {
     "name": "stdout",
     "output_type": "stream",
     "text": [
      "None\n"
     ]
    }
   ],
   "source": [
    "try: \n",
    "    tr3 = tr.find('div',class_=\"translation translation_he heTrans\").text \n",
    "    out =   tr3.text \n",
    "except Exception as e:\n",
    "    out  = None   \n",
    "\n",
    "print(out) "
   ]
  },
  {
   "cell_type": "code",
   "execution_count": 8,
   "metadata": {
    "collapsed": true
   },
   "outputs": [],
   "source": [
    "tr = soup.find('div',class_=\"translate_box_en box heWord0\") \n",
    "#print( tr  )"
   ]
  },
  {
   "cell_type": "code",
   "execution_count": 9,
   "metadata": {
    "collapsed": true
   },
   "outputs": [],
   "source": [
    "try: \n",
    "    out = soup.find('div',class_=\"NoResultsSuggestNewTranslation\").text \n",
    "    print(out) \n",
    "except Exception as e:\n",
    "    out  = None  #No p tab\n",
    " "
   ]
  }
 ],
 "metadata": {
  "kernelspec": {
   "display_name": "Python 3",
   "language": "python",
   "name": "python3"
  },
  "language_info": {
   "codemirror_mode": {
    "name": "ipython",
    "version": 3
   },
   "file_extension": ".py",
   "mimetype": "text/x-python",
   "name": "python",
   "nbconvert_exporter": "python",
   "pygments_lexer": "ipython3",
   "version": "3.6.3"
  }
 },
 "nbformat": 4,
 "nbformat_minor": 2
}
