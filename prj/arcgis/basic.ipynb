{
 "cells": [
  {
   "cell_type": "markdown",
   "metadata": {},
   "source": [
    "**Basic use of Arcgis** \n",
    "\n",
    "https://developers.arcgis.com/python/guide/using-the-gis/"
   ]
  },
  {
   "cell_type": "code",
   "execution_count": null,
   "metadata": {},
   "outputs": [],
   "source": []
  },
  {
   "cell_type": "code",
   "execution_count": 37,
   "metadata": {},
   "outputs": [],
   "source": [
    "from arcgis.gis import GIS"
   ]
  },
  {
   "cell_type": "code",
   "execution_count": 38,
   "metadata": {},
   "outputs": [
    {
     "name": "stdout",
     "output_type": "stream",
     "text": [
      "Logged in as anonymous user to ArcGIS Online\n"
     ]
    }
   ],
   "source": [
    "print(\"Logged in as anonymous user to \" + gis.properties.portalName)"
   ]
  },
  {
   "cell_type": "code",
   "execution_count": null,
   "metadata": {},
   "outputs": [],
   "source": []
  },
  {
   "cell_type": "code",
   "execution_count": 39,
   "metadata": {},
   "outputs": [
    {
     "name": "stdout",
     "output_type": "stream",
     "text": [
      "ArcGIS Online Org account\n",
      "Logged in as arcgis_python\n"
     ]
    }
   ],
   "source": [
    "print(\"ArcGIS Online Org account\")    \n",
    "gis = GIS(\"https://www.arcgis.com\", \"arcgis_python\", \"P@ssword123\")\n",
    "print(\"Logged in as \" + str(gis.properties.user.username))"
   ]
  },
  {
   "cell_type": "code",
   "execution_count": 40,
   "metadata": {},
   "outputs": [],
   "source": [
    "gis = GIS()"
   ]
  },
  {
   "cell_type": "code",
   "execution_count": 41,
   "metadata": {},
   "outputs": [
    {
     "data": {
      "text/html": [
       "<div class=\"9item_container\" style=\"height: auto; overflow: hidden; border: 1px solid #cfcfcf; border-radius: 2px; background: #f6fafa; line-height: 1.21429em; padding: 10px;\">\n",
       "                    <div class=\"item_left\" style=\"width: 210px; float: left;\">\n",
       "                       <a href='https://www.arcgis.com/home/user.html?user=rxsingh' target='_blank'>\n",
       "                        <img src='https://www.arcgis.com/sharing/rest/community/users/rxsingh/info/rohit150.png' class=\"itemThumbnail\">\n",
       "                       </a>\n",
       "                    </div>\n",
       "\n",
       "                    <div class=\"item_right\" style=\"float: none; width: auto; overflow: hidden;\">\n",
       "                        <a href='https://www.arcgis.com/home/user.html?user=rxsingh' target='_blank'><b>Rohit Singh</b>\n",
       "                        </a>\n",
       "                        <br/><br/><b>Bio</b>: \n",
       "                        <br/><b>First Name</b>: Rohit\n",
       "                        <br/><b>Last Name</b>: Singh\n",
       "                        <br/><b>Username</b>: rxsingh\n",
       "                        <br/><b>Joined</b>: יולי 02, 2014\n",
       "\n",
       "                    </div>\n",
       "                </div>\n",
       "                "
      ],
      "text/plain": [
       "<User username:rxsingh>"
      ]
     },
     "execution_count": 41,
     "metadata": {},
     "output_type": "execute_result"
    }
   ],
   "source": [
    "user = gis.users.get('rxsingh')\n",
    "user"
   ]
  },
  {
   "cell_type": "code",
   "execution_count": 42,
   "metadata": {},
   "outputs": [],
   "source": [
    "user = gis.users.get('john.smith')"
   ]
  },
  {
   "cell_type": "code",
   "execution_count": 43,
   "metadata": {},
   "outputs": [
    {
     "data": {
      "text/html": [
       "<div class=\"9item_container\" style=\"height: auto; overflow: hidden; border: 1px solid #cfcfcf; border-radius: 2px; background: #f6fafa; line-height: 1.21429em; padding: 10px;\">\n",
       "                    <div class=\"item_left\" style=\"width: 210px; float: left;\">\n",
       "                       <a href='https://www.arcgis.com/home/user.html?user=john.smith' target='_blank'>\n",
       "                        <img src='https://www.arcgis.com/home/js/arcgisonline/css/images/no-user-thumb.jpg' class=\"itemThumbnail\">\n",
       "                       </a>\n",
       "                    </div>\n",
       "\n",
       "                    <div class=\"item_right\" style=\"float: none; width: auto; overflow: hidden;\">\n",
       "                        <a href='https://www.arcgis.com/home/user.html?user=john.smith' target='_blank'><b>John Smith</b>\n",
       "                        </a>\n",
       "                        <br/><br/><b>Bio</b>: None\n",
       "                        <br/><b>First Name</b>: John\n",
       "                        <br/><b>Last Name</b>: Smith\n",
       "                        <br/><b>Username</b>: john.smith\n",
       "                        <br/><b>Joined</b>: אוקטובר 28, 2014\n",
       "\n",
       "                    </div>\n",
       "                </div>\n",
       "                "
      ],
      "text/plain": [
       "<User username:john.smith>"
      ]
     },
     "execution_count": 43,
     "metadata": {},
     "output_type": "execute_result"
    }
   ],
   "source": [
    "user"
   ]
  },
  {
   "cell_type": "code",
   "execution_count": 44,
   "metadata": {},
   "outputs": [
    {
     "data": {
      "text/plain": [
       "'John'"
      ]
     },
     "execution_count": 44,
     "metadata": {},
     "output_type": "execute_result"
    }
   ],
   "source": [
    "user['firstName']"
   ]
  },
  {
   "cell_type": "markdown",
   "metadata": {},
   "source": [
    "***Let's bring up a map of Palm Springs, CA:***"
   ]
  },
  {
   "cell_type": "code",
   "execution_count": 45,
   "metadata": {},
   "outputs": [],
   "source": [
    "#map1 = gis.map(\"Palm Springs, CA\")\n",
    "map1 = gis.map(\"California, USA\")\n",
    " "
   ]
  },
  {
   "cell_type": "code",
   "execution_count": 46,
   "metadata": {},
   "outputs": [
    {
     "data": {
      "application/vnd.jupyter.widget-view+json": {
       "model_id": "b75be64612dc4003aca4126f8fd690ea",
       "version_major": 2,
       "version_minor": 0
      },
      "text/plain": [
       "MapView(layout=Layout(height='400px', width='100%'))"
      ]
     },
     "metadata": {},
     "output_type": "display_data"
    },
    {
     "data": {
      "text/html": [
       "<div class=\"map-static-img-preview-a48a01de-a46d-40b2-ac5e-9c5fd0faa0a7\"><img src=\"\"></img></div>"
      ],
      "text/plain": [
       "<IPython.core.display.HTML object>"
      ]
     },
     "metadata": {},
     "output_type": "display_data"
    }
   ],
   "source": [
    "map1\n",
    " "
   ]
  },
  {
   "cell_type": "code",
   "execution_count": 48,
   "metadata": {
    "scrolled": true
   },
   "outputs": [
    {
     "data": {
      "text/html": [
       "<div class=\"item_container\" style=\"height: auto; overflow: hidden; border: 1px solid #cfcfcf; border-radius: 2px; background: #f6fafa; line-height: 1.21429em; padding: 10px;\">\n",
       "                    <div class=\"item_left\" style=\"width: 210px; float: left;\">\n",
       "                       <a href='https://www.arcgis.com/home/item.html?id=80788cb2a356429c8740a0f06136f7ca' target='_blank'>\n",
       "                        <img src='https://www.arcgis.com/sharing/rest//content/items/80788cb2a356429c8740a0f06136f7ca/info/thumbnail/thumbnail.png' class=\"itemThumbnail\">\n",
       "                       </a>\n",
       "                    </div>\n",
       "\n",
       "                    <div class=\"item_right\"     style=\"float: none; width: auto; overflow: hidden;\">\n",
       "                        <a href='https://www.arcgis.com/home/item.html?id=80788cb2a356429c8740a0f06136f7ca' target='_blank'><b>NY Rising Buyouts in Staten Island</b>\n",
       "                        </a>\n",
       "                        <br/>NY Rising Buyouts in Staten Island for the ASFPM Tour<img src='https://www.arcgis.com/home/js/jsapi/esri/css/images/item_type_icons/layers16.png' style=\"vertical-align:middle;\">Web Mapping Application by AMurphy_GOSR\n",
       "                        <br/>Last Modified: נובמבר 29, 2017\n",
       "                        <br/>0 comments, 271 views\n",
       "                    </div>\n",
       "                </div>\n",
       "                "
      ],
      "text/plain": [
       "<Item title:\"NY Rising Buyouts in Staten Island\" type:Web Mapping Application owner:AMurphy_GOSR>"
      ]
     },
     "metadata": {},
     "output_type": "display_data"
    },
    {
     "data": {
      "text/html": [
       "<div class=\"item_container\" style=\"height: auto; overflow: hidden; border: 1px solid #cfcfcf; border-radius: 2px; background: #f6fafa; line-height: 1.21429em; padding: 10px;\">\n",
       "                    <div class=\"item_left\" style=\"width: 210px; float: left;\">\n",
       "                       <a href='https://www.arcgis.com/home/item.html?id=d5806480f6ca4678908c76fe197fb549' target='_blank'>\n",
       "                        <img src='https://www.arcgis.com/sharing/rest//content/items/d5806480f6ca4678908c76fe197fb549/info/thumbnail/thumbnail1557345323415.png' class=\"itemThumbnail\">\n",
       "                       </a>\n",
       "                    </div>\n",
       "\n",
       "                    <div class=\"item_right\"     style=\"float: none; width: auto; overflow: hidden;\">\n",
       "                        <a href='https://www.arcgis.com/home/item.html?id=d5806480f6ca4678908c76fe197fb549' target='_blank'><b>Village of Cayuga Heights, NY: Past Residents - Notable Awards and Honors</b>\n",
       "                        </a>\n",
       "                        <br/>This tiny municipality has been home to at least a dozen Nobel Prize laureates, eight Pulitzer Prize winners, six MacArthur Award recipients, an Emmy award winner, and countless other winners of the top prizes in their fields.<img src='https://www.arcgis.com/home/js/jsapi/esri/css/images/item_type_icons/layers16.png' style=\"vertical-align:middle;\">Web Mapping Application by smb\n",
       "                        <br/>Last Modified: מאי 08, 2019\n",
       "                        <br/>0 comments, 1,911 views\n",
       "                    </div>\n",
       "                </div>\n",
       "                "
      ],
      "text/plain": [
       "<Item title:\"Village of Cayuga Heights, NY: Past Residents - Notable Awards and Honors\" type:Web Mapping Application owner:smb>"
      ]
     },
     "metadata": {},
     "output_type": "display_data"
    },
    {
     "data": {
      "text/html": [
       "<div class=\"item_container\" style=\"height: auto; overflow: hidden; border: 1px solid #cfcfcf; border-radius: 2px; background: #f6fafa; line-height: 1.21429em; padding: 10px;\">\n",
       "                    <div class=\"item_left\" style=\"width: 210px; float: left;\">\n",
       "                       <a href='https://www.arcgis.com/home/item.html?id=84536ad4417d497c95ca0abf8ac6e746' target='_blank'>\n",
       "                        <img src='https://www.arcgis.com/sharing/rest//content/items/84536ad4417d497c95ca0abf8ac6e746/info/thumbnail/ago_downloaded.png' class=\"itemThumbnail\">\n",
       "                       </a>\n",
       "                    </div>\n",
       "\n",
       "                    <div class=\"item_right\"     style=\"float: none; width: auto; overflow: hidden;\">\n",
       "                        <a href='https://www.arcgis.com/home/item.html?id=84536ad4417d497c95ca0abf8ac6e746' target='_blank'><b>North American Pipeline and Oil & Gas Infrastructure Proposals</b>\n",
       "                        </a>\n",
       "                        <br/>This is an ongoing inventory of current North American hydrocarbon pipeline proposals.<img src='https://www.arcgis.com/home/js/jsapi/esri/css/images/item_type_icons/maps16.png' style=\"vertical-align:middle;\">Web Map by waauch\n",
       "                        <br/>Last Modified: מרץ 14, 2019\n",
       "                        <br/>0 comments, 33,521 views\n",
       "                    </div>\n",
       "                </div>\n",
       "                "
      ],
      "text/plain": [
       "<Item title:\"North American Pipeline and Oil & Gas Infrastructure Proposals\" type:Web Map owner:waauch>"
      ]
     },
     "metadata": {},
     "output_type": "display_data"
    },
    {
     "data": {
      "text/html": [
       "<div class=\"item_container\" style=\"height: auto; overflow: hidden; border: 1px solid #cfcfcf; border-radius: 2px; background: #f6fafa; line-height: 1.21429em; padding: 10px;\">\n",
       "                    <div class=\"item_left\" style=\"width: 210px; float: left;\">\n",
       "                       <a href='https://www.arcgis.com/home/item.html?id=71d238144d4442cb99784890a50a4373' target='_blank'>\n",
       "                        <img src='https://www.arcgis.com/sharing/rest//content/items/71d238144d4442cb99784890a50a4373/info/thumbnail/newyorkcity.jpg' class=\"itemThumbnail\">\n",
       "                       </a>\n",
       "                    </div>\n",
       "\n",
       "                    <div class=\"item_right\"     style=\"float: none; width: auto; overflow: hidden;\">\n",
       "                        <a href='https://www.arcgis.com/home/item.html?id=71d238144d4442cb99784890a50a4373' target='_blank'><b>New York City</b>\n",
       "                        </a>\n",
       "                        <br/>This map features a detailed basemap for New York City, including buildings and landmarks in the City.<img src='https://www.arcgis.com/home/js/jsapi/esri/css/images/item_type_icons/maps16.png' style=\"vertical-align:middle;\">Web Map by user_community\n",
       "                        <br/>Last Modified: יוני 25, 2014\n",
       "                        <br/>0 comments, 140,200 views\n",
       "                    </div>\n",
       "                </div>\n",
       "                "
      ],
      "text/plain": [
       "<Item title:\"New York City\" type:Web Map owner:user_community>"
      ]
     },
     "metadata": {},
     "output_type": "display_data"
    },
    {
     "data": {
      "text/html": [
       "<div class=\"item_container\" style=\"height: auto; overflow: hidden; border: 1px solid #cfcfcf; border-radius: 2px; background: #f6fafa; line-height: 1.21429em; padding: 10px;\">\n",
       "                    <div class=\"item_left\" style=\"width: 210px; float: left;\">\n",
       "                       <a href='https://www.arcgis.com/home/item.html?id=54a5a70269ba44b48efe1b9f3ffe35cb' target='_blank'>\n",
       "                        <img src='https://www.arcgis.com/sharing/rest//content/items/54a5a70269ba44b48efe1b9f3ffe35cb/info/thumbnail/DefiningDowntown.gif' class=\"itemThumbnail\">\n",
       "                       </a>\n",
       "                    </div>\n",
       "\n",
       "                    <div class=\"item_right\"     style=\"float: none; width: auto; overflow: hidden;\">\n",
       "                        <a href='https://www.arcgis.com/home/item.html?id=54a5a70269ba44b48efe1b9f3ffe35cb' target='_blank'><b>Defining Downtown - Documenting the Live-Work Dynamic of Downtowns</b>\n",
       "                        </a>\n",
       "                        <br/>Examine detailed geographic boundaries along with demographic and economic data for 53 employment nodes in 27 cities.<img src='https://www.arcgis.com/home/js/jsapi/esri/css/images/item_type_icons/layers16.png' style=\"vertical-align:middle;\">Web Mapping Application by CMunro_CenterCityDistrict\n",
       "                        <br/>Last Modified: מאי 28, 2019\n",
       "                        <br/>0 comments, 9,137 views\n",
       "                    </div>\n",
       "                </div>\n",
       "                "
      ],
      "text/plain": [
       "<Item title:\"Defining Downtown - Documenting the Live-Work Dynamic of Downtowns\" type:Web Mapping Application owner:CMunro_CenterCityDistrict>"
      ]
     },
     "metadata": {},
     "output_type": "display_data"
    },
    {
     "data": {
      "text/html": [
       "<div class=\"item_container\" style=\"height: auto; overflow: hidden; border: 1px solid #cfcfcf; border-radius: 2px; background: #f6fafa; line-height: 1.21429em; padding: 10px;\">\n",
       "                    <div class=\"item_left\" style=\"width: 210px; float: left;\">\n",
       "                       <a href='https://www.arcgis.com/home/item.html?id=2f0a884bfb434d76af8c15c26541a545' target='_blank'>\n",
       "                        <img src='https://www.arcgis.com/sharing/rest//content/items/2f0a884bfb434d76af8c15c26541a545/info/thumbnail/Map.jpg' class=\"itemThumbnail\">\n",
       "                       </a>\n",
       "                    </div>\n",
       "\n",
       "                    <div class=\"item_right\"     style=\"float: none; width: auto; overflow: hidden;\">\n",
       "                        <a href='https://www.arcgis.com/home/item.html?id=2f0a884bfb434d76af8c15c26541a545' target='_blank'><b>FEMA Flood Hazard Resources Map for NY and NJ</b>\n",
       "                        </a>\n",
       "                        <br/>Updated flood hazard data available for recovery and rebuilding efforts in Sandy affected counties in NJ and NY<img src='https://www.arcgis.com/home/js/jsapi/esri/css/images/item_type_icons/maps16.png' style=\"vertical-align:middle;\">Web Map by skoka_CTR\n",
       "                        <br/>Last Modified: ינואר 24, 2019\n",
       "                        <br/>0 comments, 1,297,084 views\n",
       "                    </div>\n",
       "                </div>\n",
       "                "
      ],
      "text/plain": [
       "<Item title:\"FEMA Flood Hazard Resources Map for NY and NJ\" type:Web Map owner:skoka_CTR>"
      ]
     },
     "metadata": {},
     "output_type": "display_data"
    },
    {
     "data": {
      "text/html": [
       "<div class=\"item_container\" style=\"height: auto; overflow: hidden; border: 1px solid #cfcfcf; border-radius: 2px; background: #f6fafa; line-height: 1.21429em; padding: 10px;\">\n",
       "                    <div class=\"item_left\" style=\"width: 210px; float: left;\">\n",
       "                       <a href='https://www.arcgis.com/home/item.html?id=5fd9a5046f7e4f96bdb7893fc504a5e4' target='_blank'>\n",
       "                        <img src='https://www.arcgis.com/sharing/rest//content/items/5fd9a5046f7e4f96bdb7893fc504a5e4/info/thumbnail/BOE.jpg' class=\"itemThumbnail\">\n",
       "                       </a>\n",
       "                    </div>\n",
       "\n",
       "                    <div class=\"item_right\"     style=\"float: none; width: auto; overflow: hidden;\">\n",
       "                        <a href='https://www.arcgis.com/home/item.html?id=5fd9a5046f7e4f96bdb7893fc504a5e4' target='_blank'><b>Tompkins County BOE w/Google Map Street View</b>\n",
       "                        </a>\n",
       "                        <br/>Board of Elections (BOE)<img src='https://www.arcgis.com/home/js/jsapi/esri/css/images/item_type_icons/layers16.png' style=\"vertical-align:middle;\">Web Mapping Application by svetla\n",
       "                        <br/>Last Modified: מאי 01, 2018\n",
       "                        <br/>0 comments, 193 views\n",
       "                    </div>\n",
       "                </div>\n",
       "                "
      ],
      "text/plain": [
       "<Item title:\"Tompkins County BOE w/Google Map Street View\" type:Web Mapping Application owner:svetla>"
      ]
     },
     "metadata": {},
     "output_type": "display_data"
    },
    {
     "data": {
      "text/html": [
       "<div class=\"item_container\" style=\"height: auto; overflow: hidden; border: 1px solid #cfcfcf; border-radius: 2px; background: #f6fafa; line-height: 1.21429em; padding: 10px;\">\n",
       "                    <div class=\"item_left\" style=\"width: 210px; float: left;\">\n",
       "                       <a href='https://www.arcgis.com/home/item.html?id=eafa4bcc4bb44bb6a8a3ffb29a8b47a4' target='_blank'>\n",
       "                        <img src='https://www.arcgis.com/sharing/rest//content/items/eafa4bcc4bb44bb6a8a3ffb29a8b47a4/info/thumbnail/thumbnail.png' class=\"itemThumbnail\">\n",
       "                       </a>\n",
       "                    </div>\n",
       "\n",
       "                    <div class=\"item_right\"     style=\"float: none; width: auto; overflow: hidden;\">\n",
       "                        <a href='https://www.arcgis.com/home/item.html?id=eafa4bcc4bb44bb6a8a3ffb29a8b47a4' target='_blank'><b>Housing for Seniors in Tompkins County NY</b>\n",
       "                        </a>\n",
       "                        <br/>Housing for Seniors in Tompkins County New York<img src='https://www.arcgis.com/home/js/jsapi/esri/css/images/item_type_icons/layers16.png' style=\"vertical-align:middle;\">Web Mapping Application by svetla\n",
       "                        <br/>Last Modified: מאי 15, 2018\n",
       "                        <br/>0 comments, 4,965 views\n",
       "                    </div>\n",
       "                </div>\n",
       "                "
      ],
      "text/plain": [
       "<Item title:\"Housing for Seniors in Tompkins County NY\" type:Web Mapping Application owner:svetla>"
      ]
     },
     "metadata": {},
     "output_type": "display_data"
    },
    {
     "data": {
      "text/html": [
       "<div class=\"item_container\" style=\"height: auto; overflow: hidden; border: 1px solid #cfcfcf; border-radius: 2px; background: #f6fafa; line-height: 1.21429em; padding: 10px;\">\n",
       "                    <div class=\"item_left\" style=\"width: 210px; float: left;\">\n",
       "                       <a href='https://www.arcgis.com/home/item.html?id=5177e20403a54036bd5bc19d0c2e7dba' target='_blank'>\n",
       "                        <img src='https://www.arcgis.com/sharing/rest//content/items/5177e20403a54036bd5bc19d0c2e7dba/info/thumbnail/thumbnail.png' class=\"itemThumbnail\">\n",
       "                       </a>\n",
       "                    </div>\n",
       "\n",
       "                    <div class=\"item_right\"     style=\"float: none; width: auto; overflow: hidden;\">\n",
       "                        <a href='https://www.arcgis.com/home/item.html?id=5177e20403a54036bd5bc19d0c2e7dba' target='_blank'><b>GIS for Elections: what is it and why we need it?</b>\n",
       "                        </a>\n",
       "                        <br/>#GISDay at Greater Ithaca Activities Center ( GIAC )<img src='https://www.arcgis.com/home/js/jsapi/esri/css/images/item_type_icons/layers16.png' style=\"vertical-align:middle;\">Web Mapping Application by svetla\n",
       "                        <br/>Last Modified: מאי 08, 2019\n",
       "                        <br/>0 comments, 1,649 views\n",
       "                    </div>\n",
       "                </div>\n",
       "                "
      ],
      "text/plain": [
       "<Item title:\"GIS for Elections: what is it and why we need it?\" type:Web Mapping Application owner:svetla>"
      ]
     },
     "metadata": {},
     "output_type": "display_data"
    },
    {
     "data": {
      "text/html": [
       "<div class=\"item_container\" style=\"height: auto; overflow: hidden; border: 1px solid #cfcfcf; border-radius: 2px; background: #f6fafa; line-height: 1.21429em; padding: 10px;\">\n",
       "                    <div class=\"item_left\" style=\"width: 210px; float: left;\">\n",
       "                       <a href='https://www.arcgis.com/home/item.html?id=5de5096ff6bb4ffb9c24c97603f8c4dc' target='_blank'>\n",
       "                        <img src='https://www.arcgis.com/sharing/rest//content/items/5de5096ff6bb4ffb9c24c97603f8c4dc/info/thumbnail/url.jpg' class=\"itemThumbnail\">\n",
       "                       </a>\n",
       "                    </div>\n",
       "\n",
       "                    <div class=\"item_right\"     style=\"float: none; width: auto; overflow: hidden;\">\n",
       "                        <a href='https://www.arcgis.com/home/item.html?id=5de5096ff6bb4ffb9c24c97603f8c4dc' target='_blank'><b>My Boy Scout Summer Camp at Rotary Scout Reservation!</b>\n",
       "                        </a>\n",
       "                        <br/>Camping trip<img src='https://www.arcgis.com/home/js/jsapi/esri/css/images/item_type_icons/layers16.png' style=\"vertical-align:middle;\">Web Mapping Application by rubenmcwilliams_NY_4H_Geo\n",
       "                        <br/>Last Modified: ספטמבר 21, 2015\n",
       "                        <br/>0 comments, 349 views\n",
       "                    </div>\n",
       "                </div>\n",
       "                "
      ],
      "text/plain": [
       "<Item title:\"My Boy Scout Summer Camp at Rotary Scout Reservation!\" type:Web Mapping Application owner:rubenmcwilliams_NY_4H_Geo>"
      ]
     },
     "metadata": {},
     "output_type": "display_data"
    }
   ],
   "source": [
    "from IPython.display import display\n",
    "\n",
    "items = gis.content.search('New York,NY')\n",
    "for item in items:\n",
    "    display(item)"
   ]
  },
  {
   "cell_type": "code",
   "execution_count": null,
   "metadata": {},
   "outputs": [],
   "source": [
    " "
   ]
  }
 ],
 "metadata": {
  "kernelspec": {
   "display_name": "Python 3",
   "language": "python",
   "name": "python3"
  },
  "language_info": {
   "codemirror_mode": {
    "name": "ipython",
    "version": 3
   },
   "file_extension": ".py",
   "mimetype": "text/x-python",
   "name": "python",
   "nbconvert_exporter": "python",
   "pygments_lexer": "ipython3",
   "version": "3.5.2"
  }
 },
 "nbformat": 4,
 "nbformat_minor": 2
}
