{
 "cells": [
  {
   "cell_type": "code",
   "execution_count": 1,
   "metadata": {},
   "outputs": [
    {
     "data": {
      "application/vnd.jupyter.widget-view+json": {
       "model_id": "1e6c082b13a34880b618e34d1ce6ded9",
       "version_major": 2,
       "version_minor": 0
      },
      "text/plain": [
       "A Jupyter Widget"
      ]
     },
     "metadata": {},
     "output_type": "display_data"
    },
    {
     "data": {
      "text/html": [
       "<div class=\"map-static-img-preview-cc12b1c2-6b78-466a-9b42-c503056507ad\"><img src=\"\"></img></div>"
      ],
      "text/plain": [
       "<IPython.core.display.HTML object>"
      ]
     },
     "metadata": {},
     "output_type": "display_data"
    }
   ],
   "source": [
    "#  install  arcgis C:\\Users\\gilfm\\Anaconda3\\Scripts\\conda install -c esri arcgis\n",
    "#                  C:\\Users\\gilfm\\Anaconda3\\Scripts\\conda  install -c conda-forge folium \n",
    "# https://github.com/Esri/arcgis-python-api\n",
    "from arcgis.gis import GIS\n",
    "gis = GIS()\n",
    "gis.map()"
   ]
  },
  {
   "cell_type": "code",
   "execution_count": 6,
   "metadata": {},
   "outputs": [
    {
     "data": {
      "text/html": [
       "<div class=\"9item_container\" style=\"height: auto; overflow: hidden; border: 1px solid #cfcfcf; border-radius: 2px; background: #f6fafa; line-height: 1.21429em; padding: 10px;\">\n",
       "                    <div class=\"item_left\" style=\"width: 210px; float: left;\">\n",
       "                       <a href='https://www.arcgis.com/home/user.html?user=rxsingh' target='_blank'>\n",
       "                        <img src='https://www.arcgis.com/sharing/rest/community/users/rxsingh/info/rohit150.png' class=\"itemThumbnail\">\n",
       "                       </a>\n",
       "                    </div>\n",
       "\n",
       "                    <div class=\"item_right\" style=\"float: none; width: auto; overflow: hidden;\">\n",
       "                        <a href='https://www.arcgis.com/home/user.html?user=rxsingh' target='_blank'><b>Rohit Singh</b>\n",
       "                        </a>\n",
       "                        <br/><br/><b>Bio</b>: \n",
       "                        <br/><b>First Name</b>: Rohit\n",
       "                        <br/><b>Last Name</b>: Singh\n",
       "                        <br/><b>Username</b>: rxsingh\n",
       "                        <br/><b>Joined</b>: July 02, 2014\n",
       "\n",
       "                    </div>\n",
       "                </div>\n",
       "                "
      ],
      "text/plain": [
       "<User username:rxsingh>"
      ]
     },
     "execution_count": 6,
     "metadata": {},
     "output_type": "execute_result"
    }
   ],
   "source": [
    "user = gis.users.get('rxsingh')\n",
    "user"
   ]
  },
  {
   "cell_type": "code",
   "execution_count": 7,
   "metadata": {
    "collapsed": true
   },
   "outputs": [],
   "source": [
    "gis?"
   ]
  },
  {
   "cell_type": "code",
   "execution_count": 2,
   "metadata": {},
   "outputs": [
    {
     "data": {
      "application/vnd.jupyter.widget-view+json": {
       "model_id": "752ddff0ebfb476d8e54b26c0290eda3",
       "version_major": 2,
       "version_minor": 0
      },
      "text/plain": [
       "A Jupyter Widget"
      ]
     },
     "metadata": {},
     "output_type": "display_data"
    },
    {
     "data": {
      "text/html": [
       "<div class=\"map-static-img-preview-8731fd6e-a241-4dfb-a253-af5e84bcbefc\"><img src=\"\"></img></div>"
      ],
      "text/plain": [
       "<IPython.core.display.HTML object>"
      ]
     },
     "metadata": {},
     "output_type": "display_data"
    }
   ],
   "source": [
    "map = gis.map(\"Palm Springs, CA\")\n",
    "map"
   ]
  },
  {
   "cell_type": "code",
   "execution_count": 13,
   "metadata": {
    "scrolled": true
   },
   "outputs": [
    {
     "data": {
      "text/html": [
       "<div class=\"item_container\" style=\"height: auto; overflow: hidden; border: 1px solid #cfcfcf; border-radius: 2px; background: #f6fafa; line-height: 1.21429em; padding: 10px;\">\n",
       "                    <div class=\"item_left\" style=\"width: 210px; float: left;\">\n",
       "                       <a href='https://www.arcgis.com/home/item.html?id=2f6fe778543a498784c272d43358f87e' target='_blank'>\n",
       "                        <img src='https://www.arcgis.com/sharing/rest//content/items/2f6fe778543a498784c272d43358f87e/info/thumbnail/thumbnail.png' class=\"itemThumbnail\">\n",
       "                       </a>\n",
       "                    </div>\n",
       "\n",
       "                    <div class=\"item_right\"     style=\"float: none; width: auto; overflow: hidden;\">\n",
       "                        <a href='https://www.arcgis.com/home/item.html?id=2f6fe778543a498784c272d43358f87e' target='_blank'><b>The Trails of Indian Canyons</b>\n",
       "                        </a>\n",
       "                        <br/>Pictures and descriptions of the trails that are within Indian Canyons in Palm Springs, California.<img src='https://www.arcgis.com/home/js/jsapi/esri/css/images/item_type_icons/layers16.png' style=\"vertical-align:middle;\">Web Mapping Application by kgrahamACBCI\n",
       "                        <br/>Last Modified: אוקטובר 23, 2018\n",
       "                        <br/>1 comments, 1,449 views\n",
       "                    </div>\n",
       "                </div>\n",
       "                "
      ],
      "text/plain": [
       "<Item title:\"The Trails of Indian Canyons\" type:Web Mapping Application owner:kgrahamACBCI>"
      ]
     },
     "metadata": {},
     "output_type": "display_data"
    },
    {
     "data": {
      "text/html": [
       "<div class=\"item_container\" style=\"height: auto; overflow: hidden; border: 1px solid #cfcfcf; border-radius: 2px; background: #f6fafa; line-height: 1.21429em; padding: 10px;\">\n",
       "                    <div class=\"item_left\" style=\"width: 210px; float: left;\">\n",
       "                       <a href='https://www.arcgis.com/home/item.html?id=4e8a0627dbd34a22a0c35640c74a44d7' target='_blank'>\n",
       "                        <img src='https://www.arcgis.com/sharing/rest//content/items/4e8a0627dbd34a22a0c35640c74a44d7/info/thumbnail/ago_downloaded.png' class=\"itemThumbnail\">\n",
       "                       </a>\n",
       "                    </div>\n",
       "\n",
       "                    <div class=\"item_right\"     style=\"float: none; width: auto; overflow: hidden;\">\n",
       "                        <a href='https://www.arcgis.com/home/item.html?id=4e8a0627dbd34a22a0c35640c74a44d7' target='_blank'><b>West Fork Loop Trail</b>\n",
       "                        </a>\n",
       "                        <br/><img src='https://www.arcgis.com/home/js/jsapi/esri/css/images/item_type_icons/layers16.png' style=\"vertical-align:middle;\">Web Mapping Application by kgrahamACBCI\n",
       "                        <br/>Last Modified: ינואר 05, 2017\n",
       "                        <br/>0 comments, 1,245 views\n",
       "                    </div>\n",
       "                </div>\n",
       "                "
      ],
      "text/plain": [
       "<Item title:\"West Fork Loop Trail\" type:Web Mapping Application owner:kgrahamACBCI>"
      ]
     },
     "metadata": {},
     "output_type": "display_data"
    },
    {
     "data": {
      "text/html": [
       "<div class=\"item_container\" style=\"height: auto; overflow: hidden; border: 1px solid #cfcfcf; border-radius: 2px; background: #f6fafa; line-height: 1.21429em; padding: 10px;\">\n",
       "                    <div class=\"item_left\" style=\"width: 210px; float: left;\">\n",
       "                       <a href='https://www.arcgis.com/home/item.html?id=fbf39cd57f994fdb94e0d52aed32aeb2' target='_blank'>\n",
       "                        <img src='https://www.arcgis.com/sharing/rest//content/items/fbf39cd57f994fdb94e0d52aed32aeb2/info/thumbnail/Screen_Shot_2012-07-29_at_4.06.36_AM.png' class=\"itemThumbnail\">\n",
       "                       </a>\n",
       "                    </div>\n",
       "\n",
       "                    <div class=\"item_right\"     style=\"float: none; width: auto; overflow: hidden;\">\n",
       "                        <a href='https://www.arcgis.com/home/item.html?id=fbf39cd57f994fdb94e0d52aed32aeb2' target='_blank'><b>Palmer Park Bike Trails</b>\n",
       "                        </a>\n",
       "                        <br/>I have started trying to digitize the trails of palmer park. It is not perfect and I am still building it so be kind. Thank you : )<img src='https://www.arcgis.com/home/js/jsapi/esri/css/images/item_type_icons/layers16.png' style=\"vertical-align:middle;\">Web Mapping Application by dontpanic42\n",
       "                        <br/>Last Modified: יולי 29, 2012\n",
       "                        <br/>1 comments, 36 views\n",
       "                    </div>\n",
       "                </div>\n",
       "                "
      ],
      "text/plain": [
       "<Item title:\"Palmer Park Bike Trails\" type:Web Mapping Application owner:dontpanic42>"
      ]
     },
     "metadata": {},
     "output_type": "display_data"
    },
    {
     "data": {
      "text/html": [
       "<div class=\"item_container\" style=\"height: auto; overflow: hidden; border: 1px solid #cfcfcf; border-radius: 2px; background: #f6fafa; line-height: 1.21429em; padding: 10px;\">\n",
       "                    <div class=\"item_left\" style=\"width: 210px; float: left;\">\n",
       "                       <a href='https://www.arcgis.com/home/item.html?id=98ee3289786e45a9b4f06cc20fa40467' target='_blank'>\n",
       "                        <img src='https://www.arcgis.com/sharing/rest//content/items/98ee3289786e45a9b4f06cc20fa40467/info/thumbnail/_7B682C3487-0C68-45BC-BDFD-AD304D529B96_7D.png' class=\"itemThumbnail\">\n",
       "                       </a>\n",
       "                    </div>\n",
       "\n",
       "                    <div class=\"item_right\"     style=\"float: none; width: auto; overflow: hidden;\">\n",
       "                        <a href='https://www.arcgis.com/home/item.html?id=98ee3289786e45a9b4f06cc20fa40467' target='_blank'><b>Loop5EastFork</b>\n",
       "                        </a>\n",
       "                        <br/>East Fork Loop<img src='https://www.arcgis.com/home/js/jsapi/esri/css/images/item_type_icons/maps16.png' style=\"vertical-align:middle;\">Web Map by kgrahamACBCI\n",
       "                        <br/>Last Modified: אוקטובר 29, 2018\n",
       "                        <br/>0 comments, 1,500 views\n",
       "                    </div>\n",
       "                </div>\n",
       "                "
      ],
      "text/plain": [
       "<Item title:\"Loop5EastFork\" type:Web Map owner:kgrahamACBCI>"
      ]
     },
     "metadata": {},
     "output_type": "display_data"
    },
    {
     "data": {
      "text/html": [
       "<div class=\"item_container\" style=\"height: auto; overflow: hidden; border: 1px solid #cfcfcf; border-radius: 2px; background: #f6fafa; line-height: 1.21429em; padding: 10px;\">\n",
       "                    <div class=\"item_left\" style=\"width: 210px; float: left;\">\n",
       "                       <a href='https://www.arcgis.com/home/item.html?id=720a2248feee4c53a78351fb4ae8e016' target='_blank'>\n",
       "                        <img src='https://www.arcgis.com/sharing/rest//content/items/720a2248feee4c53a78351fb4ae8e016/info/thumbnail/thumbnail.png' class=\"itemThumbnail\">\n",
       "                       </a>\n",
       "                    </div>\n",
       "\n",
       "                    <div class=\"item_right\"     style=\"float: none; width: auto; overflow: hidden;\">\n",
       "                        <a href='https://www.arcgis.com/home/item.html?id=720a2248feee4c53a78351fb4ae8e016' target='_blank'><b>Loop3Hahn_WFL</b>\n",
       "                        </a>\n",
       "                        <br/>Hahn Loop Trail<img src='https://www.arcgis.com/home/js/jsapi/esri/css/images/item_type_icons/featureshosted16.png' style=\"vertical-align:middle;\">Feature Layer Collection by kgrahamACBCI\n",
       "                        <br/>Last Modified: פברואר 28, 2018\n",
       "                        <br/>0 comments, 4,370 views\n",
       "                    </div>\n",
       "                </div>\n",
       "                "
      ],
      "text/plain": [
       "<Item title:\"Loop3Hahn_WFL\" type:Feature Layer Collection owner:kgrahamACBCI>"
      ]
     },
     "metadata": {},
     "output_type": "display_data"
    },
    {
     "data": {
      "text/html": [
       "<div class=\"item_container\" style=\"height: auto; overflow: hidden; border: 1px solid #cfcfcf; border-radius: 2px; background: #f6fafa; line-height: 1.21429em; padding: 10px;\">\n",
       "                    <div class=\"item_left\" style=\"width: 210px; float: left;\">\n",
       "                       <a href='https://www.arcgis.com/home/item.html?id=a94bd781b7594712934945b655af706e' target='_blank'>\n",
       "                        <img src='https://www.arcgis.com/sharing/rest//content/items/a94bd781b7594712934945b655af706e/info/thumbnail/_7B8BE056A2-81C4-47F7-923D-7AB99B178789_7D.png' class=\"itemThumbnail\">\n",
       "                       </a>\n",
       "                    </div>\n",
       "\n",
       "                    <div class=\"item_right\"     style=\"float: none; width: auto; overflow: hidden;\">\n",
       "                        <a href='https://www.arcgis.com/home/item.html?id=a94bd781b7594712934945b655af706e' target='_blank'><b>DryWashLoop</b>\n",
       "                        </a>\n",
       "                        <br/>Web map showing a loop trail that begins at the Trading Post parking lot, heads down Palm Canyon Trail to Dry Wash Trail, to East Fork Loop Trail, to East Fork Trail and back up Palm Canyon.<img src='https://www.arcgis.com/home/js/jsapi/esri/css/images/item_type_icons/maps16.png' style=\"vertical-align:middle;\">Web Map by kgrahamACBCI\n",
       "                        <br/>Last Modified: אוקטובר 29, 2018\n",
       "                        <br/>0 comments, 793 views\n",
       "                    </div>\n",
       "                </div>\n",
       "                "
      ],
      "text/plain": [
       "<Item title:\"DryWashLoop\" type:Web Map owner:kgrahamACBCI>"
      ]
     },
     "metadata": {},
     "output_type": "display_data"
    },
    {
     "data": {
      "text/html": [
       "<div class=\"item_container\" style=\"height: auto; overflow: hidden; border: 1px solid #cfcfcf; border-radius: 2px; background: #f6fafa; line-height: 1.21429em; padding: 10px;\">\n",
       "                    <div class=\"item_left\" style=\"width: 210px; float: left;\">\n",
       "                       <a href='https://www.arcgis.com/home/item.html?id=9a6abd0492164015870a73e07514f216' target='_blank'>\n",
       "                        <img src='https://www.arcgis.com/sharing/rest//content/items/9a6abd0492164015870a73e07514f216/info/thumbnail/_7BF03E8816-2910-4393-8AF5-816ACB90E04A_7D.png' class=\"itemThumbnail\">\n",
       "                       </a>\n",
       "                    </div>\n",
       "\n",
       "                    <div class=\"item_right\"     style=\"float: none; width: auto; overflow: hidden;\">\n",
       "                        <a href='https://www.arcgis.com/home/item.html?id=9a6abd0492164015870a73e07514f216' target='_blank'><b>Andreas</b>\n",
       "                        </a>\n",
       "                        <br/>Andreas Canyon Loop Trail<img src='https://www.arcgis.com/home/js/jsapi/esri/css/images/item_type_icons/maps16.png' style=\"vertical-align:middle;\">Web Map by kgrahamACBCI\n",
       "                        <br/>Last Modified: אוקטובר 29, 2018\n",
       "                        <br/>0 comments, 15,449 views\n",
       "                    </div>\n",
       "                </div>\n",
       "                "
      ],
      "text/plain": [
       "<Item title:\"Andreas\" type:Web Map owner:kgrahamACBCI>"
      ]
     },
     "metadata": {},
     "output_type": "display_data"
    },
    {
     "data": {
      "text/html": [
       "<div class=\"item_container\" style=\"height: auto; overflow: hidden; border: 1px solid #cfcfcf; border-radius: 2px; background: #f6fafa; line-height: 1.21429em; padding: 10px;\">\n",
       "                    <div class=\"item_left\" style=\"width: 210px; float: left;\">\n",
       "                       <a href='https://www.arcgis.com/home/item.html?id=1aa6cf96488a45a3a69d21eaaef45458' target='_blank'>\n",
       "                        <img src='https://www.arcgis.com/sharing/rest//content/items/1aa6cf96488a45a3a69d21eaaef45458/info/thumbnail/thumbnail.png' class=\"itemThumbnail\">\n",
       "                       </a>\n",
       "                    </div>\n",
       "\n",
       "                    <div class=\"item_right\"     style=\"float: none; width: auto; overflow: hidden;\">\n",
       "                        <a href='https://www.arcgis.com/home/item.html?id=1aa6cf96488a45a3a69d21eaaef45458' target='_blank'><b>Palm Canyon</b>\n",
       "                        </a>\n",
       "                        <br/>Story Map highlighting trails that are in Palm Canyon within Agua Caliente Band Of Cahuilla Indians' Indian Canyons in Palm Springs, California.<img src='https://www.arcgis.com/home/js/jsapi/esri/css/images/item_type_icons/layers16.png' style=\"vertical-align:middle;\">Web Mapping Application by kgrahamACBCI\n",
       "                        <br/>Last Modified: ינואר 02, 2019\n",
       "                        <br/>0 comments, 19,038 views\n",
       "                    </div>\n",
       "                </div>\n",
       "                "
      ],
      "text/plain": [
       "<Item title:\"Palm Canyon\" type:Web Mapping Application owner:kgrahamACBCI>"
      ]
     },
     "metadata": {},
     "output_type": "display_data"
    },
    {
     "data": {
      "text/html": [
       "<div class=\"item_container\" style=\"height: auto; overflow: hidden; border: 1px solid #cfcfcf; border-radius: 2px; background: #f6fafa; line-height: 1.21429em; padding: 10px;\">\n",
       "                    <div class=\"item_left\" style=\"width: 210px; float: left;\">\n",
       "                       <a href='https://www.arcgis.com/home/item.html?id=fbe6713d6aa94e0fb4fec08952949119' target='_blank'>\n",
       "                        <img src='https://www.arcgis.com/sharing/rest//content/items/fbe6713d6aa94e0fb4fec08952949119/info/thumbnail/palm_springs.png' class=\"itemThumbnail\">\n",
       "                       </a>\n",
       "                    </div>\n",
       "\n",
       "                    <div class=\"item_right\"     style=\"float: none; width: auto; overflow: hidden;\">\n",
       "                        <a href='https://www.arcgis.com/home/item.html?id=fbe6713d6aa94e0fb4fec08952949119' target='_blank'><b>Palm Springs Trails</b>\n",
       "                        </a>\n",
       "                        <br/>Trails in the Palm Springs area affected by the BLM - Agua Caliente land exchange<img src='https://www.arcgis.com/home/js/jsapi/esri/css/images/item_type_icons/featureshosted16.png' style=\"vertical-align:middle;\">Feature Layer Collection by paniello_geodesign\n",
       "                        <br/>Last Modified: מרץ 13, 2015\n",
       "                        <br/>0 comments, 406 views\n",
       "                    </div>\n",
       "                </div>\n",
       "                "
      ],
      "text/plain": [
       "<Item title:\"Palm Springs Trails\" type:Feature Layer Collection owner:paniello_geodesign>"
      ]
     },
     "metadata": {},
     "output_type": "display_data"
    },
    {
     "data": {
      "text/html": [
       "<div class=\"item_container\" style=\"height: auto; overflow: hidden; border: 1px solid #cfcfcf; border-radius: 2px; background: #f6fafa; line-height: 1.21429em; padding: 10px;\">\n",
       "                    <div class=\"item_left\" style=\"width: 210px; float: left;\">\n",
       "                       <a href='https://www.arcgis.com/home/item.html?id=9fd8fb49280a4a7fba574e67dc19f3a9' target='_blank'>\n",
       "                        <img src='https://www.arcgis.com/sharing/rest//content/items/9fd8fb49280a4a7fba574e67dc19f3a9/info/thumbnail/thumbnail.png' class=\"itemThumbnail\">\n",
       "                       </a>\n",
       "                    </div>\n",
       "\n",
       "                    <div class=\"item_right\"     style=\"float: none; width: auto; overflow: hidden;\">\n",
       "                        <a href='https://www.arcgis.com/home/item.html?id=9fd8fb49280a4a7fba574e67dc19f3a9' target='_blank'><b>Loop5EastFork_WFL</b>\n",
       "                        </a>\n",
       "                        <br/>East Fork Loop<img src='https://www.arcgis.com/home/js/jsapi/esri/css/images/item_type_icons/layers16.png' style=\"vertical-align:middle;\">Service Definition by kgrahamACBCI\n",
       "                        <br/>Last Modified: ספטמבר 28, 2016\n",
       "                        <br/>0 comments, 4 views\n",
       "                    </div>\n",
       "                </div>\n",
       "                "
      ],
      "text/plain": [
       "<Item title:\"Loop5EastFork_WFL\" type:Service Definition owner:kgrahamACBCI>"
      ]
     },
     "metadata": {},
     "output_type": "display_data"
    }
   ],
   "source": [
    "from IPython.display import display\n",
    "\n",
    "items = gis.content.search('Palm Springs Trails')\n",
    "for item in items:\n",
    "    display(item)"
   ]
  },
  {
   "cell_type": "code",
   "execution_count": 8,
   "metadata": {},
   "outputs": [
    {
     "data": {
      "text/plain": [
       "[<Item title:\"Gemeentegrenzen 2017\" type:Feature Layer Collection owner:Esri_NL_Content>,\n",
       " <Item title:\"BGT - pand\" type:Feature Layer Collection owner:Esri_NL_Content>,\n",
       " <Item title:\"BGT - vegetatie object punt\" type:Feature Layer Collection owner:Esri_NL_Content>,\n",
       " <Item title:\"Provincies\" type:Feature Layer Collection owner:Esri_NL_Content>,\n",
       " <Item title:\"Gemeentegrenzen 2016\" type:Feature Layer Collection owner:Esri_NL_Content>,\n",
       " <Item title:\"NWB - hectopunten\" type:Feature Layer Collection owner:Esri_NL_Content>,\n",
       " <Item title:\"COROP - COördinatiecommissie Regionaal OnderzoeksProgramma\" type:Feature Layer Collection owner:Esri_NL_Content>,\n",
       " <Item title:\"Gemeenten 2013 - CBS Wijk- en Buurtkaart\" type:Feature Layer Collection owner:Esri_NL_Content>,\n",
       " <Item title:\"BGT - kast\" type:Feature Layer Collection owner:Esri_NL_Content>,\n",
       " <Item title:\"Lokale bekendmakingen\" type:Feature Layer Collection owner:Esri_NL_Content>]"
      ]
     },
     "execution_count": 8,
     "metadata": {},
     "output_type": "execute_result"
    }
   ],
   "source": [
    "# search and list all feature layers in my contents\n",
    "search_result = gis.content.search(query=\"\", item_type=\"Feature Layer\")\n",
    "search_result "
   ]
  },
  {
   "cell_type": "code",
   "execution_count": 10,
   "metadata": {},
   "outputs": [
    {
     "data": {
      "text/plain": [
       "[<Item title:\"Lokale bekendmakingen\" type:Feature Layer Collection owner:Esri_NL_Content>,\n",
       " <Item title:\"Bekendmakingen\" type:Feature Layer Collection owner:GemeenteLeusden>,\n",
       " <Item title:\"Bekendmakingen\" type:Feature Layer Collection owner:avanzutphen_esrinl>,\n",
       " <Item title:\"Lokale bekendmakingen\" type:Feature Layer Collection owner:duurzaamdenhaag>]"
      ]
     },
     "execution_count": 10,
     "metadata": {},
     "output_type": "execute_result"
    }
   ],
   "source": [
    "search_result = gis.content.search(query=\"Lokale bekendmakingen\", item_type=\"Feature Layer\")\n",
    "search_result\n",
    "\n"
   ]
  },
  {
   "cell_type": "code",
   "execution_count": 11,
   "metadata": {},
   "outputs": [
    {
     "data": {
      "text/plain": [
       "[<Item title:\"USA Food Expenditures at Home vs. Away from Home\" type:Web Map owner:jimhe>,\n",
       " <Item title:\"USA State Plane Zones\" type:Layer Package owner:esri_dm>,\n",
       " <Item title:\"USA Population Density\" type:Map Image Layer owner:AtlasPublisher>,\n",
       " <Item title:\"USA Wildfire Activity\" type:Map Image Layer owner:esri>,\n",
       " <Item title:\"USA Federal Lands\" type:Web Map owner:esri>,\n",
       " <Item title:\"USA Soils Available Water Storage (Mature Support)\" type:Imagery Layer owner:esri>,\n",
       " <Item title:\"USA Soils Erosion Class (Mature Support)\" type:Imagery Layer owner:esri>,\n",
       " <Item title:\"USA Topographic Maps (Mature Support)\" type:Map Image Layer owner:esri>,\n",
       " <Item title:\"USA NAIP Imagery\" type:Web Map owner:esri>,\n",
       " <Item title:\"USA Median Age\" type:Map Image Layer owner:AtlasPublisher>]"
      ]
     },
     "execution_count": 11,
     "metadata": {},
     "output_type": "execute_result"
    }
   ],
   "source": [
    "# search for content that begin with a prefix - say 'USA'\n",
    "search_result_USA = gis.content.search(query=\"title:USA*\")\n",
    "search_result_USA"
   ]
  },
  {
   "cell_type": "code",
   "execution_count": 12,
   "metadata": {},
   "outputs": [
    {
     "data": {
      "text/html": [
       "<div class=\"item_container\" style=\"height: auto; overflow: hidden; border: 1px solid #cfcfcf; border-radius: 2px; background: #f6fafa; line-height: 1.21429em; padding: 10px;\">\n",
       "                    <div class=\"item_left\" style=\"width: 210px; float: left;\">\n",
       "                       <a href='https://www.arcgis.com/home/item.html?id=b69d3dbfe28b4bf89a92a2e431b9ab7a' target='_blank'>\n",
       "                        <img src='https://www.arcgis.com/sharing/rest//content/items/b69d3dbfe28b4bf89a92a2e431b9ab7a/info/thumbnail/thumbnail.png' class=\"itemThumbnail\">\n",
       "                       </a>\n",
       "                    </div>\n",
       "\n",
       "                    <div class=\"item_right\"     style=\"float: none; width: auto; overflow: hidden;\">\n",
       "                        <a href='https://www.arcgis.com/home/item.html?id=b69d3dbfe28b4bf89a92a2e431b9ab7a' target='_blank'><b>USA Food Expenditures at Home vs. Away from Home</b>\n",
       "                        </a>\n",
       "                        <br/>Depicts the ratio of dollars spent on food at home versus away from home in the USA.  Think \"groceries\" versus \"restaurants\".  Red area households spend noticeably more at home, blue area households spend noticeably more away from home.<img src='https://www.arcgis.com/home/js/jsapi/esri/css/images/item_type_icons/maps16.png' style=\"vertical-align:middle;\">Web Map by jimhe\n",
       "                        <br/>Last Modified: נובמבר 01, 2017\n",
       "                        <br/>11 comments, 56,124 views\n",
       "                    </div>\n",
       "                </div>\n",
       "                "
      ],
      "text/plain": [
       "<Item title:\"USA Food Expenditures at Home vs. Away from Home\" type:Web Map owner:jimhe>"
      ]
     },
     "metadata": {},
     "output_type": "display_data"
    },
    {
     "data": {
      "text/html": [
       "<div class=\"item_container\" style=\"height: auto; overflow: hidden; border: 1px solid #cfcfcf; border-radius: 2px; background: #f6fafa; line-height: 1.21429em; padding: 10px;\">\n",
       "                    <div class=\"item_left\" style=\"width: 210px; float: left;\">\n",
       "                       <a href='https://www.arcgis.com/home/item.html?id=9e1a1714b2804858b49a4c19ab8a447c' target='_blank'>\n",
       "                        <img src='https://www.arcgis.com/sharing/rest//content/items/9e1a1714b2804858b49a4c19ab8a447c/info/thumbnail/USA_state_plane_zones.png' class=\"itemThumbnail\">\n",
       "                       </a>\n",
       "                    </div>\n",
       "\n",
       "                    <div class=\"item_right\"     style=\"float: none; width: auto; overflow: hidden;\">\n",
       "                        <a href='https://www.arcgis.com/home/item.html?id=9e1a1714b2804858b49a4c19ab8a447c' target='_blank'><b>USA State Plane Zones</b>\n",
       "                        </a>\n",
       "                        <br/>This group layer presents the State Plane Coordinate System (SPCS) Zones for both the 1983 and 1927 North American Datum within the United States.<img src='https://www.arcgis.com/home/js/jsapi/esri/css/images/item_type_icons/layers16.png' style=\"vertical-align:middle;\">Layer Package by esri_dm\n",
       "                        <br/>Last Modified: מרץ 21, 2019\n",
       "                        <br/>0 comments, 39,148 views\n",
       "                    </div>\n",
       "                </div>\n",
       "                "
      ],
      "text/plain": [
       "<Item title:\"USA State Plane Zones\" type:Layer Package owner:esri_dm>"
      ]
     },
     "metadata": {},
     "output_type": "display_data"
    },
    {
     "data": {
      "text/html": [
       "<div class=\"item_container\" style=\"height: auto; overflow: hidden; border: 1px solid #cfcfcf; border-radius: 2px; background: #f6fafa; line-height: 1.21429em; padding: 10px;\">\n",
       "                    <div class=\"item_left\" style=\"width: 210px; float: left;\">\n",
       "                       <a href='https://www.arcgis.com/home/item.html?id=fab7849b55d54f0f8f246605f6ee9306' target='_blank'>\n",
       "                        <img src='https://www.arcgis.com/sharing/rest//content/items/fab7849b55d54f0f8f246605f6ee9306/info/thumbnail/PopDensity.jpg' class=\"itemThumbnail\">\n",
       "                       </a>\n",
       "                    </div>\n",
       "\n",
       "                    <div class=\"item_right\"     style=\"float: none; width: auto; overflow: hidden;\">\n",
       "                        <a href='https://www.arcgis.com/home/item.html?id=fab7849b55d54f0f8f246605f6ee9306' target='_blank'><b>USA Population Density</b>\n",
       "                        </a>\n",
       "                        <br/>This map service shows the population density in the United States in 2012.<img src='https://www.arcgis.com/home/js/jsapi/esri/css/images/item_type_icons/mapimages16.png' style=\"vertical-align:middle;\">Map Image Layer by AtlasPublisher\n",
       "                        <br/>Last Modified: מאי 03, 2018\n",
       "                        <br/>0 comments, 47,191 views\n",
       "                    </div>\n",
       "                </div>\n",
       "                "
      ],
      "text/plain": [
       "<Item title:\"USA Population Density\" type:Map Image Layer owner:AtlasPublisher>"
      ]
     },
     "metadata": {},
     "output_type": "display_data"
    },
    {
     "data": {
      "text/html": [
       "<div class=\"item_container\" style=\"height: auto; overflow: hidden; border: 1px solid #cfcfcf; border-radius: 2px; background: #f6fafa; line-height: 1.21429em; padding: 10px;\">\n",
       "                    <div class=\"item_left\" style=\"width: 210px; float: left;\">\n",
       "                       <a href='https://www.arcgis.com/home/item.html?id=4d63f7de557c4a69bab44c376c0d3565' target='_blank'>\n",
       "                        <img src='https://www.arcgis.com/sharing/rest//content/items/4d63f7de557c4a69bab44c376c0d3565/info/thumbnail/ago_downloaded.jpg' class=\"itemThumbnail\">\n",
       "                       </a>\n",
       "                    </div>\n",
       "\n",
       "                    <div class=\"item_right\"     style=\"float: none; width: auto; overflow: hidden;\">\n",
       "                        <a href='https://www.arcgis.com/home/item.html?id=4d63f7de557c4a69bab44c376c0d3565' target='_blank'><b>USA Wildfire Activity</b>\n",
       "                        </a>\n",
       "                        <br/>This layer presents recent wildfire activity for the United States, featuring data from GeoMAC. ArcGIS Online subscription required.<img src='https://www.arcgis.com/home/js/jsapi/esri/css/images/item_type_icons/mapimages16.png' style=\"vertical-align:middle;\">Map Image Layer by esri\n",
       "                        <br/>Last Modified: ספטמבר 20, 2017\n",
       "                        <br/>4 comments, 5,268,043 views\n",
       "                    </div>\n",
       "                </div>\n",
       "                "
      ],
      "text/plain": [
       "<Item title:\"USA Wildfire Activity\" type:Map Image Layer owner:esri>"
      ]
     },
     "metadata": {},
     "output_type": "display_data"
    },
    {
     "data": {
      "text/html": [
       "<div class=\"item_container\" style=\"height: auto; overflow: hidden; border: 1px solid #cfcfcf; border-radius: 2px; background: #f6fafa; line-height: 1.21429em; padding: 10px;\">\n",
       "                    <div class=\"item_left\" style=\"width: 210px; float: left;\">\n",
       "                       <a href='https://www.arcgis.com/home/item.html?id=8047eda3656e4241b75463a5451ba9e2' target='_blank'>\n",
       "                        <img src='https://www.arcgis.com/sharing/rest//content/items/8047eda3656e4241b75463a5451ba9e2/info/thumbnail/fedlands.jpg' class=\"itemThumbnail\">\n",
       "                       </a>\n",
       "                    </div>\n",
       "\n",
       "                    <div class=\"item_right\"     style=\"float: none; width: auto; overflow: hidden;\">\n",
       "                        <a href='https://www.arcgis.com/home/item.html?id=8047eda3656e4241b75463a5451ba9e2' target='_blank'><b>USA Federal Lands</b>\n",
       "                        </a>\n",
       "                        <br/>This web map presents the federal and tribal land areas of the United States<img src='https://www.arcgis.com/home/js/jsapi/esri/css/images/item_type_icons/maps16.png' style=\"vertical-align:middle;\">Web Map by esri\n",
       "                        <br/>Last Modified: דצמבר 08, 2016\n",
       "                        <br/>1 comments, 133,434 views\n",
       "                    </div>\n",
       "                </div>\n",
       "                "
      ],
      "text/plain": [
       "<Item title:\"USA Federal Lands\" type:Web Map owner:esri>"
      ]
     },
     "metadata": {},
     "output_type": "display_data"
    },
    {
     "data": {
      "text/html": [
       "<div class=\"item_container\" style=\"height: auto; overflow: hidden; border: 1px solid #cfcfcf; border-radius: 2px; background: #f6fafa; line-height: 1.21429em; padding: 10px;\">\n",
       "                    <div class=\"item_left\" style=\"width: 210px; float: left;\">\n",
       "                       <a href='https://www.arcgis.com/home/item.html?id=9cf1a717ea804171972d9a41cf0ca9cd' target='_blank'>\n",
       "                        <img src='https://www.arcgis.com/sharing/rest//content/items/9cf1a717ea804171972d9a41cf0ca9cd/info/thumbnail/ago_downloaded.png' class=\"itemThumbnail\">\n",
       "                       </a>\n",
       "                    </div>\n",
       "\n",
       "                    <div class=\"item_right\"     style=\"float: none; width: auto; overflow: hidden;\">\n",
       "                        <a href='https://www.arcgis.com/home/item.html?id=9cf1a717ea804171972d9a41cf0ca9cd' target='_blank'><b>USA Soils Available Water Storage (Mature Support)</b>\n",
       "                        </a>\n",
       "                        <br/>This item is in mature support. See the layer description for a link to a newer version of this layer.<img src='https://www.arcgis.com/home/js/jsapi/esri/css/images/item_type_icons/imagery16.png' style=\"vertical-align:middle;\">Imagery Layer by esri\n",
       "                        <br/>Last Modified: ספטמבר 21, 2018\n",
       "                        <br/>0 comments, 11,722 views\n",
       "                    </div>\n",
       "                </div>\n",
       "                "
      ],
      "text/plain": [
       "<Item title:\"USA Soils Available Water Storage (Mature Support)\" type:Imagery Layer owner:esri>"
      ]
     },
     "metadata": {},
     "output_type": "display_data"
    },
    {
     "data": {
      "text/html": [
       "<div class=\"item_container\" style=\"height: auto; overflow: hidden; border: 1px solid #cfcfcf; border-radius: 2px; background: #f6fafa; line-height: 1.21429em; padding: 10px;\">\n",
       "                    <div class=\"item_left\" style=\"width: 210px; float: left;\">\n",
       "                       <a href='https://www.arcgis.com/home/item.html?id=11158e8f9e0f4049af60187703a53306' target='_blank'>\n",
       "                        <img src='https://www.arcgis.com/sharing/rest//content/items/11158e8f9e0f4049af60187703a53306/info/thumbnail/ago_downloaded.png' class=\"itemThumbnail\">\n",
       "                       </a>\n",
       "                    </div>\n",
       "\n",
       "                    <div class=\"item_right\"     style=\"float: none; width: auto; overflow: hidden;\">\n",
       "                        <a href='https://www.arcgis.com/home/item.html?id=11158e8f9e0f4049af60187703a53306' target='_blank'><b>USA Soils Erosion Class (Mature Support)</b>\n",
       "                        </a>\n",
       "                        <br/>This item is in Mature Support and has been replaced by a new layer.   See the layer description for a link to a newer version of this layer.<img src='https://www.arcgis.com/home/js/jsapi/esri/css/images/item_type_icons/imagery16.png' style=\"vertical-align:middle;\">Imagery Layer by esri\n",
       "                        <br/>Last Modified: ספטמבר 21, 2018\n",
       "                        <br/>0 comments, 12,948 views\n",
       "                    </div>\n",
       "                </div>\n",
       "                "
      ],
      "text/plain": [
       "<Item title:\"USA Soils Erosion Class (Mature Support)\" type:Imagery Layer owner:esri>"
      ]
     },
     "metadata": {},
     "output_type": "display_data"
    },
    {
     "data": {
      "text/html": [
       "<div class=\"item_container\" style=\"height: auto; overflow: hidden; border: 1px solid #cfcfcf; border-radius: 2px; background: #f6fafa; line-height: 1.21429em; padding: 10px;\">\n",
       "                    <div class=\"item_left\" style=\"width: 210px; float: left;\">\n",
       "                       <a href='https://www.arcgis.com/home/item.html?id=73ed4be5e5214b8f9751842aef881074' target='_blank'>\n",
       "                        <img src='https://www.arcgis.com/sharing/rest//content/items/73ed4be5e5214b8f9751842aef881074/info/thumbnail/ago_downloaded.png' class=\"itemThumbnail\">\n",
       "                       </a>\n",
       "                    </div>\n",
       "\n",
       "                    <div class=\"item_right\"     style=\"float: none; width: auto; overflow: hidden;\">\n",
       "                        <a href='https://www.arcgis.com/home/item.html?id=73ed4be5e5214b8f9751842aef881074' target='_blank'><b>USA Topographic Maps (Mature Support)</b>\n",
       "                        </a>\n",
       "                        <br/>This item is in mature support.  This map service presents land cover imagery for the world and detailed topographic maps for the United States at multiple scales.<img src='https://www.arcgis.com/home/js/jsapi/esri/css/images/item_type_icons/mapimages16.png' style=\"vertical-align:middle;\">Map Image Layer by esri\n",
       "                        <br/>Last Modified: מרץ 13, 2019\n",
       "                        <br/>0 comments, 416,475 views\n",
       "                    </div>\n",
       "                </div>\n",
       "                "
      ],
      "text/plain": [
       "<Item title:\"USA Topographic Maps (Mature Support)\" type:Map Image Layer owner:esri>"
      ]
     },
     "metadata": {},
     "output_type": "display_data"
    },
    {
     "data": {
      "text/html": [
       "<div class=\"item_container\" style=\"height: auto; overflow: hidden; border: 1px solid #cfcfcf; border-radius: 2px; background: #f6fafa; line-height: 1.21429em; padding: 10px;\">\n",
       "                    <div class=\"item_left\" style=\"width: 210px; float: left;\">\n",
       "                       <a href='https://www.arcgis.com/home/item.html?id=2984dd4517c14e00b9d810bd35b5cc5b' target='_blank'>\n",
       "                        <img src='https://www.arcgis.com/sharing/rest//content/items/2984dd4517c14e00b9d810bd35b5cc5b/info/thumbnail/ago_downloaded.png' class=\"itemThumbnail\">\n",
       "                       </a>\n",
       "                    </div>\n",
       "\n",
       "                    <div class=\"item_right\"     style=\"float: none; width: auto; overflow: hidden;\">\n",
       "                        <a href='https://www.arcgis.com/home/item.html?id=2984dd4517c14e00b9d810bd35b5cc5b' target='_blank'><b>USA NAIP Imagery</b>\n",
       "                        </a>\n",
       "                        <br/>This map features recent high-resolution (1m) aerial imagery for the continental United States made available by the USDA Farm Services Agency.<img src='https://www.arcgis.com/home/js/jsapi/esri/css/images/item_type_icons/maps16.png' style=\"vertical-align:middle;\">Web Map by esri\n",
       "                        <br/>Last Modified: פברואר 14, 2019\n",
       "                        <br/>2 comments, 24,271 views\n",
       "                    </div>\n",
       "                </div>\n",
       "                "
      ],
      "text/plain": [
       "<Item title:\"USA NAIP Imagery\" type:Web Map owner:esri>"
      ]
     },
     "metadata": {},
     "output_type": "display_data"
    },
    {
     "data": {
      "text/html": [
       "<div class=\"item_container\" style=\"height: auto; overflow: hidden; border: 1px solid #cfcfcf; border-radius: 2px; background: #f6fafa; line-height: 1.21429em; padding: 10px;\">\n",
       "                    <div class=\"item_left\" style=\"width: 210px; float: left;\">\n",
       "                       <a href='https://www.arcgis.com/home/item.html?id=2e4143bc47b9442ab7110b31ee4dc359' target='_blank'>\n",
       "                        <img src='https://www.arcgis.com/sharing/rest//content/items/2e4143bc47b9442ab7110b31ee4dc359/info/thumbnail/USA_Median_Age_thumbnail.jpg' class=\"itemThumbnail\">\n",
       "                       </a>\n",
       "                    </div>\n",
       "\n",
       "                    <div class=\"item_right\"     style=\"float: none; width: auto; overflow: hidden;\">\n",
       "                        <a href='https://www.arcgis.com/home/item.html?id=2e4143bc47b9442ab7110b31ee4dc359' target='_blank'><b>USA Median Age</b>\n",
       "                        </a>\n",
       "                        <br/>This map service shows the median age of people in the United States in 2012.<img src='https://www.arcgis.com/home/js/jsapi/esri/css/images/item_type_icons/mapimages16.png' style=\"vertical-align:middle;\">Map Image Layer by AtlasPublisher\n",
       "                        <br/>Last Modified: מאי 03, 2018\n",
       "                        <br/>0 comments, 11,531 views\n",
       "                    </div>\n",
       "                </div>\n",
       "                "
      ],
      "text/plain": [
       "<Item title:\"USA Median Age\" type:Map Image Layer owner:AtlasPublisher>"
      ]
     },
     "metadata": {},
     "output_type": "display_data"
    }
   ],
   "source": [
    "from IPython.display import display\n",
    "for item in search_result_USA:\n",
    "    display(item)"
   ]
  },
  {
   "cell_type": "code",
   "execution_count": 15,
   "metadata": {},
   "outputs": [
    {
     "name": "stdout",
     "output_type": "stream",
     "text": [
      "73ed4be5e5214b8f9751842aef881074\n"
     ]
    }
   ],
   "source": [
    "# lets get the itemid of first item from previous query\n",
    "first_item = search_result_USA[7]\n",
    "known_item_id = first_item.id\n",
    "print(known_item_id)"
   ]
  },
  {
   "cell_type": "code",
   "execution_count": 16,
   "metadata": {},
   "outputs": [
    {
     "data": {
      "text/html": [
       "<div class=\"item_container\" style=\"height: auto; overflow: hidden; border: 1px solid #cfcfcf; border-radius: 2px; background: #f6fafa; line-height: 1.21429em; padding: 10px;\">\n",
       "                    <div class=\"item_left\" style=\"width: 210px; float: left;\">\n",
       "                       <a href='https://www.arcgis.com/home/item.html?id=73ed4be5e5214b8f9751842aef881074' target='_blank'>\n",
       "                        <img src='https://www.arcgis.com/sharing/rest//content/items/73ed4be5e5214b8f9751842aef881074/info/thumbnail/ago_downloaded.png' class=\"itemThumbnail\">\n",
       "                       </a>\n",
       "                    </div>\n",
       "\n",
       "                    <div class=\"item_right\"     style=\"float: none; width: auto; overflow: hidden;\">\n",
       "                        <a href='https://www.arcgis.com/home/item.html?id=73ed4be5e5214b8f9751842aef881074' target='_blank'><b>USA Topographic Maps (Mature Support)</b>\n",
       "                        </a>\n",
       "                        <br/>This item is in mature support.  This map service presents land cover imagery for the world and detailed topographic maps for the United States at multiple scales.<img src='https://www.arcgis.com/home/js/jsapi/esri/css/images/item_type_icons/mapimages16.png' style=\"vertical-align:middle;\">Map Image Layer by esri\n",
       "                        <br/>Last Modified: מרץ 13, 2019\n",
       "                        <br/>0 comments, 416,995 views\n",
       "                    </div>\n",
       "                </div>\n",
       "                "
      ],
      "text/plain": [
       "<Item title:\"USA Topographic Maps (Mature Support)\" type:Map Image Layer owner:esri>"
      ]
     },
     "execution_count": 16,
     "metadata": {},
     "output_type": "execute_result"
    }
   ],
   "source": [
    "# lets use the get() to access this item\n",
    "online_banking_item = gis.content.get(known_item_id)\n",
    "online_banking_item"
   ]
  },
  {
   "cell_type": "code",
   "execution_count": 17,
   "metadata": {
    "collapsed": true
   },
   "outputs": [],
   "source": [
    "gis2 = GIS(\"https://www.arcgis.com\" )"
   ]
  },
  {
   "cell_type": "code",
   "execution_count": 18,
   "metadata": {},
   "outputs": [
    {
     "data": {
      "text/html": [
       "<div class=\"item_container\" style=\"height: auto; overflow: hidden; border: 1px solid #cfcfcf; border-radius: 2px; background: #f6fafa; line-height: 1.21429em; padding: 10px;\">\n",
       "                    <div class=\"item_left\" style=\"width: 210px; float: left;\">\n",
       "                       <a href='https://www.arcgis.com/home/item.html?id=c0674f0361ee44c6a8cdf7a28e81e9b4' target='_blank'>\n",
       "                        <img src='https://www.arcgis.com/sharing/rest//content/items/c0674f0361ee44c6a8cdf7a28e81e9b4/info/thumbnail/_7B4F1D6692-3F04-49C7-AEDE-1E887779DD35_7D.png' class=\"itemThumbnail\">\n",
       "                       </a>\n",
       "                    </div>\n",
       "\n",
       "                    <div class=\"item_right\"     style=\"float: none; width: auto; overflow: hidden;\">\n",
       "                        <a href='https://www.arcgis.com/home/item.html?id=c0674f0361ee44c6a8cdf7a28e81e9b4' target='_blank'><b>SceneSURORI</b>\n",
       "                        </a>\n",
       "                        <br/>SceneSURORI<img src='https://www.arcgis.com/home/js/jsapi/esri/css/images/item_type_icons/websceneglobal16.png' style=\"vertical-align:middle;\">Web Scene by ggi.idebar\n",
       "                        <br/>Last Modified: מרץ 23, 2019\n",
       "                        <br/>0 comments, 0 views\n",
       "                    </div>\n",
       "                </div>\n",
       "                "
      ],
      "text/plain": [
       "<Item title:\"SceneSURORI\" type:Web Scene owner:ggi.idebar>"
      ]
     },
     "metadata": {},
     "output_type": "display_data"
    },
    {
     "data": {
      "text/html": [
       "<div class=\"item_container\" style=\"height: auto; overflow: hidden; border: 1px solid #cfcfcf; border-radius: 2px; background: #f6fafa; line-height: 1.21429em; padding: 10px;\">\n",
       "                    <div class=\"item_left\" style=\"width: 210px; float: left;\">\n",
       "                       <a href='https://www.arcgis.com/home/item.html?id=4b587fdf46d74a53ae389fd93bc3e66a' target='_blank'>\n",
       "                        <img src='https://www.arcgis.com/sharing/rest//content/items/4b587fdf46d74a53ae389fd93bc3e66a/info/thumbnail/_7BBBAA2469-D661-4553-A249-04AA1A22356A_7D.png' class=\"itemThumbnail\">\n",
       "                       </a>\n",
       "                    </div>\n",
       "\n",
       "                    <div class=\"item_right\"     style=\"float: none; width: auto; overflow: hidden;\">\n",
       "                        <a href='https://www.arcgis.com/home/item.html?id=4b587fdf46d74a53ae389fd93bc3e66a' target='_blank'><b>Tegucigalpa web scene</b>\n",
       "                        </a>\n",
       "                        <br/>The following map visualization allows the user to analyze the possible risk of flooding in Tegucigalpa with a return period of 5, 10 or 50 years. The application provides the user with tools to visualize the risk on streets and districts, and to relate the implication of built up areas in the city based on land cover classification.<img src='https://www.arcgis.com/home/js/jsapi/esri/css/images/item_type_icons/websceneglobal16.png' style=\"vertical-align:middle;\">Web Scene by s6037054@utwente.nl_utwente\n",
       "                        <br/>Last Modified: מרץ 26, 2019\n",
       "                        <br/>0 comments, 0 views\n",
       "                    </div>\n",
       "                </div>\n",
       "                "
      ],
      "text/plain": [
       "<Item title:\"Tegucigalpa web scene\" type:Web Scene owner:s6037054@utwente.nl_utwente>"
      ]
     },
     "metadata": {},
     "output_type": "display_data"
    },
    {
     "data": {
      "text/html": [
       "<div class=\"item_container\" style=\"height: auto; overflow: hidden; border: 1px solid #cfcfcf; border-radius: 2px; background: #f6fafa; line-height: 1.21429em; padding: 10px;\">\n",
       "                    <div class=\"item_left\" style=\"width: 210px; float: left;\">\n",
       "                       <a href='https://www.arcgis.com/home/item.html?id=ecf9f81ba1234e18a8a8c2c120df5974' target='_blank'>\n",
       "                        <img src='https://www.arcgis.com/sharing/rest//content/items/ecf9f81ba1234e18a8a8c2c120df5974/info/thumbnail/_7B823FE769-8258-460A-BE94-9ADA5FA0AC32_7D.png' class=\"itemThumbnail\">\n",
       "                       </a>\n",
       "                    </div>\n",
       "\n",
       "                    <div class=\"item_right\"     style=\"float: none; width: auto; overflow: hidden;\">\n",
       "                        <a href='https://www.arcgis.com/home/item.html?id=ecf9f81ba1234e18a8a8c2c120df5974' target='_blank'><b>SceneSURORIENTE</b>\n",
       "                        </a>\n",
       "                        <br/>SceneSURORIENTE<img src='https://www.arcgis.com/home/js/jsapi/esri/css/images/item_type_icons/websceneglobal16.png' style=\"vertical-align:middle;\">Web Scene by ggi.idebar\n",
       "                        <br/>Last Modified: מרץ 23, 2019\n",
       "                        <br/>0 comments, 0 views\n",
       "                    </div>\n",
       "                </div>\n",
       "                "
      ],
      "text/plain": [
       "<Item title:\"SceneSURORIENTE\" type:Web Scene owner:ggi.idebar>"
      ]
     },
     "metadata": {},
     "output_type": "display_data"
    },
    {
     "data": {
      "text/html": [
       "<div class=\"item_container\" style=\"height: auto; overflow: hidden; border: 1px solid #cfcfcf; border-radius: 2px; background: #f6fafa; line-height: 1.21429em; padding: 10px;\">\n",
       "                    <div class=\"item_left\" style=\"width: 210px; float: left;\">\n",
       "                       <a href='https://www.arcgis.com/home/item.html?id=1abc3c8a3fab4763b09446e4c1610377' target='_blank'>\n",
       "                        <img src='https://www.arcgis.com/sharing/rest//content/items/1abc3c8a3fab4763b09446e4c1610377/info/thumbnail/_7B1A3A247C-CCCA-42A0-8EA7-15E71C3357C7_7D.png' class=\"itemThumbnail\">\n",
       "                       </a>\n",
       "                    </div>\n",
       "\n",
       "                    <div class=\"item_right\"     style=\"float: none; width: auto; overflow: hidden;\">\n",
       "                        <a href='https://www.arcgis.com/home/item.html?id=1abc3c8a3fab4763b09446e4c1610377' target='_blank'><b>Scene layers Tegucigalpa</b>\n",
       "                        </a>\n",
       "                        <br/>The following map visualization allows the user to analyze the possible risk of flooding in Tegucigalpa with a return period of 5, 10 or 50 years. The application provides the user with tools to visualize the risk on streets and districts, and to relate the implication of built up areas in the city based on images of classification land covers.<img src='https://www.arcgis.com/home/js/jsapi/esri/css/images/item_type_icons/websceneglobal16.png' style=\"vertical-align:middle;\">Web Scene by s6037054@utwente.nl_utwente\n",
       "                        <br/>Last Modified: מרץ 26, 2019\n",
       "                        <br/>0 comments, 0 views\n",
       "                    </div>\n",
       "                </div>\n",
       "                "
      ],
      "text/plain": [
       "<Item title:\"Scene layers Tegucigalpa\" type:Web Scene owner:s6037054@utwente.nl_utwente>"
      ]
     },
     "metadata": {},
     "output_type": "display_data"
    },
    {
     "data": {
      "text/html": [
       "<div class=\"item_container\" style=\"height: auto; overflow: hidden; border: 1px solid #cfcfcf; border-radius: 2px; background: #f6fafa; line-height: 1.21429em; padding: 10px;\">\n",
       "                    <div class=\"item_left\" style=\"width: 210px; float: left;\">\n",
       "                       <a href='https://www.arcgis.com/home/item.html?id=dcefcb5c5b4c453ead6a0c1385073ddc' target='_blank'>\n",
       "                        <img src='https://www.arcgis.com/sharing/rest//content/items/dcefcb5c5b4c453ead6a0c1385073ddc/info/thumbnail/_7B68993A2E-A8D0-4275-A50E-83770048FF9C_7D.png' class=\"itemThumbnail\">\n",
       "                       </a>\n",
       "                    </div>\n",
       "\n",
       "                    <div class=\"item_right\"     style=\"float: none; width: auto; overflow: hidden;\">\n",
       "                        <a href='https://www.arcgis.com/home/item.html?id=dcefcb5c5b4c453ead6a0c1385073ddc' target='_blank'><b>SceneSUROCCIDE</b>\n",
       "                        </a>\n",
       "                        <br/>SceneSUROCCIDE<img src='https://www.arcgis.com/home/js/jsapi/esri/css/images/item_type_icons/websceneglobal16.png' style=\"vertical-align:middle;\">Web Scene by ggi.idebar\n",
       "                        <br/>Last Modified: מרץ 23, 2019\n",
       "                        <br/>0 comments, 0 views\n",
       "                    </div>\n",
       "                </div>\n",
       "                "
      ],
      "text/plain": [
       "<Item title:\"SceneSUROCCIDE\" type:Web Scene owner:ggi.idebar>"
      ]
     },
     "metadata": {},
     "output_type": "display_data"
    },
    {
     "data": {
      "text/html": [
       "<div class=\"item_container\" style=\"height: auto; overflow: hidden; border: 1px solid #cfcfcf; border-radius: 2px; background: #f6fafa; line-height: 1.21429em; padding: 10px;\">\n",
       "                    <div class=\"item_left\" style=\"width: 210px; float: left;\">\n",
       "                       <a href='https://www.arcgis.com/home/item.html?id=a57b8a75f01244cf88f742f390567cd5' target='_blank'>\n",
       "                        <img src='https://www.arcgis.com/sharing/rest//content/items/a57b8a75f01244cf88f742f390567cd5/info/thumbnail/_7B7D98042C-0A22-417A-84DD-07B2336F7EF1_7D.png' class=\"itemThumbnail\">\n",
       "                       </a>\n",
       "                    </div>\n",
       "\n",
       "                    <div class=\"item_right\"     style=\"float: none; width: auto; overflow: hidden;\">\n",
       "                        <a href='https://www.arcgis.com/home/item.html?id=a57b8a75f01244cf88f742f390567cd5' target='_blank'><b>Tegucigalpa flooding scenario</b>\n",
       "                        </a>\n",
       "                        <br/>The following map visualization allows the user to analyze the possible risk of flooding in Tegucigalpa with a return period of 5, 10 or 50 years. The application provides the user with tools to visualize the risk on streets and districts, and to relate the implication of built up areas in the city based on images of classification land covers.<img src='https://www.arcgis.com/home/js/jsapi/esri/css/images/item_type_icons/websceneglobal16.png' style=\"vertical-align:middle;\">Web Scene by s6037054@utwente.nl_utwente\n",
       "                        <br/>Last Modified: מרץ 26, 2019\n",
       "                        <br/>0 comments, 0 views\n",
       "                    </div>\n",
       "                </div>\n",
       "                "
      ],
      "text/plain": [
       "<Item title:\"Tegucigalpa flooding scenario\" type:Web Scene owner:s6037054@utwente.nl_utwente>"
      ]
     },
     "metadata": {},
     "output_type": "display_data"
    },
    {
     "data": {
      "text/html": [
       "<div class=\"item_container\" style=\"height: auto; overflow: hidden; border: 1px solid #cfcfcf; border-radius: 2px; background: #f6fafa; line-height: 1.21429em; padding: 10px;\">\n",
       "                    <div class=\"item_left\" style=\"width: 210px; float: left;\">\n",
       "                       <a href='https://www.arcgis.com/home/item.html?id=d1ac09f24c1241b79a0553fc1b035bb2' target='_blank'>\n",
       "                        <img src='https://www.arcgis.com/sharing/rest//content/items/d1ac09f24c1241b79a0553fc1b035bb2/info/thumbnail/_7B55C71DF2-98A0-46B4-BFB0-4FE171C66971_7D.png' class=\"itemThumbnail\">\n",
       "                       </a>\n",
       "                    </div>\n",
       "\n",
       "                    <div class=\"item_right\"     style=\"float: none; width: auto; overflow: hidden;\">\n",
       "                        <a href='https://www.arcgis.com/home/item.html?id=d1ac09f24c1241b79a0553fc1b035bb2' target='_blank'><b>Scene layer Tegucigalpa</b>\n",
       "                        </a>\n",
       "                        <br/>The following map visualization allows the user to analyze the possible risk of flooding in Tegucigalpa with a return period of 5, 10 or 50 years. The application provides the user with tools to visualize the risk on streets and districts, and to relate the implication of built up areas in the city based on land cover classification.<img src='https://www.arcgis.com/home/js/jsapi/esri/css/images/item_type_icons/websceneglobal16.png' style=\"vertical-align:middle;\">Web Scene by s6037054@utwente.nl_utwente\n",
       "                        <br/>Last Modified: מרץ 26, 2019\n",
       "                        <br/>0 comments, 0 views\n",
       "                    </div>\n",
       "                </div>\n",
       "                "
      ],
      "text/plain": [
       "<Item title:\"Scene layer Tegucigalpa\" type:Web Scene owner:s6037054@utwente.nl_utwente>"
      ]
     },
     "metadata": {},
     "output_type": "display_data"
    },
    {
     "data": {
      "text/html": [
       "<div class=\"item_container\" style=\"height: auto; overflow: hidden; border: 1px solid #cfcfcf; border-radius: 2px; background: #f6fafa; line-height: 1.21429em; padding: 10px;\">\n",
       "                    <div class=\"item_left\" style=\"width: 210px; float: left;\">\n",
       "                       <a href='https://www.arcgis.com/home/item.html?id=79b55055b1d140558a04a0c68864f876' target='_blank'>\n",
       "                        <img src='https://www.arcgis.com/sharing/rest//content/items/79b55055b1d140558a04a0c68864f876/info/thumbnail/_7B1C324C12-DF3A-401D-B312-8516ED4BEDA8_7D.png' class=\"itemThumbnail\">\n",
       "                       </a>\n",
       "                    </div>\n",
       "\n",
       "                    <div class=\"item_right\"     style=\"float: none; width: auto; overflow: hidden;\">\n",
       "                        <a href='https://www.arcgis.com/home/item.html?id=79b55055b1d140558a04a0c68864f876' target='_blank'><b>Scene_NCH</b>\n",
       "                        </a>\n",
       "                        <br/>Scene_NCH<img src='https://www.arcgis.com/home/js/jsapi/esri/css/images/item_type_icons/websceneglobal16.png' style=\"vertical-align:middle;\">Web Scene by ggi.idebar\n",
       "                        <br/>Last Modified: מרץ 21, 2019\n",
       "                        <br/>0 comments, 0 views\n",
       "                    </div>\n",
       "                </div>\n",
       "                "
      ],
      "text/plain": [
       "<Item title:\"Scene_NCH\" type:Web Scene owner:ggi.idebar>"
      ]
     },
     "metadata": {},
     "output_type": "display_data"
    },
    {
     "data": {
      "text/html": [
       "<div class=\"item_container\" style=\"height: auto; overflow: hidden; border: 1px solid #cfcfcf; border-radius: 2px; background: #f6fafa; line-height: 1.21429em; padding: 10px;\">\n",
       "                    <div class=\"item_left\" style=\"width: 210px; float: left;\">\n",
       "                       <a href='https://www.arcgis.com/home/item.html?id=eec3c5e6536a4df59d4ab4ab434a4314' target='_blank'>\n",
       "                        <img src='https://www.arcgis.com/sharing/rest//content/items/eec3c5e6536a4df59d4ab4ab434a4314/info/thumbnail/_7B038FD8F3-87A8-450E-A12B-0F9BD3DF8447_7D.png' class=\"itemThumbnail\">\n",
       "                       </a>\n",
       "                    </div>\n",
       "\n",
       "                    <div class=\"item_right\"     style=\"float: none; width: auto; overflow: hidden;\">\n",
       "                        <a href='https://www.arcgis.com/home/item.html?id=eec3c5e6536a4df59d4ab4ab434a4314' target='_blank'><b>SceneMETRO</b>\n",
       "                        </a>\n",
       "                        <br/>SceneMETRO<img src='https://www.arcgis.com/home/js/jsapi/esri/css/images/item_type_icons/websceneglobal16.png' style=\"vertical-align:middle;\">Web Scene by ggi.idebar\n",
       "                        <br/>Last Modified: מרץ 22, 2019\n",
       "                        <br/>0 comments, 0 views\n",
       "                    </div>\n",
       "                </div>\n",
       "                "
      ],
      "text/plain": [
       "<Item title:\"SceneMETRO\" type:Web Scene owner:ggi.idebar>"
      ]
     },
     "metadata": {},
     "output_type": "display_data"
    },
    {
     "data": {
      "text/html": [
       "<div class=\"item_container\" style=\"height: auto; overflow: hidden; border: 1px solid #cfcfcf; border-radius: 2px; background: #f6fafa; line-height: 1.21429em; padding: 10px;\">\n",
       "                    <div class=\"item_left\" style=\"width: 210px; float: left;\">\n",
       "                       <a href='https://www.arcgis.com/home/item.html?id=1053e63ad6844483a6513a552fb76ece' target='_blank'>\n",
       "                        <img src='https://www.arcgis.com/sharing/rest//content/items/1053e63ad6844483a6513a552fb76ece/info/thumbnail/_7B8F8148E8-6302-43C8-BA81-E03B482AD4C0_7D.png' class=\"itemThumbnail\">\n",
       "                       </a>\n",
       "                    </div>\n",
       "\n",
       "                    <div class=\"item_right\"     style=\"float: none; width: auto; overflow: hidden;\">\n",
       "                        <a href='https://www.arcgis.com/home/item.html?id=1053e63ad6844483a6513a552fb76ece' target='_blank'><b>SceneMETROPO</b>\n",
       "                        </a>\n",
       "                        <br/>SceneMETROPO<img src='https://www.arcgis.com/home/js/jsapi/esri/css/images/item_type_icons/websceneglobal16.png' style=\"vertical-align:middle;\">Web Scene by ggi.idebar\n",
       "                        <br/>Last Modified: מרץ 22, 2019\n",
       "                        <br/>0 comments, 0 views\n",
       "                    </div>\n",
       "                </div>\n",
       "                "
      ],
      "text/plain": [
       "<Item title:\"SceneMETROPO\" type:Web Scene owner:ggi.idebar>"
      ]
     },
     "metadata": {},
     "output_type": "display_data"
    },
    {
     "data": {
      "text/html": [
       "<div class=\"item_container\" style=\"height: auto; overflow: hidden; border: 1px solid #cfcfcf; border-radius: 2px; background: #f6fafa; line-height: 1.21429em; padding: 10px;\">\n",
       "                    <div class=\"item_left\" style=\"width: 210px; float: left;\">\n",
       "                       <a href='https://www.arcgis.com/home/item.html?id=96452a0ab4b34ddd8dabd5dc62007789' target='_blank'>\n",
       "                        <img src='https://www.arcgis.com/sharing/rest//content/items/96452a0ab4b34ddd8dabd5dc62007789/info/thumbnail/_7BA54D5906-47D4-40A0-8CC1-69E905D60982_7D.png' class=\"itemThumbnail\">\n",
       "                       </a>\n",
       "                    </div>\n",
       "\n",
       "                    <div class=\"item_right\"     style=\"float: none; width: auto; overflow: hidden;\">\n",
       "                        <a href='https://www.arcgis.com/home/item.html?id=96452a0ab4b34ddd8dabd5dc62007789' target='_blank'><b>SceneBARRANQUILLA3D</b>\n",
       "                        </a>\n",
       "                        <br/>SceneBARRANQUILLA3D<img src='https://www.arcgis.com/home/js/jsapi/esri/css/images/item_type_icons/websceneglobal16.png' style=\"vertical-align:middle;\">Web Scene by ggi.idebar\n",
       "                        <br/>Last Modified: מרץ 19, 2019\n",
       "                        <br/>0 comments, 1 views\n",
       "                    </div>\n",
       "                </div>\n",
       "                "
      ],
      "text/plain": [
       "<Item title:\"SceneBARRANQUILLA3D\" type:Web Scene owner:ggi.idebar>"
      ]
     },
     "metadata": {},
     "output_type": "display_data"
    },
    {
     "data": {
      "text/html": [
       "<div class=\"item_container\" style=\"height: auto; overflow: hidden; border: 1px solid #cfcfcf; border-radius: 2px; background: #f6fafa; line-height: 1.21429em; padding: 10px;\">\n",
       "                    <div class=\"item_left\" style=\"width: 210px; float: left;\">\n",
       "                       <a href='https://www.arcgis.com/home/item.html?id=0995e406b804485aa8357ed0c0ac6925' target='_blank'>\n",
       "                        <img src='http://static.arcgis.com/images/desktopapp.png' class=\"itemThumbnail\">\n",
       "                       </a>\n",
       "                    </div>\n",
       "\n",
       "                    <div class=\"item_right\"     style=\"float: none; width: auto; overflow: hidden;\">\n",
       "                        <a href='https://www.arcgis.com/home/item.html?id=0995e406b804485aa8357ed0c0ac6925' target='_blank'><b>Copy of Visualize New Developments by esri_3d</b>\n",
       "                        </a>\n",
       "                        <br/>Understand proposed changes in the context of your 3D City. Communicate changes with stakeholders and solicit public feedback.<img src='https://www.arcgis.com/home/js/jsapi/esri/css/images/item_type_icons/websceneglobal16.png' style=\"vertical-align:middle;\">Web Scene by frankie.kong_arup\n",
       "                        <br/>Last Modified: ספטמבר 14, 2018\n",
       "                        <br/>0 comments, 2 views\n",
       "                    </div>\n",
       "                </div>\n",
       "                "
      ],
      "text/plain": [
       "<Item title:\"Copy of Visualize New Developments by esri_3d\" type:Web Scene owner:frankie.kong_arup>"
      ]
     },
     "metadata": {},
     "output_type": "display_data"
    },
    {
     "data": {
      "text/html": [
       "<div class=\"item_container\" style=\"height: auto; overflow: hidden; border: 1px solid #cfcfcf; border-radius: 2px; background: #f6fafa; line-height: 1.21429em; padding: 10px;\">\n",
       "                    <div class=\"item_left\" style=\"width: 210px; float: left;\">\n",
       "                       <a href='https://www.arcgis.com/home/item.html?id=0fc84669417b496c807740ac73bbbc57' target='_blank'>\n",
       "                        <img src='https://www.arcgis.com/sharing/rest//content/items/0fc84669417b496c807740ac73bbbc57/info/thumbnail/_7B53FAE892-E584-446A-A701-57224F892B37_7D.png' class=\"itemThumbnail\">\n",
       "                       </a>\n",
       "                    </div>\n",
       "\n",
       "                    <div class=\"item_right\"     style=\"float: none; width: auto; overflow: hidden;\">\n",
       "                        <a href='https://www.arcgis.com/home/item.html?id=0fc84669417b496c807740ac73bbbc57' target='_blank'><b>SUR_ORIENTE</b>\n",
       "                        </a>\n",
       "                        <br/>SUR_ORIENTE<img src='https://www.arcgis.com/home/js/jsapi/esri/css/images/item_type_icons/websceneglobal16.png' style=\"vertical-align:middle;\">Web Scene by ggi.idebar\n",
       "                        <br/>Last Modified: פברואר 18, 2019\n",
       "                        <br/>0 comments, 3 views\n",
       "                    </div>\n",
       "                </div>\n",
       "                "
      ],
      "text/plain": [
       "<Item title:\"SUR_ORIENTE\" type:Web Scene owner:ggi.idebar>"
      ]
     },
     "metadata": {},
     "output_type": "display_data"
    },
    {
     "data": {
      "text/html": [
       "<div class=\"item_container\" style=\"height: auto; overflow: hidden; border: 1px solid #cfcfcf; border-radius: 2px; background: #f6fafa; line-height: 1.21429em; padding: 10px;\">\n",
       "                    <div class=\"item_left\" style=\"width: 210px; float: left;\">\n",
       "                       <a href='https://www.arcgis.com/home/item.html?id=11d137ff5a5d4d0d99c3499eddd808c0' target='_blank'>\n",
       "                        <img src='https://www.arcgis.com/sharing/rest//content/items/11d137ff5a5d4d0d99c3499eddd808c0/info/thumbnail/thumbnail.png' class=\"itemThumbnail\">\n",
       "                       </a>\n",
       "                    </div>\n",
       "\n",
       "                    <div class=\"item_right\"     style=\"float: none; width: auto; overflow: hidden;\">\n",
       "                        <a href='https://www.arcgis.com/home/item.html?id=11d137ff5a5d4d0d99c3499eddd808c0' target='_blank'><b>3D Cities - Nederland</b>\n",
       "                        </a>\n",
       "                        <br/>Deze webscene bevat 3D-gebouwen van een aantal gemeenten. De gebouwen van deze gemeenten hebben het LOD2 detailniveau. Dit wil zeggen dat het gebouwen zijn met dakvorm.<img src='https://www.arcgis.com/home/js/jsapi/esri/css/images/item_type_icons/websceneglobal16.png' style=\"vertical-align:middle;\">Web Scene by osgpiterjelleslocatiedefoorakker_admin\n",
       "                        <br/>Last Modified: ינואר 09, 2019\n",
       "                        <br/>0 comments, 3 views\n",
       "                    </div>\n",
       "                </div>\n",
       "                "
      ],
      "text/plain": [
       "<Item title:\"3D Cities - Nederland\" type:Web Scene owner:osgpiterjelleslocatiedefoorakker_admin>"
      ]
     },
     "metadata": {},
     "output_type": "display_data"
    },
    {
     "data": {
      "text/html": [
       "<div class=\"item_container\" style=\"height: auto; overflow: hidden; border: 1px solid #cfcfcf; border-radius: 2px; background: #f6fafa; line-height: 1.21429em; padding: 10px;\">\n",
       "                    <div class=\"item_left\" style=\"width: 210px; float: left;\">\n",
       "                       <a href='https://www.arcgis.com/home/item.html?id=1a38b750002542d48d29915f72943af5' target='_blank'>\n",
       "                        <img src='https://www.arcgis.com/sharing/rest//content/items/1a38b750002542d48d29915f72943af5/info/thumbnail/thumbnail.jpeg' class=\"itemThumbnail\">\n",
       "                       </a>\n",
       "                    </div>\n",
       "\n",
       "                    <div class=\"item_right\"     style=\"float: none; width: auto; overflow: hidden;\">\n",
       "                        <a href='https://www.arcgis.com/home/item.html?id=1a38b750002542d48d29915f72943af5' target='_blank'><b>Virginia Cities CTA</b>\n",
       "                        </a>\n",
       "                        <br/><img src='https://www.arcgis.com/home/js/jsapi/esri/css/images/item_type_icons/websceneglobal16.png' style=\"vertical-align:middle;\">Web Scene by 2017fairfax226\n",
       "                        <br/>Last Modified: יוני 06, 2018\n",
       "                        <br/>0 comments, 3 views\n",
       "                    </div>\n",
       "                </div>\n",
       "                "
      ],
      "text/plain": [
       "<Item title:\"Virginia Cities CTA\" type:Web Scene owner:2017fairfax226>"
      ]
     },
     "metadata": {},
     "output_type": "display_data"
    }
   ],
   "source": [
    "public_3d_city_scenes = gis2.content.search(query=\"3d cities\", item_type = \"web scene\",\n",
    "                                           sort_field=\"numViews\" ,sort_order=\"asc\",\n",
    "                                           max_items = 15, outside_org=True)\n",
    "for item in public_3d_city_scenes:\n",
    "    display(item)"
   ]
  }
 ],
 "metadata": {
  "kernelspec": {
   "display_name": "Python 3",
   "language": "python",
   "name": "python3"
  },
  "language_info": {
   "codemirror_mode": {
    "name": "ipython",
    "version": 3
   },
   "file_extension": ".py",
   "mimetype": "text/x-python",
   "name": "python",
   "nbconvert_exporter": "python",
   "pygments_lexer": "ipython3",
   "version": "3.6.3"
  }
 },
 "nbformat": 4,
 "nbformat_minor": 2
}
