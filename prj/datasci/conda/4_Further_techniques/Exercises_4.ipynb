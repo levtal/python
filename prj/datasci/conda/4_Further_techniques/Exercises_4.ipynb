{
 "cells": [
  {
   "cell_type": "markdown",
   "metadata": {},
   "source": [
    "# Exercise notebook 4: Grouping your data\n",
    "\n",
    "This Jupyter notebook, for Part 4 of The Open University's _Learn to code for Data Analysis_ course, contains code examples and coding activities for you.\n",
    "\n",
    "You'll come across steps directing you to this notebook. Once you've done each exercise, go back to the corresponding step and mark it as complete. Remember to run the code in this notebook before you start."
   ]
  },
  {
   "cell_type": "code",
   "execution_count": 1,
   "metadata": {
    "activity": false,
    "collapsed": true,
    "run_control": {
     "read_only": false
    }
   },
   "outputs": [],
   "source": [
    "import warnings\n",
    "warnings.simplefilter('ignore', FutureWarning)\n",
    "\n",
    "import matplotlib\n",
    "matplotlib.rcParams['axes.grid'] = True # show gridlines by default\n",
    "%matplotlib inline\n",
    "\n",
    "from pandas import *"
   ]
  },
  {
   "cell_type": "code",
   "execution_count": 39,
   "metadata": {},
   "outputs": [],
   "source": [
    " \n",
    "?matplotlib"
   ]
  },
  {
   "cell_type": "markdown",
   "metadata": {},
   "source": [
    "## Exercise 1: Getting Comtrade data into your notebook\n",
    "\n",
    "In this exercise, you will practice loading data from Comtrade into a pandas dataframe and getting it into a form where you can start to work with it. \n",
    "\n",
    "The following steps and code are an example. Your task for this exercise is stated at the end, after the example.\n",
    "\n",
    "The data is obtained from the [United Nations Comtrade](http://comtrade.un.org/data/) website, by selecting the following configuration:\n",
    "\n",
    "- Type of Product: goods\n",
    "- Frequency: monthly \n",
    "- Periods: all of 2014\n",
    "- Reporter: United Kingdom\n",
    "- Partners: all\n",
    "- Flows: imports and exports\n",
    "- HS (as reported) commodity codes: 0401 (Milk and cream, neither concentrated nor sweetened) and 0402 (Milk and cream, concentrated or sweetened)\n",
    "\n",
    "Clicking on 'Preview' results in a message that the data exceeds 500 rows. Data was downloaded using the *Download CSV* button and the download file renamed appropriately."
   ]
  },
  {
   "cell_type": "code",
   "execution_count": 2,
   "metadata": {
    "collapsed": true
   },
   "outputs": [],
   "source": [
    "LOCATION='comtrade_milk_uk_monthly_14.csv'"
   ]
  },
  {
   "cell_type": "markdown",
   "metadata": {},
   "source": [
    "A URL for downloading all the data as a CSV file can also be obtained via \"View API Link\".\n",
    "It must be modified so that it returns up to 5000 records (set `max=5000`) in the CSV format (`&fmt=csv`)."
   ]
  },
  {
   "cell_type": "code",
   "execution_count": 3,
   "metadata": {
    "collapsed": true
   },
   "outputs": [],
   "source": [
    "# LOCATION = 'http://comtrade.un.org/api/get?max=5000&type=C&freq=M&px=HS&ps=2014&r=826&p=all&rg=1%2C2&cc=0401%2C0402&fmt=csv'"
   ]
  },
  {
   "cell_type": "markdown",
   "metadata": {},
   "source": [
    "Load the data in from the specified location, ensuring that the various codes are read as strings. Preview the first few rows of the dataset."
   ]
  },
  {
   "cell_type": "code",
   "execution_count": 4,
   "metadata": {
    "activity": false,
    "run_control": {
     "read_only": false
    }
   },
   "outputs": [
    {
     "data": {
      "text/html": [
       "<div>\n",
       "<style>\n",
       "    .dataframe thead tr:only-child th {\n",
       "        text-align: right;\n",
       "    }\n",
       "\n",
       "    .dataframe thead th {\n",
       "        text-align: left;\n",
       "    }\n",
       "\n",
       "    .dataframe tbody tr th {\n",
       "        vertical-align: top;\n",
       "    }\n",
       "</style>\n",
       "<table border=\"1\" class=\"dataframe\">\n",
       "  <thead>\n",
       "    <tr style=\"text-align: right;\">\n",
       "      <th></th>\n",
       "      <th>Classification</th>\n",
       "      <th>Year</th>\n",
       "      <th>Period</th>\n",
       "      <th>Period Desc.</th>\n",
       "      <th>Aggregate Level</th>\n",
       "      <th>Is Leaf Code</th>\n",
       "      <th>Trade Flow Code</th>\n",
       "      <th>Trade Flow</th>\n",
       "      <th>Reporter Code</th>\n",
       "      <th>Reporter</th>\n",
       "      <th>...</th>\n",
       "      <th>Qty</th>\n",
       "      <th>Alt Qty Unit Code</th>\n",
       "      <th>Alt Qty Unit</th>\n",
       "      <th>Alt Qty</th>\n",
       "      <th>Netweight (kg)</th>\n",
       "      <th>Gross weight (kg)</th>\n",
       "      <th>Trade Value (US$)</th>\n",
       "      <th>CIF Trade Value (US$)</th>\n",
       "      <th>FOB Trade Value (US$)</th>\n",
       "      <th>Flag</th>\n",
       "    </tr>\n",
       "  </thead>\n",
       "  <tbody>\n",
       "    <tr>\n",
       "      <th>0</th>\n",
       "      <td>HS</td>\n",
       "      <td>2014</td>\n",
       "      <td>201401</td>\n",
       "      <td>January 2014</td>\n",
       "      <td>4</td>\n",
       "      <td>0</td>\n",
       "      <td>1</td>\n",
       "      <td>Imports</td>\n",
       "      <td>826</td>\n",
       "      <td>United Kingdom</td>\n",
       "      <td>...</td>\n",
       "      <td>NaN</td>\n",
       "      <td>NaN</td>\n",
       "      <td>NaN</td>\n",
       "      <td>NaN</td>\n",
       "      <td>22404316</td>\n",
       "      <td>NaN</td>\n",
       "      <td>21950747</td>\n",
       "      <td>NaN</td>\n",
       "      <td>NaN</td>\n",
       "      <td>0</td>\n",
       "    </tr>\n",
       "    <tr>\n",
       "      <th>1</th>\n",
       "      <td>HS</td>\n",
       "      <td>2014</td>\n",
       "      <td>201401</td>\n",
       "      <td>January 2014</td>\n",
       "      <td>4</td>\n",
       "      <td>0</td>\n",
       "      <td>2</td>\n",
       "      <td>Exports</td>\n",
       "      <td>826</td>\n",
       "      <td>United Kingdom</td>\n",
       "      <td>...</td>\n",
       "      <td>NaN</td>\n",
       "      <td>NaN</td>\n",
       "      <td>NaN</td>\n",
       "      <td>NaN</td>\n",
       "      <td>60497363</td>\n",
       "      <td>NaN</td>\n",
       "      <td>46923551</td>\n",
       "      <td>NaN</td>\n",
       "      <td>NaN</td>\n",
       "      <td>0</td>\n",
       "    </tr>\n",
       "    <tr>\n",
       "      <th>2</th>\n",
       "      <td>HS</td>\n",
       "      <td>2014</td>\n",
       "      <td>201401</td>\n",
       "      <td>January 2014</td>\n",
       "      <td>4</td>\n",
       "      <td>0</td>\n",
       "      <td>2</td>\n",
       "      <td>Exports</td>\n",
       "      <td>826</td>\n",
       "      <td>United Kingdom</td>\n",
       "      <td>...</td>\n",
       "      <td>NaN</td>\n",
       "      <td>NaN</td>\n",
       "      <td>NaN</td>\n",
       "      <td>NaN</td>\n",
       "      <td>2520</td>\n",
       "      <td>NaN</td>\n",
       "      <td>3410</td>\n",
       "      <td>NaN</td>\n",
       "      <td>NaN</td>\n",
       "      <td>0</td>\n",
       "    </tr>\n",
       "  </tbody>\n",
       "</table>\n",
       "<p>3 rows × 35 columns</p>\n",
       "</div>"
      ],
      "text/plain": [
       "  Classification  Year  Period  Period Desc.  Aggregate Level  Is Leaf Code  \\\n",
       "0             HS  2014  201401  January 2014                4             0   \n",
       "1             HS  2014  201401  January 2014                4             0   \n",
       "2             HS  2014  201401  January 2014                4             0   \n",
       "\n",
       "   Trade Flow Code Trade Flow Reporter Code        Reporter  ...   Qty  \\\n",
       "0                1    Imports           826  United Kingdom  ...   NaN   \n",
       "1                2    Exports           826  United Kingdom  ...   NaN   \n",
       "2                2    Exports           826  United Kingdom  ...   NaN   \n",
       "\n",
       "   Alt Qty Unit Code Alt Qty Unit  Alt Qty  Netweight (kg)  Gross weight (kg)  \\\n",
       "0                NaN          NaN      NaN        22404316                NaN   \n",
       "1                NaN          NaN      NaN        60497363                NaN   \n",
       "2                NaN          NaN      NaN            2520                NaN   \n",
       "\n",
       "   Trade Value (US$)  CIF Trade Value (US$)  FOB Trade Value (US$)  Flag  \n",
       "0           21950747                    NaN                    NaN     0  \n",
       "1           46923551                    NaN                    NaN     0  \n",
       "2               3410                    NaN                    NaN     0  \n",
       "\n",
       "[3 rows x 35 columns]"
      ]
     },
     "execution_count": 4,
     "metadata": {},
     "output_type": "execute_result"
    }
   ],
   "source": [
    "milk = read_csv(LOCATION, dtype={'Commodity Code':str, 'Reporter Code':str})\n",
    "milk.head(3)"
   ]
  },
  {
   "cell_type": "markdown",
   "metadata": {},
   "source": [
    "Limit the columns to make the dataframe easier to work with by selecting just a subset of them."
   ]
  },
  {
   "cell_type": "code",
   "execution_count": 5,
   "metadata": {
    "activity": false,
    "collapsed": true,
    "run_control": {
     "read_only": false
    }
   },
   "outputs": [],
   "source": [
    "COLUMNS = ['Year', 'Period','Trade Flow','Reporter', 'Partner', 'Commodity','Commodity Code','Trade Value (US$)']\n",
    "milk = milk[COLUMNS]"
   ]
  },
  {
   "cell_type": "markdown",
   "metadata": {},
   "source": [
    "Derive two new dataframes that separate out the 'World' partner data and the data for individual partner countries."
   ]
  },
  {
   "cell_type": "code",
   "execution_count": 6,
   "metadata": {
    "activity": false,
    "collapsed": true,
    "run_control": {
     "read_only": false
    }
   },
   "outputs": [],
   "source": [
    "milk_world = milk[milk['Partner'] == 'World']\n",
    "milk_countries = milk[milk['Partner'] != 'World']"
   ]
  },
  {
   "cell_type": "markdown",
   "metadata": {},
   "source": [
    "You may wish to store a local copy as a CSV file, for example:"
   ]
  },
  {
   "cell_type": "code",
   "execution_count": 7,
   "metadata": {
    "activity": false,
    "collapsed": true,
    "run_control": {
     "read_only": false
    }
   },
   "outputs": [],
   "source": [
    "milk_countries.to_csv('countrymilk.csv', index=False)"
   ]
  },
  {
   "cell_type": "markdown",
   "metadata": {},
   "source": [
    "To load the data back in:"
   ]
  },
  {
   "cell_type": "code",
   "execution_count": 8,
   "metadata": {
    "activity": false,
    "run_control": {
     "read_only": false
    }
   },
   "outputs": [
    {
     "data": {
      "text/html": [
       "<div>\n",
       "<style>\n",
       "    .dataframe thead tr:only-child th {\n",
       "        text-align: right;\n",
       "    }\n",
       "\n",
       "    .dataframe thead th {\n",
       "        text-align: left;\n",
       "    }\n",
       "\n",
       "    .dataframe tbody tr th {\n",
       "        vertical-align: top;\n",
       "    }\n",
       "</style>\n",
       "<table border=\"1\" class=\"dataframe\">\n",
       "  <thead>\n",
       "    <tr style=\"text-align: right;\">\n",
       "      <th></th>\n",
       "      <th>Year</th>\n",
       "      <th>Period</th>\n",
       "      <th>Trade Flow</th>\n",
       "      <th>Reporter</th>\n",
       "      <th>Partner</th>\n",
       "      <th>Commodity</th>\n",
       "      <th>Commodity Code</th>\n",
       "      <th>Trade Value (US$)</th>\n",
       "    </tr>\n",
       "  </thead>\n",
       "  <tbody>\n",
       "    <tr>\n",
       "      <th>0</th>\n",
       "      <td>2014</td>\n",
       "      <td>201401</td>\n",
       "      <td>Exports</td>\n",
       "      <td>United Kingdom</td>\n",
       "      <td>Afghanistan</td>\n",
       "      <td>Milk and cream, neither concentrated nor sweet...</td>\n",
       "      <td>0401</td>\n",
       "      <td>3410</td>\n",
       "    </tr>\n",
       "    <tr>\n",
       "      <th>1</th>\n",
       "      <td>2014</td>\n",
       "      <td>201401</td>\n",
       "      <td>Exports</td>\n",
       "      <td>United Kingdom</td>\n",
       "      <td>Austria</td>\n",
       "      <td>Milk and cream, neither concentrated nor sweet...</td>\n",
       "      <td>0401</td>\n",
       "      <td>316</td>\n",
       "    </tr>\n",
       "  </tbody>\n",
       "</table>\n",
       "</div>"
      ],
      "text/plain": [
       "   Year  Period Trade Flow        Reporter      Partner  \\\n",
       "0  2014  201401    Exports  United Kingdom  Afghanistan   \n",
       "1  2014  201401    Exports  United Kingdom      Austria   \n",
       "\n",
       "                                           Commodity Commodity Code  \\\n",
       "0  Milk and cream, neither concentrated nor sweet...           0401   \n",
       "1  Milk and cream, neither concentrated nor sweet...           0401   \n",
       "\n",
       "   Trade Value (US$)  \n",
       "0               3410  \n",
       "1                316  "
      ]
     },
     "execution_count": 8,
     "metadata": {},
     "output_type": "execute_result"
    }
   ],
   "source": [
    "load_test = read_csv('countrymilk.csv', dtype={'Commodity Code':str, 'Reporter Code':str})\n",
    "load_test.head(2)"
   ]
  },
  {
   "cell_type": "markdown",
   "metadata": {},
   "source": [
    "If you are on a Windows computer, data files may sometimes be saved using a file encoding (*Latin-1*). Pandas may not recognise this by default, in which case you will see a `UnicodeDecodeError`.\n",
    "\n",
    "In such cases, opening files in `read_excel()` or `read_csv()` using the parameter  `encoding=\"ISO-8859-1\"` or  `encoding = \"Latin-1\"` should fix the problem. For example, edit the previous command to read:\n",
    "\n",
    "`load_test=read_csv('countrymilk.csv', dtype={'Commodity Code':str}, encoding = \"ISO-8859-1\")`\n",
    "\n",
    "### Subsetting Your Data\n",
    "For large or heterogenous datasets, it is often convenient to create subsets of the data. To further separate out the imports:\n"
   ]
  },
  {
   "cell_type": "code",
   "execution_count": 9,
   "metadata": {
    "activity": false,
    "collapsed": true,
    "run_control": {
     "read_only": false
    }
   },
   "outputs": [],
   "source": [
    "milk_imports = milk[milk['Trade Flow'] == 'Imports']\n",
    "milk_countries_imports = milk_countries[milk_countries['Trade Flow'] == 'Imports']\n",
    "milk_world_imports=milk_world[milk_world['Trade Flow'] == 'Imports']"
   ]
  },
  {
   "cell_type": "markdown",
   "metadata": {},
   "source": [
    "### Sorting the data\n",
    "\n",
    "Having loaded in the data, find the most valuable partners in terms of import trade flow during a particular month by sorting the data by *decreasing* trade value and then selecting the top few rows."
   ]
  },
  {
   "cell_type": "code",
   "execution_count": 10,
   "metadata": {
    "activity": false,
    "run_control": {
     "read_only": false
    }
   },
   "outputs": [
    {
     "data": {
      "text/html": [
       "<div>\n",
       "<style>\n",
       "    .dataframe thead tr:only-child th {\n",
       "        text-align: right;\n",
       "    }\n",
       "\n",
       "    .dataframe thead th {\n",
       "        text-align: left;\n",
       "    }\n",
       "\n",
       "    .dataframe tbody tr th {\n",
       "        vertical-align: top;\n",
       "    }\n",
       "</style>\n",
       "<table border=\"1\" class=\"dataframe\">\n",
       "  <thead>\n",
       "    <tr style=\"text-align: right;\">\n",
       "      <th></th>\n",
       "      <th>Year</th>\n",
       "      <th>Period</th>\n",
       "      <th>Trade Flow</th>\n",
       "      <th>Reporter</th>\n",
       "      <th>Partner</th>\n",
       "      <th>Commodity</th>\n",
       "      <th>Commodity Code</th>\n",
       "      <th>Trade Value (US$)</th>\n",
       "    </tr>\n",
       "  </thead>\n",
       "  <tbody>\n",
       "    <tr>\n",
       "      <th>23</th>\n",
       "      <td>2014</td>\n",
       "      <td>201401</td>\n",
       "      <td>Imports</td>\n",
       "      <td>United Kingdom</td>\n",
       "      <td>Ireland</td>\n",
       "      <td>Milk and cream, neither concentrated nor sweet...</td>\n",
       "      <td>0401</td>\n",
       "      <td>10676138</td>\n",
       "    </tr>\n",
       "    <tr>\n",
       "      <th>626</th>\n",
       "      <td>2014</td>\n",
       "      <td>201401</td>\n",
       "      <td>Imports</td>\n",
       "      <td>United Kingdom</td>\n",
       "      <td>France</td>\n",
       "      <td>Milk and cream, concentrated or sweetened</td>\n",
       "      <td>0402</td>\n",
       "      <td>8020014</td>\n",
       "    </tr>\n",
       "    <tr>\n",
       "      <th>637</th>\n",
       "      <td>2014</td>\n",
       "      <td>201401</td>\n",
       "      <td>Imports</td>\n",
       "      <td>United Kingdom</td>\n",
       "      <td>Ireland</td>\n",
       "      <td>Milk and cream, concentrated or sweetened</td>\n",
       "      <td>0402</td>\n",
       "      <td>5966962</td>\n",
       "    </tr>\n",
       "    <tr>\n",
       "      <th>650</th>\n",
       "      <td>2014</td>\n",
       "      <td>201401</td>\n",
       "      <td>Imports</td>\n",
       "      <td>United Kingdom</td>\n",
       "      <td>Netherlands</td>\n",
       "      <td>Milk and cream, concentrated or sweetened</td>\n",
       "      <td>0402</td>\n",
       "      <td>4650774</td>\n",
       "    </tr>\n",
       "    <tr>\n",
       "      <th>629</th>\n",
       "      <td>2014</td>\n",
       "      <td>201401</td>\n",
       "      <td>Imports</td>\n",
       "      <td>United Kingdom</td>\n",
       "      <td>Germany</td>\n",
       "      <td>Milk and cream, concentrated or sweetened</td>\n",
       "      <td>0402</td>\n",
       "      <td>4545873</td>\n",
       "    </tr>\n",
       "    <tr>\n",
       "      <th>4</th>\n",
       "      <td>2014</td>\n",
       "      <td>201401</td>\n",
       "      <td>Imports</td>\n",
       "      <td>United Kingdom</td>\n",
       "      <td>Belgium</td>\n",
       "      <td>Milk and cream, neither concentrated nor sweet...</td>\n",
       "      <td>0401</td>\n",
       "      <td>4472349</td>\n",
       "    </tr>\n",
       "    <tr>\n",
       "      <th>612</th>\n",
       "      <td>2014</td>\n",
       "      <td>201401</td>\n",
       "      <td>Imports</td>\n",
       "      <td>United Kingdom</td>\n",
       "      <td>Belgium</td>\n",
       "      <td>Milk and cream, concentrated or sweetened</td>\n",
       "      <td>0402</td>\n",
       "      <td>3584038</td>\n",
       "    </tr>\n",
       "    <tr>\n",
       "      <th>10</th>\n",
       "      <td>2014</td>\n",
       "      <td>201401</td>\n",
       "      <td>Imports</td>\n",
       "      <td>United Kingdom</td>\n",
       "      <td>Denmark</td>\n",
       "      <td>Milk and cream, neither concentrated nor sweet...</td>\n",
       "      <td>0401</td>\n",
       "      <td>2233438</td>\n",
       "    </tr>\n",
       "    <tr>\n",
       "      <th>667</th>\n",
       "      <td>2014</td>\n",
       "      <td>201401</td>\n",
       "      <td>Imports</td>\n",
       "      <td>United Kingdom</td>\n",
       "      <td>Spain</td>\n",
       "      <td>Milk and cream, concentrated or sweetened</td>\n",
       "      <td>0402</td>\n",
       "      <td>1850097</td>\n",
       "    </tr>\n",
       "    <tr>\n",
       "      <th>15</th>\n",
       "      <td>2014</td>\n",
       "      <td>201401</td>\n",
       "      <td>Imports</td>\n",
       "      <td>United Kingdom</td>\n",
       "      <td>France</td>\n",
       "      <td>Milk and cream, neither concentrated nor sweet...</td>\n",
       "      <td>0401</td>\n",
       "      <td>1522872</td>\n",
       "    </tr>\n",
       "  </tbody>\n",
       "</table>\n",
       "</div>"
      ],
      "text/plain": [
       "     Year  Period Trade Flow        Reporter      Partner  \\\n",
       "23   2014  201401    Imports  United Kingdom      Ireland   \n",
       "626  2014  201401    Imports  United Kingdom       France   \n",
       "637  2014  201401    Imports  United Kingdom      Ireland   \n",
       "650  2014  201401    Imports  United Kingdom  Netherlands   \n",
       "629  2014  201401    Imports  United Kingdom      Germany   \n",
       "4    2014  201401    Imports  United Kingdom      Belgium   \n",
       "612  2014  201401    Imports  United Kingdom      Belgium   \n",
       "10   2014  201401    Imports  United Kingdom      Denmark   \n",
       "667  2014  201401    Imports  United Kingdom        Spain   \n",
       "15   2014  201401    Imports  United Kingdom       France   \n",
       "\n",
       "                                             Commodity Commodity Code  \\\n",
       "23   Milk and cream, neither concentrated nor sweet...           0401   \n",
       "626          Milk and cream, concentrated or sweetened           0402   \n",
       "637          Milk and cream, concentrated or sweetened           0402   \n",
       "650          Milk and cream, concentrated or sweetened           0402   \n",
       "629          Milk and cream, concentrated or sweetened           0402   \n",
       "4    Milk and cream, neither concentrated nor sweet...           0401   \n",
       "612          Milk and cream, concentrated or sweetened           0402   \n",
       "10   Milk and cream, neither concentrated nor sweet...           0401   \n",
       "667          Milk and cream, concentrated or sweetened           0402   \n",
       "15   Milk and cream, neither concentrated nor sweet...           0401   \n",
       "\n",
       "     Trade Value (US$)  \n",
       "23            10676138  \n",
       "626            8020014  \n",
       "637            5966962  \n",
       "650            4650774  \n",
       "629            4545873  \n",
       "4              4472349  \n",
       "612            3584038  \n",
       "10             2233438  \n",
       "667            1850097  \n",
       "15             1522872  "
      ]
     },
     "execution_count": 10,
     "metadata": {},
     "output_type": "execute_result"
    }
   ],
   "source": [
    "milkImportsInJanuary2014 = milk_countries_imports[milk_countries_imports['Period'] == 201401]\n",
    "milkImportsInJanuary2014.sort_values('Trade Value (US$)',ascending=False).head(10)"
   ]
  },
  {
   "cell_type": "markdown",
   "metadata": {},
   "source": [
    "### Task\n",
    "\n",
    "To complete these tasks you could copy this notebook and amend the code or create a new notebook to do the analysis for your chosen data.\n",
    "\n",
    "Using the [Comtrade Data website](http://comtrade.un.org/data/), identify a dataset that describes the import and export trade flows for a particular service or form of goods between your country (as reporter) and all ('All') the other countries in the world. Get the monthly data for all months in 2014.\n",
    "\n",
    "Download the data as a CSV file and add the file to the same folder as the one containing this notebook. Load the data in from the file into a pandas dataframe. Create an easier to work with dataframe that excludes data associated with the 'World' partner. Sort this data to see which countries are the biggest partners in terms of import and export trade flow."
   ]
  },
  {
   "cell_type": "markdown",
   "metadata": {},
   "source": [
    "**Now go back to the course step and mark it complete.**"
   ]
  },
  {
   "cell_type": "markdown",
   "metadata": {},
   "source": [
    "## Exercise 2: Grouping data\n",
    "\n",
    "On many occasions, a dataframe may be organised as groups of rows where the group membership is identified based on cell values within one or more 'key' columns. **Grouping** refers to the process whereby rows associated with a particular group are collated so that you can work with just those rows as distinct subsets of the whole dataset.\n",
    "\n",
    "The number of groups the dataframe will be split into is based on the number of unique values identified within a single key column, or the number of unique combinations of values for two or more key columns.\n",
    "\n",
    "The `groupby()` method runs down each row in a data frame, splitting the rows into separate groups based on the unique values associated with the key column or columns.\n",
    "\n",
    "The following is an example of the steps and code needed to split the dataframe from the Exercise 1 example. "
   ]
  },
  {
   "cell_type": "markdown",
   "metadata": {},
   "source": [
    "### Grouping the data"
   ]
  },
  {
   "cell_type": "markdown",
   "metadata": {},
   "source": [
    "Split the data into two different subsets of data (imports and exports), by grouping on trade flow."
   ]
  },
  {
   "cell_type": "code",
   "execution_count": 11,
   "metadata": {
    "activity": false,
    "collapsed": true,
    "run_control": {
     "read_only": false
    }
   },
   "outputs": [],
   "source": [
    "groups = milk_countries.groupby('Trade Flow')"
   ]
  },
  {
   "cell_type": "markdown",
   "metadata": {},
   "source": [
    "Inspect the first few rows associated with a particular group:"
   ]
  },
  {
   "cell_type": "code",
   "execution_count": 12,
   "metadata": {
    "activity": false,
    "run_control": {
     "read_only": false
    }
   },
   "outputs": [
    {
     "data": {
      "text/html": [
       "<div>\n",
       "<style>\n",
       "    .dataframe thead tr:only-child th {\n",
       "        text-align: right;\n",
       "    }\n",
       "\n",
       "    .dataframe thead th {\n",
       "        text-align: left;\n",
       "    }\n",
       "\n",
       "    .dataframe tbody tr th {\n",
       "        vertical-align: top;\n",
       "    }\n",
       "</style>\n",
       "<table border=\"1\" class=\"dataframe\">\n",
       "  <thead>\n",
       "    <tr style=\"text-align: right;\">\n",
       "      <th></th>\n",
       "      <th>Year</th>\n",
       "      <th>Period</th>\n",
       "      <th>Trade Flow</th>\n",
       "      <th>Reporter</th>\n",
       "      <th>Partner</th>\n",
       "      <th>Commodity</th>\n",
       "      <th>Commodity Code</th>\n",
       "      <th>Trade Value (US$)</th>\n",
       "    </tr>\n",
       "  </thead>\n",
       "  <tbody>\n",
       "    <tr>\n",
       "      <th>4</th>\n",
       "      <td>2014</td>\n",
       "      <td>201401</td>\n",
       "      <td>Imports</td>\n",
       "      <td>United Kingdom</td>\n",
       "      <td>Belgium</td>\n",
       "      <td>Milk and cream, neither concentrated nor sweet...</td>\n",
       "      <td>0401</td>\n",
       "      <td>4472349</td>\n",
       "    </tr>\n",
       "    <tr>\n",
       "      <th>10</th>\n",
       "      <td>2014</td>\n",
       "      <td>201401</td>\n",
       "      <td>Imports</td>\n",
       "      <td>United Kingdom</td>\n",
       "      <td>Denmark</td>\n",
       "      <td>Milk and cream, neither concentrated nor sweet...</td>\n",
       "      <td>0401</td>\n",
       "      <td>2233438</td>\n",
       "    </tr>\n",
       "    <tr>\n",
       "      <th>15</th>\n",
       "      <td>2014</td>\n",
       "      <td>201401</td>\n",
       "      <td>Imports</td>\n",
       "      <td>United Kingdom</td>\n",
       "      <td>France</td>\n",
       "      <td>Milk and cream, neither concentrated nor sweet...</td>\n",
       "      <td>0401</td>\n",
       "      <td>1522872</td>\n",
       "    </tr>\n",
       "    <tr>\n",
       "      <th>17</th>\n",
       "      <td>2014</td>\n",
       "      <td>201401</td>\n",
       "      <td>Imports</td>\n",
       "      <td>United Kingdom</td>\n",
       "      <td>Germany</td>\n",
       "      <td>Milk and cream, neither concentrated nor sweet...</td>\n",
       "      <td>0401</td>\n",
       "      <td>1028700</td>\n",
       "    </tr>\n",
       "    <tr>\n",
       "      <th>23</th>\n",
       "      <td>2014</td>\n",
       "      <td>201401</td>\n",
       "      <td>Imports</td>\n",
       "      <td>United Kingdom</td>\n",
       "      <td>Ireland</td>\n",
       "      <td>Milk and cream, neither concentrated nor sweet...</td>\n",
       "      <td>0401</td>\n",
       "      <td>10676138</td>\n",
       "    </tr>\n",
       "  </tbody>\n",
       "</table>\n",
       "</div>"
      ],
      "text/plain": [
       "    Year  Period Trade Flow        Reporter  Partner  \\\n",
       "4   2014  201401    Imports  United Kingdom  Belgium   \n",
       "10  2014  201401    Imports  United Kingdom  Denmark   \n",
       "15  2014  201401    Imports  United Kingdom   France   \n",
       "17  2014  201401    Imports  United Kingdom  Germany   \n",
       "23  2014  201401    Imports  United Kingdom  Ireland   \n",
       "\n",
       "                                            Commodity Commodity Code  \\\n",
       "4   Milk and cream, neither concentrated nor sweet...           0401   \n",
       "10  Milk and cream, neither concentrated nor sweet...           0401   \n",
       "15  Milk and cream, neither concentrated nor sweet...           0401   \n",
       "17  Milk and cream, neither concentrated nor sweet...           0401   \n",
       "23  Milk and cream, neither concentrated nor sweet...           0401   \n",
       "\n",
       "    Trade Value (US$)  \n",
       "4             4472349  \n",
       "10            2233438  \n",
       "15            1522872  \n",
       "17            1028700  \n",
       "23           10676138  "
      ]
     },
     "execution_count": 12,
     "metadata": {},
     "output_type": "execute_result"
    }
   ],
   "source": [
    "groups.get_group('Imports').head()"
   ]
  },
  {
   "cell_type": "markdown",
   "metadata": {},
   "source": [
    "As well as grouping on a single term, you can create groups based on multiple columns by passing in several column names as a list. For example, generate groups based on commodity code *and* trade flow, and then preview the keys used to define the groups."
   ]
  },
  {
   "cell_type": "code",
   "execution_count": 13,
   "metadata": {
    "activity": false,
    "run_control": {
     "read_only": false
    }
   },
   "outputs": [
    {
     "data": {
      "text/plain": [
       "dict_keys([('0401', 'Exports'), ('0401', 'Imports'), ('0402', 'Exports'), ('0402', 'Imports')])"
      ]
     },
     "execution_count": 13,
     "metadata": {},
     "output_type": "execute_result"
    }
   ],
   "source": [
    "GROUPING_COMMFLOW = ['Commodity Code','Trade Flow']\n",
    "\n",
    "groups = milk_countries.groupby(GROUPING_COMMFLOW)\n",
    "groups.groups.keys()"
   ]
  },
  {
   "cell_type": "markdown",
   "metadata": {},
   "source": [
    "Retrieve a group based on multiple group levels by passing in a tuple that specifies a value for each index column. For example, if a grouping is based on the `'Partner'` and `'Trade Flow'` columns, the argument of `get_group` has to be a partner/flow pair, like `('France', 'Import')` to  get all rows associated with imports from France."
   ]
  },
  {
   "cell_type": "code",
   "execution_count": 14,
   "metadata": {
    "activity": false,
    "run_control": {
     "read_only": false
    }
   },
   "outputs": [
    {
     "data": {
      "text/html": [
       "<div>\n",
       "<style>\n",
       "    .dataframe thead tr:only-child th {\n",
       "        text-align: right;\n",
       "    }\n",
       "\n",
       "    .dataframe thead th {\n",
       "        text-align: left;\n",
       "    }\n",
       "\n",
       "    .dataframe tbody tr th {\n",
       "        vertical-align: top;\n",
       "    }\n",
       "</style>\n",
       "<table border=\"1\" class=\"dataframe\">\n",
       "  <thead>\n",
       "    <tr style=\"text-align: right;\">\n",
       "      <th></th>\n",
       "      <th>Year</th>\n",
       "      <th>Period</th>\n",
       "      <th>Trade Flow</th>\n",
       "      <th>Reporter</th>\n",
       "      <th>Partner</th>\n",
       "      <th>Commodity</th>\n",
       "      <th>Commodity Code</th>\n",
       "      <th>Trade Value (US$)</th>\n",
       "    </tr>\n",
       "  </thead>\n",
       "  <tbody>\n",
       "    <tr>\n",
       "      <th>15</th>\n",
       "      <td>2014</td>\n",
       "      <td>201401</td>\n",
       "      <td>Imports</td>\n",
       "      <td>United Kingdom</td>\n",
       "      <td>France</td>\n",
       "      <td>Milk and cream, neither concentrated nor sweet...</td>\n",
       "      <td>0401</td>\n",
       "      <td>1522872</td>\n",
       "    </tr>\n",
       "    <tr>\n",
       "      <th>68</th>\n",
       "      <td>2014</td>\n",
       "      <td>201402</td>\n",
       "      <td>Imports</td>\n",
       "      <td>United Kingdom</td>\n",
       "      <td>France</td>\n",
       "      <td>Milk and cream, neither concentrated nor sweet...</td>\n",
       "      <td>0401</td>\n",
       "      <td>1444455</td>\n",
       "    </tr>\n",
       "    <tr>\n",
       "      <th>120</th>\n",
       "      <td>2014</td>\n",
       "      <td>201403</td>\n",
       "      <td>Imports</td>\n",
       "      <td>United Kingdom</td>\n",
       "      <td>France</td>\n",
       "      <td>Milk and cream, neither concentrated nor sweet...</td>\n",
       "      <td>0401</td>\n",
       "      <td>1414291</td>\n",
       "    </tr>\n",
       "    <tr>\n",
       "      <th>171</th>\n",
       "      <td>2014</td>\n",
       "      <td>201404</td>\n",
       "      <td>Imports</td>\n",
       "      <td>United Kingdom</td>\n",
       "      <td>France</td>\n",
       "      <td>Milk and cream, neither concentrated nor sweet...</td>\n",
       "      <td>0401</td>\n",
       "      <td>1912257</td>\n",
       "    </tr>\n",
       "    <tr>\n",
       "      <th>223</th>\n",
       "      <td>2014</td>\n",
       "      <td>201405</td>\n",
       "      <td>Imports</td>\n",
       "      <td>United Kingdom</td>\n",
       "      <td>France</td>\n",
       "      <td>Milk and cream, neither concentrated nor sweet...</td>\n",
       "      <td>0401</td>\n",
       "      <td>1638838</td>\n",
       "    </tr>\n",
       "    <tr>\n",
       "      <th>273</th>\n",
       "      <td>2014</td>\n",
       "      <td>201406</td>\n",
       "      <td>Imports</td>\n",
       "      <td>United Kingdom</td>\n",
       "      <td>France</td>\n",
       "      <td>Milk and cream, neither concentrated nor sweet...</td>\n",
       "      <td>0401</td>\n",
       "      <td>1449614</td>\n",
       "    </tr>\n",
       "    <tr>\n",
       "      <th>327</th>\n",
       "      <td>2014</td>\n",
       "      <td>201407</td>\n",
       "      <td>Imports</td>\n",
       "      <td>United Kingdom</td>\n",
       "      <td>France</td>\n",
       "      <td>Milk and cream, neither concentrated nor sweet...</td>\n",
       "      <td>0401</td>\n",
       "      <td>2096771</td>\n",
       "    </tr>\n",
       "    <tr>\n",
       "      <th>370</th>\n",
       "      <td>2014</td>\n",
       "      <td>201408</td>\n",
       "      <td>Imports</td>\n",
       "      <td>United Kingdom</td>\n",
       "      <td>France</td>\n",
       "      <td>Milk and cream, neither concentrated nor sweet...</td>\n",
       "      <td>0401</td>\n",
       "      <td>1474883</td>\n",
       "    </tr>\n",
       "    <tr>\n",
       "      <th>416</th>\n",
       "      <td>2014</td>\n",
       "      <td>201409</td>\n",
       "      <td>Imports</td>\n",
       "      <td>United Kingdom</td>\n",
       "      <td>France</td>\n",
       "      <td>Milk and cream, neither concentrated nor sweet...</td>\n",
       "      <td>0401</td>\n",
       "      <td>1259777</td>\n",
       "    </tr>\n",
       "    <tr>\n",
       "      <th>466</th>\n",
       "      <td>2014</td>\n",
       "      <td>201410</td>\n",
       "      <td>Imports</td>\n",
       "      <td>United Kingdom</td>\n",
       "      <td>France</td>\n",
       "      <td>Milk and cream, neither concentrated nor sweet...</td>\n",
       "      <td>0401</td>\n",
       "      <td>1483422</td>\n",
       "    </tr>\n",
       "    <tr>\n",
       "      <th>514</th>\n",
       "      <td>2014</td>\n",
       "      <td>201411</td>\n",
       "      <td>Imports</td>\n",
       "      <td>United Kingdom</td>\n",
       "      <td>France</td>\n",
       "      <td>Milk and cream, neither concentrated nor sweet...</td>\n",
       "      <td>0401</td>\n",
       "      <td>1720555</td>\n",
       "    </tr>\n",
       "    <tr>\n",
       "      <th>565</th>\n",
       "      <td>2014</td>\n",
       "      <td>201412</td>\n",
       "      <td>Imports</td>\n",
       "      <td>United Kingdom</td>\n",
       "      <td>France</td>\n",
       "      <td>Milk and cream, neither concentrated nor sweet...</td>\n",
       "      <td>0401</td>\n",
       "      <td>1958660</td>\n",
       "    </tr>\n",
       "    <tr>\n",
       "      <th>626</th>\n",
       "      <td>2014</td>\n",
       "      <td>201401</td>\n",
       "      <td>Imports</td>\n",
       "      <td>United Kingdom</td>\n",
       "      <td>France</td>\n",
       "      <td>Milk and cream, concentrated or sweetened</td>\n",
       "      <td>0402</td>\n",
       "      <td>8020014</td>\n",
       "    </tr>\n",
       "    <tr>\n",
       "      <th>696</th>\n",
       "      <td>2014</td>\n",
       "      <td>201402</td>\n",
       "      <td>Imports</td>\n",
       "      <td>United Kingdom</td>\n",
       "      <td>France</td>\n",
       "      <td>Milk and cream, concentrated or sweetened</td>\n",
       "      <td>0402</td>\n",
       "      <td>6494426</td>\n",
       "    </tr>\n",
       "    <tr>\n",
       "      <th>760</th>\n",
       "      <td>2014</td>\n",
       "      <td>201403</td>\n",
       "      <td>Imports</td>\n",
       "      <td>United Kingdom</td>\n",
       "      <td>France</td>\n",
       "      <td>Milk and cream, concentrated or sweetened</td>\n",
       "      <td>0402</td>\n",
       "      <td>7545848</td>\n",
       "    </tr>\n",
       "    <tr>\n",
       "      <th>830</th>\n",
       "      <td>2014</td>\n",
       "      <td>201404</td>\n",
       "      <td>Imports</td>\n",
       "      <td>United Kingdom</td>\n",
       "      <td>France</td>\n",
       "      <td>Milk and cream, concentrated or sweetened</td>\n",
       "      <td>0402</td>\n",
       "      <td>5917331</td>\n",
       "    </tr>\n",
       "    <tr>\n",
       "      <th>901</th>\n",
       "      <td>2014</td>\n",
       "      <td>201405</td>\n",
       "      <td>Imports</td>\n",
       "      <td>United Kingdom</td>\n",
       "      <td>France</td>\n",
       "      <td>Milk and cream, concentrated or sweetened</td>\n",
       "      <td>0402</td>\n",
       "      <td>7183954</td>\n",
       "    </tr>\n",
       "    <tr>\n",
       "      <th>970</th>\n",
       "      <td>2014</td>\n",
       "      <td>201406</td>\n",
       "      <td>Imports</td>\n",
       "      <td>United Kingdom</td>\n",
       "      <td>France</td>\n",
       "      <td>Milk and cream, concentrated or sweetened</td>\n",
       "      <td>0402</td>\n",
       "      <td>6948169</td>\n",
       "    </tr>\n",
       "    <tr>\n",
       "      <th>1048</th>\n",
       "      <td>2014</td>\n",
       "      <td>201407</td>\n",
       "      <td>Imports</td>\n",
       "      <td>United Kingdom</td>\n",
       "      <td>France</td>\n",
       "      <td>Milk and cream, concentrated or sweetened</td>\n",
       "      <td>0402</td>\n",
       "      <td>6630456</td>\n",
       "    </tr>\n",
       "    <tr>\n",
       "      <th>1121</th>\n",
       "      <td>2014</td>\n",
       "      <td>201408</td>\n",
       "      <td>Imports</td>\n",
       "      <td>United Kingdom</td>\n",
       "      <td>France</td>\n",
       "      <td>Milk and cream, concentrated or sweetened</td>\n",
       "      <td>0402</td>\n",
       "      <td>7051096</td>\n",
       "    </tr>\n",
       "    <tr>\n",
       "      <th>1193</th>\n",
       "      <td>2014</td>\n",
       "      <td>201409</td>\n",
       "      <td>Imports</td>\n",
       "      <td>United Kingdom</td>\n",
       "      <td>France</td>\n",
       "      <td>Milk and cream, concentrated or sweetened</td>\n",
       "      <td>0402</td>\n",
       "      <td>8514848</td>\n",
       "    </tr>\n",
       "    <tr>\n",
       "      <th>1271</th>\n",
       "      <td>2014</td>\n",
       "      <td>201410</td>\n",
       "      <td>Imports</td>\n",
       "      <td>United Kingdom</td>\n",
       "      <td>France</td>\n",
       "      <td>Milk and cream, concentrated or sweetened</td>\n",
       "      <td>0402</td>\n",
       "      <td>8638220</td>\n",
       "    </tr>\n",
       "    <tr>\n",
       "      <th>1354</th>\n",
       "      <td>2014</td>\n",
       "      <td>201411</td>\n",
       "      <td>Imports</td>\n",
       "      <td>United Kingdom</td>\n",
       "      <td>France</td>\n",
       "      <td>Milk and cream, concentrated or sweetened</td>\n",
       "      <td>0402</td>\n",
       "      <td>7938295</td>\n",
       "    </tr>\n",
       "    <tr>\n",
       "      <th>1425</th>\n",
       "      <td>2014</td>\n",
       "      <td>201412</td>\n",
       "      <td>Imports</td>\n",
       "      <td>United Kingdom</td>\n",
       "      <td>France</td>\n",
       "      <td>Milk and cream, concentrated or sweetened</td>\n",
       "      <td>0402</td>\n",
       "      <td>4749124</td>\n",
       "    </tr>\n",
       "  </tbody>\n",
       "</table>\n",
       "</div>"
      ],
      "text/plain": [
       "      Year  Period Trade Flow        Reporter Partner  \\\n",
       "15    2014  201401    Imports  United Kingdom  France   \n",
       "68    2014  201402    Imports  United Kingdom  France   \n",
       "120   2014  201403    Imports  United Kingdom  France   \n",
       "171   2014  201404    Imports  United Kingdom  France   \n",
       "223   2014  201405    Imports  United Kingdom  France   \n",
       "273   2014  201406    Imports  United Kingdom  France   \n",
       "327   2014  201407    Imports  United Kingdom  France   \n",
       "370   2014  201408    Imports  United Kingdom  France   \n",
       "416   2014  201409    Imports  United Kingdom  France   \n",
       "466   2014  201410    Imports  United Kingdom  France   \n",
       "514   2014  201411    Imports  United Kingdom  France   \n",
       "565   2014  201412    Imports  United Kingdom  France   \n",
       "626   2014  201401    Imports  United Kingdom  France   \n",
       "696   2014  201402    Imports  United Kingdom  France   \n",
       "760   2014  201403    Imports  United Kingdom  France   \n",
       "830   2014  201404    Imports  United Kingdom  France   \n",
       "901   2014  201405    Imports  United Kingdom  France   \n",
       "970   2014  201406    Imports  United Kingdom  France   \n",
       "1048  2014  201407    Imports  United Kingdom  France   \n",
       "1121  2014  201408    Imports  United Kingdom  France   \n",
       "1193  2014  201409    Imports  United Kingdom  France   \n",
       "1271  2014  201410    Imports  United Kingdom  France   \n",
       "1354  2014  201411    Imports  United Kingdom  France   \n",
       "1425  2014  201412    Imports  United Kingdom  France   \n",
       "\n",
       "                                              Commodity Commodity Code  \\\n",
       "15    Milk and cream, neither concentrated nor sweet...           0401   \n",
       "68    Milk and cream, neither concentrated nor sweet...           0401   \n",
       "120   Milk and cream, neither concentrated nor sweet...           0401   \n",
       "171   Milk and cream, neither concentrated nor sweet...           0401   \n",
       "223   Milk and cream, neither concentrated nor sweet...           0401   \n",
       "273   Milk and cream, neither concentrated nor sweet...           0401   \n",
       "327   Milk and cream, neither concentrated nor sweet...           0401   \n",
       "370   Milk and cream, neither concentrated nor sweet...           0401   \n",
       "416   Milk and cream, neither concentrated nor sweet...           0401   \n",
       "466   Milk and cream, neither concentrated nor sweet...           0401   \n",
       "514   Milk and cream, neither concentrated nor sweet...           0401   \n",
       "565   Milk and cream, neither concentrated nor sweet...           0401   \n",
       "626           Milk and cream, concentrated or sweetened           0402   \n",
       "696           Milk and cream, concentrated or sweetened           0402   \n",
       "760           Milk and cream, concentrated or sweetened           0402   \n",
       "830           Milk and cream, concentrated or sweetened           0402   \n",
       "901           Milk and cream, concentrated or sweetened           0402   \n",
       "970           Milk and cream, concentrated or sweetened           0402   \n",
       "1048          Milk and cream, concentrated or sweetened           0402   \n",
       "1121          Milk and cream, concentrated or sweetened           0402   \n",
       "1193          Milk and cream, concentrated or sweetened           0402   \n",
       "1271          Milk and cream, concentrated or sweetened           0402   \n",
       "1354          Milk and cream, concentrated or sweetened           0402   \n",
       "1425          Milk and cream, concentrated or sweetened           0402   \n",
       "\n",
       "      Trade Value (US$)  \n",
       "15              1522872  \n",
       "68              1444455  \n",
       "120             1414291  \n",
       "171             1912257  \n",
       "223             1638838  \n",
       "273             1449614  \n",
       "327             2096771  \n",
       "370             1474883  \n",
       "416             1259777  \n",
       "466             1483422  \n",
       "514             1720555  \n",
       "565             1958660  \n",
       "626             8020014  \n",
       "696             6494426  \n",
       "760             7545848  \n",
       "830             5917331  \n",
       "901             7183954  \n",
       "970             6948169  \n",
       "1048            6630456  \n",
       "1121            7051096  \n",
       "1193            8514848  \n",
       "1271            8638220  \n",
       "1354            7938295  \n",
       "1425            4749124  "
      ]
     },
     "execution_count": 14,
     "metadata": {},
     "output_type": "execute_result"
    }
   ],
   "source": [
    "GROUPING_PARTNERFLOW = ['Partner','Trade Flow']\n",
    "groups = milk_countries.groupby(GROUPING_PARTNERFLOW)\n",
    "\n",
    "GROUP_PARTNERFLOW= ('France','Imports')\n",
    "groups.get_group( GROUP_PARTNERFLOW )"
   ]
  },
  {
   "cell_type": "markdown",
   "metadata": {},
   "source": [
    "To find the leading partner for a particular commodity, group by commodity, get the desired group, and then sort the result."
   ]
  },
  {
   "cell_type": "code",
   "execution_count": 15,
   "metadata": {
    "activity": false,
    "run_control": {
     "read_only": false
    }
   },
   "outputs": [
    {
     "data": {
      "text/html": [
       "<div>\n",
       "<style>\n",
       "    .dataframe thead tr:only-child th {\n",
       "        text-align: right;\n",
       "    }\n",
       "\n",
       "    .dataframe thead th {\n",
       "        text-align: left;\n",
       "    }\n",
       "\n",
       "    .dataframe tbody tr th {\n",
       "        vertical-align: top;\n",
       "    }\n",
       "</style>\n",
       "<table border=\"1\" class=\"dataframe\">\n",
       "  <thead>\n",
       "    <tr style=\"text-align: right;\">\n",
       "      <th></th>\n",
       "      <th>Year</th>\n",
       "      <th>Period</th>\n",
       "      <th>Trade Flow</th>\n",
       "      <th>Reporter</th>\n",
       "      <th>Partner</th>\n",
       "      <th>Commodity</th>\n",
       "      <th>Commodity Code</th>\n",
       "      <th>Trade Value (US$)</th>\n",
       "    </tr>\n",
       "  </thead>\n",
       "  <tbody>\n",
       "    <tr>\n",
       "      <th>954</th>\n",
       "      <td>2014</td>\n",
       "      <td>201406</td>\n",
       "      <td>Exports</td>\n",
       "      <td>United Kingdom</td>\n",
       "      <td>Algeria</td>\n",
       "      <td>Milk and cream, concentrated or sweetened</td>\n",
       "      <td>0402</td>\n",
       "      <td>22411564</td>\n",
       "    </tr>\n",
       "    <tr>\n",
       "      <th>880</th>\n",
       "      <td>2014</td>\n",
       "      <td>201405</td>\n",
       "      <td>Exports</td>\n",
       "      <td>United Kingdom</td>\n",
       "      <td>Algeria</td>\n",
       "      <td>Milk and cream, concentrated or sweetened</td>\n",
       "      <td>0402</td>\n",
       "      <td>19656679</td>\n",
       "    </tr>\n",
       "    <tr>\n",
       "      <th>811</th>\n",
       "      <td>2014</td>\n",
       "      <td>201404</td>\n",
       "      <td>Exports</td>\n",
       "      <td>United Kingdom</td>\n",
       "      <td>Algeria</td>\n",
       "      <td>Milk and cream, concentrated or sweetened</td>\n",
       "      <td>0402</td>\n",
       "      <td>14875816</td>\n",
       "    </tr>\n",
       "    <tr>\n",
       "      <th>841</th>\n",
       "      <td>2014</td>\n",
       "      <td>201404</td>\n",
       "      <td>Exports</td>\n",
       "      <td>United Kingdom</td>\n",
       "      <td>Ireland</td>\n",
       "      <td>Milk and cream, concentrated or sweetened</td>\n",
       "      <td>0402</td>\n",
       "      <td>11712344</td>\n",
       "    </tr>\n",
       "    <tr>\n",
       "      <th>773</th>\n",
       "      <td>2014</td>\n",
       "      <td>201403</td>\n",
       "      <td>Exports</td>\n",
       "      <td>United Kingdom</td>\n",
       "      <td>Ireland</td>\n",
       "      <td>Milk and cream, concentrated or sweetened</td>\n",
       "      <td>0402</td>\n",
       "      <td>11015471</td>\n",
       "    </tr>\n",
       "  </tbody>\n",
       "</table>\n",
       "</div>"
      ],
      "text/plain": [
       "     Year  Period Trade Flow        Reporter  Partner  \\\n",
       "954  2014  201406    Exports  United Kingdom  Algeria   \n",
       "880  2014  201405    Exports  United Kingdom  Algeria   \n",
       "811  2014  201404    Exports  United Kingdom  Algeria   \n",
       "841  2014  201404    Exports  United Kingdom  Ireland   \n",
       "773  2014  201403    Exports  United Kingdom  Ireland   \n",
       "\n",
       "                                     Commodity Commodity Code  \\\n",
       "954  Milk and cream, concentrated or sweetened           0402   \n",
       "880  Milk and cream, concentrated or sweetened           0402   \n",
       "811  Milk and cream, concentrated or sweetened           0402   \n",
       "841  Milk and cream, concentrated or sweetened           0402   \n",
       "773  Milk and cream, concentrated or sweetened           0402   \n",
       "\n",
       "     Trade Value (US$)  \n",
       "954           22411564  \n",
       "880           19656679  \n",
       "811           14875816  \n",
       "841           11712344  \n",
       "773           11015471  "
      ]
     },
     "execution_count": 15,
     "metadata": {},
     "output_type": "execute_result"
    }
   ],
   "source": [
    "groups = milk_countries.groupby(['Commodity Code'])\n",
    "groups.get_group('0402').sort_values(\"Trade Value (US$)\", ascending=False).head()"
   ]
  },
  {
   "cell_type": "markdown",
   "metadata": {},
   "source": [
    "### Task\n",
    "\n",
    "Using your own data set from Exercise 1, try to group the data in a variety of ways, finding the most significant trade partner in each case:\n",
    "\n",
    "- by commodity, or commodity code\n",
    "- by trade flow, commodity and year."
   ]
  },
  {
   "cell_type": "markdown",
   "metadata": {},
   "source": [
    "**Now go back to the course step and mark it complete.**"
   ]
  },
  {
   "cell_type": "markdown",
   "metadata": {},
   "source": [
    "## Exercise 3: Experimenting with Split-Apply-Combine – Summary reports\n",
    "\n",
    "Having learned how to group data using the `groupby()` method, you will now start to put those groups to work."
   ]
  },
  {
   "cell_type": "markdown",
   "metadata": {},
   "source": [
    "### Aggregation operations – Generating *Summary* reports\n",
    "\n",
    "Aggegration operations can be invoked using the `aggregate()` method.\n",
    "\n",
    "To find the total value of imports traded for each commodity within the period, take the world dataframe, and sum the values over the trade value column within each grouping."
   ]
  },
  {
   "cell_type": "code",
   "execution_count": 16,
   "metadata": {
    "activity": false,
    "run_control": {
     "read_only": false
    }
   },
   "outputs": [
    {
     "data": {
      "text/plain": [
       "Commodity Code\n",
       "0401    222107770\n",
       "0402    341777173\n",
       "Name: Trade Value (US$), dtype: int64"
      ]
     },
     "execution_count": 16,
     "metadata": {},
     "output_type": "execute_result"
    }
   ],
   "source": [
    "milk_world_imports.groupby('Commodity Code')['Trade Value (US$)'].aggregate(sum)"
   ]
  },
  {
   "cell_type": "markdown",
   "metadata": {},
   "source": [
    "So that's 222 million dollars or so on the 0401 commodity, and 341 million dollars or so on 0402.\n",
    "\n",
    "If you total (sum) up all the individual country contributions, you should get similar amounts."
   ]
  },
  {
   "cell_type": "code",
   "execution_count": 17,
   "metadata": {
    "activity": false,
    "run_control": {
     "read_only": false
    }
   },
   "outputs": [
    {
     "data": {
      "text/plain": [
       "Commodity Code\n",
       "0401    222107771\n",
       "0402    341777171\n",
       "Name: Trade Value (US$), dtype: int64"
      ]
     },
     "execution_count": 17,
     "metadata": {},
     "output_type": "execute_result"
    }
   ],
   "source": [
    "milk_imports_grouped=milk_countries_imports.groupby('Commodity Code')\n",
    "milk_imports_grouped['Trade Value (US$)'].aggregate(sum)"
   ]
  },
  {
   "cell_type": "markdown",
   "metadata": {},
   "source": [
    "Not far off – there are perhaps a few rounding errors that would account for the odd couple of million that appear to be missing..."
   ]
  },
  {
   "cell_type": "markdown",
   "metadata": {},
   "source": [
    "### Finding top ranked elements within a group\n",
    "\n",
    "To find the leading import partners across all the milk products, group by partner, sum (total) the trade value within each group, and then sort the result in descending order before displaying the top few entries."
   ]
  },
  {
   "cell_type": "code",
   "execution_count": 18,
   "metadata": {
    "activity": false,
    "run_control": {
     "read_only": false
    }
   },
   "outputs": [
    {
     "data": {
      "text/html": [
       "<div>\n",
       "<style>\n",
       "    .dataframe thead tr:only-child th {\n",
       "        text-align: right;\n",
       "    }\n",
       "\n",
       "    .dataframe thead th {\n",
       "        text-align: left;\n",
       "    }\n",
       "\n",
       "    .dataframe tbody tr th {\n",
       "        vertical-align: top;\n",
       "    }\n",
       "</style>\n",
       "<table border=\"1\" class=\"dataframe\">\n",
       "  <thead>\n",
       "    <tr style=\"text-align: right;\">\n",
       "      <th></th>\n",
       "      <th>Trade Value (US$)</th>\n",
       "    </tr>\n",
       "    <tr>\n",
       "      <th>Partner</th>\n",
       "      <th></th>\n",
       "    </tr>\n",
       "  </thead>\n",
       "  <tbody>\n",
       "    <tr>\n",
       "      <th>Ireland</th>\n",
       "      <td>174315886</td>\n",
       "    </tr>\n",
       "    <tr>\n",
       "      <th>France</th>\n",
       "      <td>105008176</td>\n",
       "    </tr>\n",
       "    <tr>\n",
       "      <th>Germany</th>\n",
       "      <td>76612700</td>\n",
       "    </tr>\n",
       "    <tr>\n",
       "      <th>Netherlands</th>\n",
       "      <td>72209235</td>\n",
       "    </tr>\n",
       "    <tr>\n",
       "      <th>Belgium</th>\n",
       "      <td>58338745</td>\n",
       "    </tr>\n",
       "  </tbody>\n",
       "</table>\n",
       "</div>"
      ],
      "text/plain": [
       "             Trade Value (US$)\n",
       "Partner                       \n",
       "Ireland              174315886\n",
       "France               105008176\n",
       "Germany               76612700\n",
       "Netherlands           72209235\n",
       "Belgium               58338745"
      ]
     },
     "execution_count": 18,
     "metadata": {},
     "output_type": "execute_result"
    }
   ],
   "source": [
    "milk_countries_imports_totals=milk_countries_imports.groupby('Partner')[['Trade Value (US$)']].aggregate(sum)\n",
    "milk_countries_imports_totals.sort_values('Trade Value (US$)', ascending=False).head()"
   ]
  },
  {
   "cell_type": "markdown",
   "metadata": {},
   "source": [
    "### Generating simple charts\n",
    "\n",
    "One of the useful features of the `aggregate()` method is that it returns an object that can be plotted from directly, in this example a horizontal bar chart."
   ]
  },
  {
   "cell_type": "code",
   "execution_count": 19,
   "metadata": {
    "activity": false,
    "run_control": {
     "read_only": false
    }
   },
   "outputs": [
    {
     "data": {
      "text/plain": [
       "<matplotlib.axes._subplots.AxesSubplot at 0x241a4afb2b0>"
      ]
     },
     "execution_count": 19,
     "metadata": {},
     "output_type": "execute_result"
    },
    {
     "data": {
      "image/png": "[encoded data removed]",
      "text/plain": [
       "<matplotlib.figure.Figure at 0x241a4abcba8>"
      ]
     },
     "metadata": {},
     "output_type": "display_data"
    }
   ],
   "source": [
    "milk_imports_grouped['Trade Value (US$)'].aggregate(sum).plot(kind='barh')"
   ]
  },
  {
   "cell_type": "markdown",
   "metadata": {},
   "source": [
    "### Generating alternative groupings\n",
    "\n",
    "Reports can also be generated to show the total imports per month for each commodity: group on commodity, trade flow and period, and then sum the trade values contained within each group."
   ]
  },
  {
   "cell_type": "code",
   "execution_count": 20,
   "metadata": {
    "activity": false,
    "run_control": {
     "read_only": false
    }
   },
   "outputs": [
    {
     "data": {
      "text/plain": [
       "Commodity                                           Trade Flow  Period\n",
       "Milk and cream, concentrated or sweetened           Imports     201401    30423330\n",
       "                                                                201402    20614513\n",
       "                                                                201403    26335257\n",
       "                                                                201404    24770338\n",
       "                                                                201405    26409462\n",
       "                                                                201406    29081876\n",
       "                                                                201407    25668642\n",
       "                                                                201408    23360790\n",
       "                                                                201409    37418160\n",
       "                                                                201410    38012444\n",
       "                                                                201411    39465351\n",
       "                                                                201412    20217008\n",
       "Milk and cream, neither concentrated nor sweetened  Imports     201401    21950746\n",
       "                                                                201402    18685554\n",
       "                                                                201403    17984197\n",
       "                                                                201404    19440269\n",
       "                                                                201405    21665662\n",
       "                                                                201406    16022428\n",
       "                                                                201407    19128109\n",
       "                                                                201408    16934043\n",
       "                                                                201409    19284385\n",
       "                                                                201410    18353099\n",
       "                                                                201411    17617864\n",
       "                                                                201412    15041415\n",
       "Name: Trade Value (US$), dtype: int64"
      ]
     },
     "execution_count": 20,
     "metadata": {},
     "output_type": "execute_result"
    }
   ],
   "source": [
    "monthlies=milk_countries_imports.groupby(['Commodity','Trade Flow','Period'])['Trade Value (US$)'].aggregate(sum)\n",
    "monthlies"
   ]
  },
  {
   "cell_type": "markdown",
   "metadata": {},
   "source": [
    "The `groupby()` method *splits* the data into separate distinct groups of rows, and then the `aggregate()` method takes each group of rows from the results of the `groupby()` operation, *applies* the specified aggregation function, and then *combines* the results in the output. \n",
    "\n",
    "The aggregation function itself is applied to all columns of an appropriate type. In the example, the only numeric column that makes sense to aggregate over is the trade value column.\n",
    "\n",
    "As well as built in summary operations, such as finding the total (`sum`), or maximum or minimum value in a group (`max`, `min`), aggregating functions imported from other Python packages can also be used. As shown in the next example, the `numpy` package has a function `mean` that will calculate the mean (simple average) value for a set of values.\n",
    "\n",
    "### Generating several aggregation values at the same time\n",
    "To generate several aggregate reports in a single line of code, provide a list of several aggregating operations to the `aggregate()` method:"
   ]
  },
  {
   "cell_type": "code",
   "execution_count": 21,
   "metadata": {
    "activity": false,
    "run_control": {
     "read_only": false
    }
   },
   "outputs": [
    {
     "data": {
      "text/html": [
       "<div>\n",
       "<style>\n",
       "    .dataframe thead tr:only-child th {\n",
       "        text-align: right;\n",
       "    }\n",
       "\n",
       "    .dataframe thead th {\n",
       "        text-align: left;\n",
       "    }\n",
       "\n",
       "    .dataframe tbody tr th {\n",
       "        vertical-align: top;\n",
       "    }\n",
       "</style>\n",
       "<table border=\"1\" class=\"dataframe\">\n",
       "  <thead>\n",
       "    <tr style=\"text-align: right;\">\n",
       "      <th></th>\n",
       "      <th></th>\n",
       "      <th></th>\n",
       "      <th>sum</th>\n",
       "      <th>min</th>\n",
       "      <th>max</th>\n",
       "      <th>mean</th>\n",
       "    </tr>\n",
       "    <tr>\n",
       "      <th>Commodity</th>\n",
       "      <th>Trade Flow</th>\n",
       "      <th>Period</th>\n",
       "      <th></th>\n",
       "      <th></th>\n",
       "      <th></th>\n",
       "      <th></th>\n",
       "    </tr>\n",
       "  </thead>\n",
       "  <tbody>\n",
       "    <tr>\n",
       "      <th rowspan=\"24\" valign=\"top\">Milk and cream, concentrated or sweetened</th>\n",
       "      <th rowspan=\"12\" valign=\"top\">Exports</th>\n",
       "      <th>201401</th>\n",
       "      <td>40215103</td>\n",
       "      <td>5</td>\n",
       "      <td>8908460</td>\n",
       "      <td>6.933638e+05</td>\n",
       "    </tr>\n",
       "    <tr>\n",
       "      <th>201402</th>\n",
       "      <td>32298379</td>\n",
       "      <td>2</td>\n",
       "      <td>9634586</td>\n",
       "      <td>6.333015e+05</td>\n",
       "    </tr>\n",
       "    <tr>\n",
       "      <th>201403</th>\n",
       "      <td>42987355</td>\n",
       "      <td>116</td>\n",
       "      <td>11015471</td>\n",
       "      <td>8.266799e+05</td>\n",
       "    </tr>\n",
       "    <tr>\n",
       "      <th>201404</th>\n",
       "      <td>52900517</td>\n",
       "      <td>5</td>\n",
       "      <td>14875816</td>\n",
       "      <td>1.037265e+06</td>\n",
       "    </tr>\n",
       "    <tr>\n",
       "      <th>201405</th>\n",
       "      <td>55987927</td>\n",
       "      <td>10</td>\n",
       "      <td>19656679</td>\n",
       "      <td>9.653091e+05</td>\n",
       "    </tr>\n",
       "    <tr>\n",
       "      <th>201406</th>\n",
       "      <td>59594101</td>\n",
       "      <td>24</td>\n",
       "      <td>22411564</td>\n",
       "      <td>1.045511e+06</td>\n",
       "    </tr>\n",
       "    <tr>\n",
       "      <th>201407</th>\n",
       "      <td>33370590</td>\n",
       "      <td>7</td>\n",
       "      <td>8430285</td>\n",
       "      <td>5.959034e+05</td>\n",
       "    </tr>\n",
       "    <tr>\n",
       "      <th>201408</th>\n",
       "      <td>35080215</td>\n",
       "      <td>23</td>\n",
       "      <td>7431534</td>\n",
       "      <td>6.048313e+05</td>\n",
       "    </tr>\n",
       "    <tr>\n",
       "      <th>201409</th>\n",
       "      <td>27320915</td>\n",
       "      <td>37</td>\n",
       "      <td>5498955</td>\n",
       "      <td>4.793143e+05</td>\n",
       "    </tr>\n",
       "    <tr>\n",
       "      <th>201410</th>\n",
       "      <td>30387862</td>\n",
       "      <td>21</td>\n",
       "      <td>4074424</td>\n",
       "      <td>4.675056e+05</td>\n",
       "    </tr>\n",
       "    <tr>\n",
       "      <th>201411</th>\n",
       "      <td>23417285</td>\n",
       "      <td>35</td>\n",
       "      <td>4721974</td>\n",
       "      <td>4.181658e+05</td>\n",
       "    </tr>\n",
       "    <tr>\n",
       "      <th>201412</th>\n",
       "      <td>31301034</td>\n",
       "      <td>217</td>\n",
       "      <td>6267310</td>\n",
       "      <td>5.491409e+05</td>\n",
       "    </tr>\n",
       "    <tr>\n",
       "      <th rowspan=\"12\" valign=\"top\">Imports</th>\n",
       "      <th>201401</th>\n",
       "      <td>30423330</td>\n",
       "      <td>932</td>\n",
       "      <td>8020014</td>\n",
       "      <td>2.535278e+06</td>\n",
       "    </tr>\n",
       "    <tr>\n",
       "      <th>201402</th>\n",
       "      <td>20614513</td>\n",
       "      <td>1427</td>\n",
       "      <td>6494426</td>\n",
       "      <td>1.717876e+06</td>\n",
       "    </tr>\n",
       "    <tr>\n",
       "      <th>201403</th>\n",
       "      <td>26335257</td>\n",
       "      <td>507</td>\n",
       "      <td>7545848</td>\n",
       "      <td>2.025789e+06</td>\n",
       "    </tr>\n",
       "    <tr>\n",
       "      <th>201404</th>\n",
       "      <td>24770338</td>\n",
       "      <td>346</td>\n",
       "      <td>5956478</td>\n",
       "      <td>1.548146e+06</td>\n",
       "    </tr>\n",
       "    <tr>\n",
       "      <th>201405</th>\n",
       "      <td>26409462</td>\n",
       "      <td>7</td>\n",
       "      <td>7183954</td>\n",
       "      <td>1.886390e+06</td>\n",
       "    </tr>\n",
       "    <tr>\n",
       "      <th>201406</th>\n",
       "      <td>29081876</td>\n",
       "      <td>352</td>\n",
       "      <td>8337597</td>\n",
       "      <td>1.938792e+06</td>\n",
       "    </tr>\n",
       "    <tr>\n",
       "      <th>201407</th>\n",
       "      <td>25668642</td>\n",
       "      <td>413</td>\n",
       "      <td>6630456</td>\n",
       "      <td>1.711243e+06</td>\n",
       "    </tr>\n",
       "    <tr>\n",
       "      <th>201408</th>\n",
       "      <td>23360790</td>\n",
       "      <td>292</td>\n",
       "      <td>7051096</td>\n",
       "      <td>1.946732e+06</td>\n",
       "    </tr>\n",
       "    <tr>\n",
       "      <th>201409</th>\n",
       "      <td>37418160</td>\n",
       "      <td>284</td>\n",
       "      <td>8514848</td>\n",
       "      <td>2.338635e+06</td>\n",
       "    </tr>\n",
       "    <tr>\n",
       "      <th>201410</th>\n",
       "      <td>38012444</td>\n",
       "      <td>432</td>\n",
       "      <td>9941905</td>\n",
       "      <td>2.111802e+06</td>\n",
       "    </tr>\n",
       "    <tr>\n",
       "      <th>201411</th>\n",
       "      <td>39465351</td>\n",
       "      <td>560</td>\n",
       "      <td>8630781</td>\n",
       "      <td>2.466584e+06</td>\n",
       "    </tr>\n",
       "    <tr>\n",
       "      <th>201412</th>\n",
       "      <td>20217008</td>\n",
       "      <td>411</td>\n",
       "      <td>4749124</td>\n",
       "      <td>1.555154e+06</td>\n",
       "    </tr>\n",
       "    <tr>\n",
       "      <th rowspan=\"24\" valign=\"top\">Milk and cream, neither concentrated nor sweetened</th>\n",
       "      <th rowspan=\"12\" valign=\"top\">Exports</th>\n",
       "      <th>201401</th>\n",
       "      <td>46923551</td>\n",
       "      <td>20</td>\n",
       "      <td>32069689</td>\n",
       "      <td>1.303432e+06</td>\n",
       "    </tr>\n",
       "    <tr>\n",
       "      <th>201402</th>\n",
       "      <td>40191337</td>\n",
       "      <td>15</td>\n",
       "      <td>30336727</td>\n",
       "      <td>1.148324e+06</td>\n",
       "    </tr>\n",
       "    <tr>\n",
       "      <th>201403</th>\n",
       "      <td>43794069</td>\n",
       "      <td>48</td>\n",
       "      <td>27302843</td>\n",
       "      <td>1.183623e+06</td>\n",
       "    </tr>\n",
       "    <tr>\n",
       "      <th>201404</th>\n",
       "      <td>42295261</td>\n",
       "      <td>17</td>\n",
       "      <td>30012776</td>\n",
       "      <td>1.143115e+06</td>\n",
       "    </tr>\n",
       "    <tr>\n",
       "      <th>201405</th>\n",
       "      <td>40213208</td>\n",
       "      <td>175</td>\n",
       "      <td>30436121</td>\n",
       "      <td>1.182741e+06</td>\n",
       "    </tr>\n",
       "    <tr>\n",
       "      <th>201406</th>\n",
       "      <td>39721799</td>\n",
       "      <td>30</td>\n",
       "      <td>31043637</td>\n",
       "      <td>1.134909e+06</td>\n",
       "    </tr>\n",
       "    <tr>\n",
       "      <th>201407</th>\n",
       "      <td>39508126</td>\n",
       "      <td>365</td>\n",
       "      <td>29943028</td>\n",
       "      <td>1.162004e+06</td>\n",
       "    </tr>\n",
       "    <tr>\n",
       "      <th>201408</th>\n",
       "      <td>26657488</td>\n",
       "      <td>28</td>\n",
       "      <td>23573848</td>\n",
       "      <td>9.873144e+05</td>\n",
       "    </tr>\n",
       "    <tr>\n",
       "      <th>201409</th>\n",
       "      <td>33279378</td>\n",
       "      <td>11</td>\n",
       "      <td>28619275</td>\n",
       "      <td>9.244272e+05</td>\n",
       "    </tr>\n",
       "    <tr>\n",
       "      <th>201410</th>\n",
       "      <td>26615555</td>\n",
       "      <td>11</td>\n",
       "      <td>21360068</td>\n",
       "      <td>8.585663e+05</td>\n",
       "    </tr>\n",
       "    <tr>\n",
       "      <th>201411</th>\n",
       "      <td>25876673</td>\n",
       "      <td>27</td>\n",
       "      <td>20206100</td>\n",
       "      <td>7.393335e+05</td>\n",
       "    </tr>\n",
       "    <tr>\n",
       "      <th>201412</th>\n",
       "      <td>28714207</td>\n",
       "      <td>33</td>\n",
       "      <td>21434455</td>\n",
       "      <td>7.003465e+05</td>\n",
       "    </tr>\n",
       "    <tr>\n",
       "      <th rowspan=\"12\" valign=\"top\">Imports</th>\n",
       "      <th>201401</th>\n",
       "      <td>21950746</td>\n",
       "      <td>68</td>\n",
       "      <td>10676138</td>\n",
       "      <td>1.688519e+06</td>\n",
       "    </tr>\n",
       "    <tr>\n",
       "      <th>201402</th>\n",
       "      <td>18685554</td>\n",
       "      <td>12</td>\n",
       "      <td>10091544</td>\n",
       "      <td>1.334682e+06</td>\n",
       "    </tr>\n",
       "    <tr>\n",
       "      <th>201403</th>\n",
       "      <td>17984197</td>\n",
       "      <td>4405</td>\n",
       "      <td>8843285</td>\n",
       "      <td>1.383400e+06</td>\n",
       "    </tr>\n",
       "    <tr>\n",
       "      <th>201404</th>\n",
       "      <td>19440269</td>\n",
       "      <td>567</td>\n",
       "      <td>7453388</td>\n",
       "      <td>1.215017e+06</td>\n",
       "    </tr>\n",
       "    <tr>\n",
       "      <th>201405</th>\n",
       "      <td>21665662</td>\n",
       "      <td>912</td>\n",
       "      <td>11065926</td>\n",
       "      <td>1.547547e+06</td>\n",
       "    </tr>\n",
       "    <tr>\n",
       "      <th>201406</th>\n",
       "      <td>16022428</td>\n",
       "      <td>250</td>\n",
       "      <td>7597407</td>\n",
       "      <td>1.232494e+06</td>\n",
       "    </tr>\n",
       "    <tr>\n",
       "      <th>201407</th>\n",
       "      <td>19128109</td>\n",
       "      <td>4644</td>\n",
       "      <td>7709174</td>\n",
       "      <td>1.366294e+06</td>\n",
       "    </tr>\n",
       "    <tr>\n",
       "      <th>201408</th>\n",
       "      <td>16934043</td>\n",
       "      <td>4543</td>\n",
       "      <td>9093382</td>\n",
       "      <td>1.302619e+06</td>\n",
       "    </tr>\n",
       "    <tr>\n",
       "      <th>201409</th>\n",
       "      <td>19284385</td>\n",
       "      <td>440</td>\n",
       "      <td>11583314</td>\n",
       "      <td>1.483414e+06</td>\n",
       "    </tr>\n",
       "    <tr>\n",
       "      <th>201410</th>\n",
       "      <td>18353099</td>\n",
       "      <td>6568</td>\n",
       "      <td>10370276</td>\n",
       "      <td>1.411777e+06</td>\n",
       "    </tr>\n",
       "    <tr>\n",
       "      <th>201411</th>\n",
       "      <td>17617864</td>\n",
       "      <td>421</td>\n",
       "      <td>9939612</td>\n",
       "      <td>1.258419e+06</td>\n",
       "    </tr>\n",
       "    <tr>\n",
       "      <th>201412</th>\n",
       "      <td>15041415</td>\n",
       "      <td>2572</td>\n",
       "      <td>6956193</td>\n",
       "      <td>1.157032e+06</td>\n",
       "    </tr>\n",
       "  </tbody>\n",
       "</table>\n",
       "</div>"
      ],
      "text/plain": [
       "                                                                           sum  \\\n",
       "Commodity                                          Trade Flow Period             \n",
       "Milk and cream, concentrated or sweetened          Exports    201401  40215103   \n",
       "                                                              201402  32298379   \n",
       "                                                              201403  42987355   \n",
       "                                                              201404  52900517   \n",
       "                                                              201405  55987927   \n",
       "                                                              201406  59594101   \n",
       "                                                              201407  33370590   \n",
       "                                                              201408  35080215   \n",
       "                                                              201409  27320915   \n",
       "                                                              201410  30387862   \n",
       "                                                              201411  23417285   \n",
       "                                                              201412  31301034   \n",
       "                                                   Imports    201401  30423330   \n",
       "                                                              201402  20614513   \n",
       "                                                              201403  26335257   \n",
       "                                                              201404  24770338   \n",
       "                                                              201405  26409462   \n",
       "                                                              201406  29081876   \n",
       "                                                              201407  25668642   \n",
       "                                                              201408  23360790   \n",
       "                                                              201409  37418160   \n",
       "                                                              201410  38012444   \n",
       "                                                              201411  39465351   \n",
       "                                                              201412  20217008   \n",
       "Milk and cream, neither concentrated nor sweetened Exports    201401  46923551   \n",
       "                                                              201402  40191337   \n",
       "                                                              201403  43794069   \n",
       "                                                              201404  42295261   \n",
       "                                                              201405  40213208   \n",
       "                                                              201406  39721799   \n",
       "                                                              201407  39508126   \n",
       "                                                              201408  26657488   \n",
       "                                                              201409  33279378   \n",
       "                                                              201410  26615555   \n",
       "                                                              201411  25876673   \n",
       "                                                              201412  28714207   \n",
       "                                                   Imports    201401  21950746   \n",
       "                                                              201402  18685554   \n",
       "                                                              201403  17984197   \n",
       "                                                              201404  19440269   \n",
       "                                                              201405  21665662   \n",
       "                                                              201406  16022428   \n",
       "                                                              201407  19128109   \n",
       "                                                              201408  16934043   \n",
       "                                                              201409  19284385   \n",
       "                                                              201410  18353099   \n",
       "                                                              201411  17617864   \n",
       "                                                              201412  15041415   \n",
       "\n",
       "                                                                       min  \\\n",
       "Commodity                                          Trade Flow Period         \n",
       "Milk and cream, concentrated or sweetened          Exports    201401     5   \n",
       "                                                              201402     2   \n",
       "                                                              201403   116   \n",
       "                                                              201404     5   \n",
       "                                                              201405    10   \n",
       "                                                              201406    24   \n",
       "                                                              201407     7   \n",
       "                                                              201408    23   \n",
       "                                                              201409    37   \n",
       "                                                              201410    21   \n",
       "                                                              201411    35   \n",
       "                                                              201412   217   \n",
       "                                                   Imports    201401   932   \n",
       "                                                              201402  1427   \n",
       "                                                              201403   507   \n",
       "                                                              201404   346   \n",
       "                                                              201405     7   \n",
       "                                                              201406   352   \n",
       "                                                              201407   413   \n",
       "                                                              201408   292   \n",
       "                                                              201409   284   \n",
       "                                                              201410   432   \n",
       "                                                              201411   560   \n",
       "                                                              201412   411   \n",
       "Milk and cream, neither concentrated nor sweetened Exports    201401    20   \n",
       "                                                              201402    15   \n",
       "                                                              201403    48   \n",
       "                                                              201404    17   \n",
       "                                                              201405   175   \n",
       "                                                              201406    30   \n",
       "                                                              201407   365   \n",
       "                                                              201408    28   \n",
       "                                                              201409    11   \n",
       "                                                              201410    11   \n",
       "                                                              201411    27   \n",
       "                                                              201412    33   \n",
       "                                                   Imports    201401    68   \n",
       "                                                              201402    12   \n",
       "                                                              201403  4405   \n",
       "                                                              201404   567   \n",
       "                                                              201405   912   \n",
       "                                                              201406   250   \n",
       "                                                              201407  4644   \n",
       "                                                              201408  4543   \n",
       "                                                              201409   440   \n",
       "                                                              201410  6568   \n",
       "                                                              201411   421   \n",
       "                                                              201412  2572   \n",
       "\n",
       "                                                                           max  \\\n",
       "Commodity                                          Trade Flow Period             \n",
       "Milk and cream, concentrated or sweetened          Exports    201401   8908460   \n",
       "                                                              201402   9634586   \n",
       "                                                              201403  11015471   \n",
       "                                                              201404  14875816   \n",
       "                                                              201405  19656679   \n",
       "                                                              201406  22411564   \n",
       "                                                              201407   8430285   \n",
       "                                                              201408   7431534   \n",
       "                                                              201409   5498955   \n",
       "                                                              201410   4074424   \n",
       "                                                              201411   4721974   \n",
       "                                                              201412   6267310   \n",
       "                                                   Imports    201401   8020014   \n",
       "                                                              201402   6494426   \n",
       "                                                              201403   7545848   \n",
       "                                                              201404   5956478   \n",
       "                                                              201405   7183954   \n",
       "                                                              201406   8337597   \n",
       "                                                              201407   6630456   \n",
       "                                                              201408   7051096   \n",
       "                                                              201409   8514848   \n",
       "                                                              201410   9941905   \n",
       "                                                              201411   8630781   \n",
       "                                                              201412   4749124   \n",
       "Milk and cream, neither concentrated nor sweetened Exports    201401  32069689   \n",
       "                                                              201402  30336727   \n",
       "                                                              201403  27302843   \n",
       "                                                              201404  30012776   \n",
       "                                                              201405  30436121   \n",
       "                                                              201406  31043637   \n",
       "                                                              201407  29943028   \n",
       "                                                              201408  23573848   \n",
       "                                                              201409  28619275   \n",
       "                                                              201410  21360068   \n",
       "                                                              201411  20206100   \n",
       "                                                              201412  21434455   \n",
       "                                                   Imports    201401  10676138   \n",
       "                                                              201402  10091544   \n",
       "                                                              201403   8843285   \n",
       "                                                              201404   7453388   \n",
       "                                                              201405  11065926   \n",
       "                                                              201406   7597407   \n",
       "                                                              201407   7709174   \n",
       "                                                              201408   9093382   \n",
       "                                                              201409  11583314   \n",
       "                                                              201410  10370276   \n",
       "                                                              201411   9939612   \n",
       "                                                              201412   6956193   \n",
       "\n",
       "                                                                              mean  \n",
       "Commodity                                          Trade Flow Period                \n",
       "Milk and cream, concentrated or sweetened          Exports    201401  6.933638e+05  \n",
       "                                                              201402  6.333015e+05  \n",
       "                                                              201403  8.266799e+05  \n",
       "                                                              201404  1.037265e+06  \n",
       "                                                              201405  9.653091e+05  \n",
       "                                                              201406  1.045511e+06  \n",
       "                                                              201407  5.959034e+05  \n",
       "                                                              201408  6.048313e+05  \n",
       "                                                              201409  4.793143e+05  \n",
       "                                                              201410  4.675056e+05  \n",
       "                                                              201411  4.181658e+05  \n",
       "                                                              201412  5.491409e+05  \n",
       "                                                   Imports    201401  2.535278e+06  \n",
       "                                                              201402  1.717876e+06  \n",
       "                                                              201403  2.025789e+06  \n",
       "                                                              201404  1.548146e+06  \n",
       "                                                              201405  1.886390e+06  \n",
       "                                                              201406  1.938792e+06  \n",
       "                                                              201407  1.711243e+06  \n",
       "                                                              201408  1.946732e+06  \n",
       "                                                              201409  2.338635e+06  \n",
       "                                                              201410  2.111802e+06  \n",
       "                                                              201411  2.466584e+06  \n",
       "                                                              201412  1.555154e+06  \n",
       "Milk and cream, neither concentrated nor sweetened Exports    201401  1.303432e+06  \n",
       "                                                              201402  1.148324e+06  \n",
       "                                                              201403  1.183623e+06  \n",
       "                                                              201404  1.143115e+06  \n",
       "                                                              201405  1.182741e+06  \n",
       "                                                              201406  1.134909e+06  \n",
       "                                                              201407  1.162004e+06  \n",
       "                                                              201408  9.873144e+05  \n",
       "                                                              201409  9.244272e+05  \n",
       "                                                              201410  8.585663e+05  \n",
       "                                                              201411  7.393335e+05  \n",
       "                                                              201412  7.003465e+05  \n",
       "                                                   Imports    201401  1.688519e+06  \n",
       "                                                              201402  1.334682e+06  \n",
       "                                                              201403  1.383400e+06  \n",
       "                                                              201404  1.215017e+06  \n",
       "                                                              201405  1.547547e+06  \n",
       "                                                              201406  1.232494e+06  \n",
       "                                                              201407  1.366294e+06  \n",
       "                                                              201408  1.302619e+06  \n",
       "                                                              201409  1.483414e+06  \n",
       "                                                              201410  1.411777e+06  \n",
       "                                                              201411  1.258419e+06  \n",
       "                                                              201412  1.157032e+06  "
      ]
     },
     "execution_count": 21,
     "metadata": {},
     "output_type": "execute_result"
    }
   ],
   "source": [
    "from numpy import mean\n",
    "\n",
    "GROUPING_COMMFLOWPERIOD=['Commodity','Trade Flow','Period']\n",
    "milk_countries.groupby(GROUPING_COMMFLOWPERIOD)['Trade Value (US$)'].aggregate([sum, min, max, mean])"
   ]
  },
  {
   "cell_type": "markdown",
   "metadata": {},
   "source": [
    "By combining different grouping combinations and aggregate functions, you can quickly ask a range of questions over the data or generate a wide variety of charts from it.\n",
    "\n",
    "Sometimes, however,  it can be quite hard to see any 'outstanding' values in a complex pivot table. In such cases, a chart may help you see which values are significantly larger or smaller than the other values.\n",
    "\n",
    "For example, plot the maximum value by month across each code/period combination to see which month saw the maximum peak flow of imports from a single partner."
   ]
  },
  {
   "cell_type": "code",
   "execution_count": 22,
   "metadata": {
    "activity": false,
    "run_control": {
     "read_only": false
    }
   },
   "outputs": [
    {
     "data": {
      "text/plain": [
       "<matplotlib.axes._subplots.AxesSubplot at 0x241a76ed860>"
      ]
     },
     "execution_count": 22,
     "metadata": {},
     "output_type": "execute_result"
    },
    {
     "data": {
      "image/png": "[encoded data removed]",
      "text/plain": [
       "<matplotlib.figure.Figure at 0x241a7695048>"
      ]
     },
     "metadata": {},
     "output_type": "display_data"
    }
   ],
   "source": [
    "milk_countries_imports.groupby(['Commodity Code','Period'])['Trade Value (US$)'].aggregate(max).plot(kind='barh')"
   ]
  },
  {
   "cell_type": "markdown",
   "metadata": {},
   "source": [
    "For the 0401 commodity, the largest single monthly trade flow in 2014 appears to have taken place in September (201409). For the 0402 commodity, the weakest month was December, 2014."
   ]
  },
  {
   "cell_type": "markdown",
   "metadata": {},
   "source": [
    "To chart the mean trade flows by month, simply aggregate on the *mean* rather than the `max`."
   ]
  },
  {
   "cell_type": "markdown",
   "metadata": {},
   "source": [
    "In some cases, you might want to sort the order of the bars in a bar chart by value. By default, the `sort_values()` operator sorts a series or dataframe 'in place'. That is, it sorts the dataframe and doesn't return anything. Use the `inplace=False` parameter to return the sorted values so that the plot function can work on them.\n",
    "\n",
    "The following chart displays the total imports for the combined commodities by partner (including the *World* partner) for the top five partners: the `sort_values()` element sorts the values in descending order, passes them to the `head()` element, which selects the top five and passes those onto the plotting function."
   ]
  },
  {
   "cell_type": "code",
   "execution_count": 23,
   "metadata": {},
   "outputs": [
    {
     "data": {
      "text/plain": [
       "Partner\n",
       "Austria         798816\n",
       "Belgium       58338745\n",
       "Czech Rep.     1254989\n",
       "Denmark       30534642\n",
       "Finland             12\n",
       "Name: Trade Value (US$), dtype: int64"
      ]
     },
     "execution_count": 23,
     "metadata": {},
     "output_type": "execute_result"
    }
   ],
   "source": [
    "milk_bypartner_total=milk[milk[\"Trade Flow\"]=='Imports'].groupby(['Partner'])['Trade Value (US$)'].aggregate(sum)\n",
    "milk_bypartner_total.head(5)"
   ]
  },
  {
   "cell_type": "markdown",
   "metadata": {},
   "source": [
    "In this case, we don't need to specify the column name when sorting because the aggregation operator returns a *pandas* `Series` and we can sort the values directly:"
   ]
  },
  {
   "cell_type": "code",
   "execution_count": 24,
   "metadata": {
    "activity": false,
    "run_control": {
     "read_only": false
    }
   },
   "outputs": [
    {
     "data": {
      "text/plain": [
       "<matplotlib.axes._subplots.AxesSubplot at 0x241a77916a0>"
      ]
     },
     "execution_count": 24,
     "metadata": {},
     "output_type": "execute_result"
    },
    {
     "data": {
      "image/png": "[encoded data removed]",
      "text/plain": [
       "<matplotlib.figure.Figure at 0x241a7805470>"
      ]
     },
     "metadata": {},
     "output_type": "display_data"
    }
   ],
   "source": [
    "milk_bypartner_total.sort_values(ascending=False, inplace=False).head(5).plot(kind='barh')"
   ]
  },
  {
   "cell_type": "markdown",
   "metadata": {},
   "source": [
    "### Tasks\n",
    "\n",
    "For the 0402 trade item, which months saw the greatest average (mean) activity? How does that compare with the maximum flows in each month? How does it compare with the total flow in each month?\n",
    "\n",
    "Download your own choice of monthly dataset over one or two years containing both import and export data. (To start with, you may find it convenient to split the data into two dataframes, one for exports and one for imports.)\n",
    "\n",
    "Using your own data:\n",
    "\n",
    "- find out which months saw the largest total value of imports, or exports? \n",
    "- assess, by eye, if there appears to be any seasonal trend in the behaviour of imports or exports?\n",
    "- plot a bar chart showing the top three importers or exporters of your selected trade item over the period you grabbed the data for, compared to the total world trade value.\n"
   ]
  },
  {
   "cell_type": "markdown",
   "metadata": {},
   "source": [
    "**Now go back to the course step and mark it complete.**"
   ]
  },
  {
   "cell_type": "markdown",
   "metadata": {},
   "source": [
    "## Exercise 4: Filtering groups\n",
    "\n",
    "If you have a large dataset that can be split into multiple groups but for which you only want to report on groups that have a particular property, the `filter()` method can be used to apply a test to a group and only return rows from groups that pass a particular group-wide test. If the test evaluates as `False`, the rows included in that group will be ignored."
   ]
  },
  {
   "cell_type": "markdown",
   "metadata": {},
   "source": [
    "Consider the following simple test dataset:"
   ]
  },
  {
   "cell_type": "code",
   "execution_count": 25,
   "metadata": {
    "activity": false,
    "run_control": {
     "read_only": false
    }
   },
   "outputs": [
    {
     "data": {
      "text/html": [
       "<div>\n",
       "<style>\n",
       "    .dataframe thead tr:only-child th {\n",
       "        text-align: right;\n",
       "    }\n",
       "\n",
       "    .dataframe thead th {\n",
       "        text-align: left;\n",
       "    }\n",
       "\n",
       "    .dataframe tbody tr th {\n",
       "        vertical-align: top;\n",
       "    }\n",
       "</style>\n",
       "<table border=\"1\" class=\"dataframe\">\n",
       "  <thead>\n",
       "    <tr style=\"text-align: right;\">\n",
       "      <th></th>\n",
       "      <th>Commodity</th>\n",
       "      <th>Trade Flow</th>\n",
       "      <th>Value</th>\n",
       "    </tr>\n",
       "  </thead>\n",
       "  <tbody>\n",
       "    <tr>\n",
       "      <th>0</th>\n",
       "      <td>Fish</td>\n",
       "      <td>Import</td>\n",
       "      <td>1</td>\n",
       "    </tr>\n",
       "    <tr>\n",
       "      <th>1</th>\n",
       "      <td>Milk</td>\n",
       "      <td>Import</td>\n",
       "      <td>2</td>\n",
       "    </tr>\n",
       "    <tr>\n",
       "      <th>2</th>\n",
       "      <td>Eggs</td>\n",
       "      <td>Import</td>\n",
       "      <td>4</td>\n",
       "    </tr>\n",
       "    <tr>\n",
       "      <th>3</th>\n",
       "      <td>Fish</td>\n",
       "      <td>Export</td>\n",
       "      <td>8</td>\n",
       "    </tr>\n",
       "    <tr>\n",
       "      <th>4</th>\n",
       "      <td>Milk</td>\n",
       "      <td>Export</td>\n",
       "      <td>16</td>\n",
       "    </tr>\n",
       "  </tbody>\n",
       "</table>\n",
       "</div>"
      ],
      "text/plain": [
       "  Commodity Trade Flow  Value\n",
       "0      Fish     Import      1\n",
       "1      Milk     Import      2\n",
       "2      Eggs     Import      4\n",
       "3      Fish     Export      8\n",
       "4      Milk     Export     16"
      ]
     },
     "execution_count": 25,
     "metadata": {},
     "output_type": "execute_result"
    }
   ],
   "source": [
    "df = DataFrame({'Commodity' : ['Fish', 'Milk', 'Eggs', 'Fish', 'Milk'],\n",
    "                'Trade Flow' : ['Import', 'Import', 'Import', 'Export','Export'],\n",
    "                'Value' : [1,2,4,8,16]})\n",
    "df"
   ]
  },
  {
   "cell_type": "markdown",
   "metadata": {},
   "source": [
    "One reason for filtering a dataset might be to exclude 'sparse' or infrequently occurring items, such as trade partners who only seem to trade for less than six months of the year.\n",
    "\n",
    "To select just the groups that contain more than a certain number of rows, define a function to test the length (that is, the number of rows) of each group and return a `True` or `False` value depending on the test.\n",
    "\n",
    "In the following case, group by trade flow and only return rows from groups containing three or more rows."
   ]
  },
  {
   "cell_type": "code",
   "execution_count": 26,
   "metadata": {
    "activity": false,
    "run_control": {
     "read_only": false
    }
   },
   "outputs": [
    {
     "data": {
      "text/html": [
       "<div>\n",
       "<style>\n",
       "    .dataframe thead tr:only-child th {\n",
       "        text-align: right;\n",
       "    }\n",
       "\n",
       "    .dataframe thead th {\n",
       "        text-align: left;\n",
       "    }\n",
       "\n",
       "    .dataframe tbody tr th {\n",
       "        vertical-align: top;\n",
       "    }\n",
       "</style>\n",
       "<table border=\"1\" class=\"dataframe\">\n",
       "  <thead>\n",
       "    <tr style=\"text-align: right;\">\n",
       "      <th></th>\n",
       "      <th>Commodity</th>\n",
       "      <th>Trade Flow</th>\n",
       "      <th>Value</th>\n",
       "    </tr>\n",
       "  </thead>\n",
       "  <tbody>\n",
       "    <tr>\n",
       "      <th>0</th>\n",
       "      <td>Fish</td>\n",
       "      <td>Import</td>\n",
       "      <td>1</td>\n",
       "    </tr>\n",
       "    <tr>\n",
       "      <th>1</th>\n",
       "      <td>Milk</td>\n",
       "      <td>Import</td>\n",
       "      <td>2</td>\n",
       "    </tr>\n",
       "    <tr>\n",
       "      <th>2</th>\n",
       "      <td>Eggs</td>\n",
       "      <td>Import</td>\n",
       "      <td>4</td>\n",
       "    </tr>\n",
       "  </tbody>\n",
       "</table>\n",
       "</div>"
      ],
      "text/plain": [
       "  Commodity Trade Flow  Value\n",
       "0      Fish     Import      1\n",
       "1      Milk     Import      2\n",
       "2      Eggs     Import      4"
      ]
     },
     "execution_count": 26,
     "metadata": {},
     "output_type": "execute_result"
    }
   ],
   "source": [
    "def groupsOfThreeOrMoreRows(g):\n",
    "    return len(g) >= 3\n",
    "\n",
    "df.groupby('Trade Flow').filter(groupsOfThreeOrMoreRows)"
   ]
  },
  {
   "cell_type": "markdown",
   "metadata": {},
   "source": [
    "You can also select groups based on other group properties. For example, you might select just the groups where the total value for a particular column within a group exceeds a certain threshold.\n",
    "\n",
    "In the following case, select just those commodities where the sum of import and export values is greater than a certain amount to indicate which ones have a large value of trade, in whatever direction, associated with them. First group by the commodity, then filter on the group property of interest."
   ]
  },
  {
   "cell_type": "code",
   "execution_count": 27,
   "metadata": {
    "activity": false,
    "run_control": {
     "read_only": false
    }
   },
   "outputs": [
    {
     "data": {
      "text/html": [
       "<div>\n",
       "<style>\n",
       "    .dataframe thead tr:only-child th {\n",
       "        text-align: right;\n",
       "    }\n",
       "\n",
       "    .dataframe thead th {\n",
       "        text-align: left;\n",
       "    }\n",
       "\n",
       "    .dataframe tbody tr th {\n",
       "        vertical-align: top;\n",
       "    }\n",
       "</style>\n",
       "<table border=\"1\" class=\"dataframe\">\n",
       "  <thead>\n",
       "    <tr style=\"text-align: right;\">\n",
       "      <th></th>\n",
       "      <th>Commodity</th>\n",
       "      <th>Trade Flow</th>\n",
       "      <th>Value</th>\n",
       "    </tr>\n",
       "  </thead>\n",
       "  <tbody>\n",
       "    <tr>\n",
       "      <th>0</th>\n",
       "      <td>Fish</td>\n",
       "      <td>Import</td>\n",
       "      <td>1</td>\n",
       "    </tr>\n",
       "    <tr>\n",
       "      <th>1</th>\n",
       "      <td>Milk</td>\n",
       "      <td>Import</td>\n",
       "      <td>2</td>\n",
       "    </tr>\n",
       "    <tr>\n",
       "      <th>3</th>\n",
       "      <td>Fish</td>\n",
       "      <td>Export</td>\n",
       "      <td>8</td>\n",
       "    </tr>\n",
       "    <tr>\n",
       "      <th>4</th>\n",
       "      <td>Milk</td>\n",
       "      <td>Export</td>\n",
       "      <td>16</td>\n",
       "    </tr>\n",
       "  </tbody>\n",
       "</table>\n",
       "</div>"
      ],
      "text/plain": [
       "  Commodity Trade Flow  Value\n",
       "0      Fish     Import      1\n",
       "1      Milk     Import      2\n",
       "3      Fish     Export      8\n",
       "4      Milk     Export     16"
      ]
     },
     "execution_count": 27,
     "metadata": {},
     "output_type": "execute_result"
    }
   ],
   "source": [
    "def groupsWithValueGreaterThanFive(g):\n",
    "    return g['Value'].sum() > 5\n",
    "\n",
    "df.groupby('Commodity').filter(groupsWithValueGreaterThanFive)"
   ]
  },
  {
   "cell_type": "markdown",
   "metadata": {},
   "source": [
    "### Filtering on the Comtrade data\n",
    "\n",
    "Now try filtering the Comtrade data relating to the milk imports. Start by creating a subset of the data containing only rows where the total trade value of imports for a particular commodity and partner is greater than $25 million (that is, 25000000)."
   ]
  },
  {
   "cell_type": "code",
   "execution_count": 28,
   "metadata": {
    "activity": false,
    "collapsed": true,
    "run_control": {
     "read_only": false
    }
   },
   "outputs": [],
   "source": [
    "def groupsWithImportsOver25million(g):\n",
    "    return g['Trade Value (US$)'].sum() > 25000000\n",
    "\n",
    "rows=milk_countries_imports.groupby(['Commodity','Partner']).filter(groupsWithImportsOver25million)"
   ]
  },
  {
   "cell_type": "markdown",
   "metadata": {},
   "source": [
    "Check the filtering by grouping on the commodity and partner and summing the result."
   ]
  },
  {
   "cell_type": "code",
   "execution_count": 29,
   "metadata": {
    "activity": false,
    "run_control": {
     "read_only": false
    }
   },
   "outputs": [
    {
     "data": {
      "text/plain": [
       "Commodity                                           Partner    \n",
       "Milk and cream, concentrated or sweetened           Belgium         36155409\n",
       "                                                    France          85631781\n",
       "                                                    Germany         59776965\n",
       "                                                    Ireland         62936247\n",
       "                                                    Netherlands     61531712\n",
       "Milk and cream, neither concentrated nor sweetened  Denmark         29432607\n",
       "                                                    Ireland        111379639\n",
       "Name: Trade Value (US$), dtype: int64"
      ]
     },
     "execution_count": 29,
     "metadata": {},
     "output_type": "execute_result"
    }
   ],
   "source": [
    "rows.groupby(['Commodity','Partner'])['Trade Value (US$)'].aggregate(sum)"
   ]
  },
  {
   "cell_type": "markdown",
   "metadata": {},
   "source": [
    "As before, you can plot the results."
   ]
  },
  {
   "cell_type": "code",
   "execution_count": 30,
   "metadata": {
    "activity": false,
    "run_control": {
     "read_only": false
    }
   },
   "outputs": [
    {
     "data": {
      "text/plain": [
       "<matplotlib.axes._subplots.AxesSubplot at 0x241a770af28>"
      ]
     },
     "execution_count": 30,
     "metadata": {},
     "output_type": "execute_result"
    },
    {
     "data": {
      "image/png": "[encoded data removed]",
      "text/plain": [
       "<matplotlib.figure.Figure at 0x241a7be0048>"
      ]
     },
     "metadata": {},
     "output_type": "display_data"
    }
   ],
   "source": [
    "rows.groupby(['Commodity','Partner'])['Trade Value (US$)'].aggregate(sum).sort_values(inplace=False,ascending=False).plot(kind='barh')"
   ]
  },
  {
   "cell_type": "markdown",
   "metadata": {},
   "source": [
    "Logical tests can be combined in a filter function, for example testing for partners that only appear to trade infrequently *or* for small total amounts in any particular commodity."
   ]
  },
  {
   "cell_type": "code",
   "execution_count": 31,
   "metadata": {
    "activity": false,
    "run_control": {
     "read_only": false
    }
   },
   "outputs": [
    {
     "data": {
      "text/html": [
       "<div>\n",
       "<style>\n",
       "    .dataframe thead tr:only-child th {\n",
       "        text-align: right;\n",
       "    }\n",
       "\n",
       "    .dataframe thead th {\n",
       "        text-align: left;\n",
       "    }\n",
       "\n",
       "    .dataframe tbody tr th {\n",
       "        vertical-align: top;\n",
       "    }\n",
       "</style>\n",
       "<table border=\"1\" class=\"dataframe\">\n",
       "  <thead>\n",
       "    <tr>\n",
       "      <th></th>\n",
       "      <th></th>\n",
       "      <th colspan=\"2\" halign=\"left\">Trade Value (US$)</th>\n",
       "    </tr>\n",
       "    <tr>\n",
       "      <th></th>\n",
       "      <th></th>\n",
       "      <th>len</th>\n",
       "      <th>sum</th>\n",
       "    </tr>\n",
       "    <tr>\n",
       "      <th>Commodity</th>\n",
       "      <th>Partner</th>\n",
       "      <th></th>\n",
       "      <th></th>\n",
       "    </tr>\n",
       "  </thead>\n",
       "  <tbody>\n",
       "    <tr>\n",
       "      <th rowspan=\"7\" valign=\"top\">Milk and cream, concentrated or sweetened</th>\n",
       "      <th>Greece</th>\n",
       "      <td>1</td>\n",
       "      <td>7</td>\n",
       "    </tr>\n",
       "    <tr>\n",
       "      <th>Hungary</th>\n",
       "      <td>8</td>\n",
       "      <td>4956</td>\n",
       "    </tr>\n",
       "    <tr>\n",
       "      <th>Latvia</th>\n",
       "      <td>1</td>\n",
       "      <td>432</td>\n",
       "    </tr>\n",
       "    <tr>\n",
       "      <th>Luxembourg</th>\n",
       "      <td>1</td>\n",
       "      <td>23724</td>\n",
       "    </tr>\n",
       "    <tr>\n",
       "      <th>New Zealand</th>\n",
       "      <td>1</td>\n",
       "      <td>19291</td>\n",
       "    </tr>\n",
       "    <tr>\n",
       "      <th>United Arab Emirates</th>\n",
       "      <td>2</td>\n",
       "      <td>5779</td>\n",
       "    </tr>\n",
       "    <tr>\n",
       "      <th>United States of America</th>\n",
       "      <td>2</td>\n",
       "      <td>4375</td>\n",
       "    </tr>\n",
       "    <tr>\n",
       "      <th rowspan=\"5\" valign=\"top\">Milk and cream, neither concentrated nor sweetened</th>\n",
       "      <th>Finland</th>\n",
       "      <td>1</td>\n",
       "      <td>12</td>\n",
       "    </tr>\n",
       "    <tr>\n",
       "      <th>Latvia</th>\n",
       "      <td>4</td>\n",
       "      <td>1678</td>\n",
       "    </tr>\n",
       "    <tr>\n",
       "      <th>Spain</th>\n",
       "      <td>1</td>\n",
       "      <td>68</td>\n",
       "    </tr>\n",
       "    <tr>\n",
       "      <th>Ukraine</th>\n",
       "      <td>1</td>\n",
       "      <td>3733</td>\n",
       "    </tr>\n",
       "    <tr>\n",
       "      <th>United States of America</th>\n",
       "      <td>1</td>\n",
       "      <td>2415</td>\n",
       "    </tr>\n",
       "  </tbody>\n",
       "</table>\n",
       "</div>"
      ],
      "text/plain": [
       "                                                                            Trade Value (US$)  \\\n",
       "                                                                                          len   \n",
       "Commodity                                          Partner                                      \n",
       "Milk and cream, concentrated or sweetened          Greece                                   1   \n",
       "                                                   Hungary                                  8   \n",
       "                                                   Latvia                                   1   \n",
       "                                                   Luxembourg                               1   \n",
       "                                                   New Zealand                              1   \n",
       "                                                   United Arab Emirates                     2   \n",
       "                                                   United States of America                 2   \n",
       "Milk and cream, neither concentrated nor sweetened Finland                                  1   \n",
       "                                                   Latvia                                   4   \n",
       "                                                   Spain                                    1   \n",
       "                                                   Ukraine                                  1   \n",
       "                                                   United States of America                 1   \n",
       "\n",
       "                                                                                    \n",
       "                                                                               sum  \n",
       "Commodity                                          Partner                          \n",
       "Milk and cream, concentrated or sweetened          Greece                        7  \n",
       "                                                   Hungary                    4956  \n",
       "                                                   Latvia                      432  \n",
       "                                                   Luxembourg                23724  \n",
       "                                                   New Zealand               19291  \n",
       "                                                   United Arab Emirates       5779  \n",
       "                                                   United States of America   4375  \n",
       "Milk and cream, neither concentrated nor sweetened Finland                      12  \n",
       "                                                   Latvia                     1678  \n",
       "                                                   Spain                        68  \n",
       "                                                   Ukraine                    3733  \n",
       "                                                   United States of America   2415  "
      ]
     },
     "execution_count": 31,
     "metadata": {},
     "output_type": "execute_result"
    }
   ],
   "source": [
    "def weakpartner(g):\n",
    "    return len(g)<=3 | g['Trade Value (US$)'].sum()<25000\n",
    "\n",
    "weak_milk_countries_imports=milk_countries_imports.groupby(['Commodity','Partner']).filter(weakpartner)\n",
    "weak_milk_countries_imports.groupby(['Commodity','Partner'])[['Trade Value (US$)']].aggregate([len,sum])"
   ]
  },
  {
   "cell_type": "markdown",
   "metadata": {},
   "source": [
    "In this report, many of the listed countries appear to have traded in only one or two months; but while Hungary traded concentrated/sweetened products eight times, the total trade value was not very significant at all."
   ]
  },
  {
   "cell_type": "markdown",
   "metadata": {},
   "source": [
    "### Tasks\n",
    "\n",
    "Filter the dataset so that it only contains rows where the total exports across all the milk products for a particular country are at least two million dollars in any given monthly period. (HINT: group on partner and period and filter against a function that tests the minimum trade value exceeds the required value.)\n",
    "\n",
    "Generate a chart from that dataset that displays the sum total trade value for each partner. (HINT: group on the partner and then aggregate on the sum.)\n",
    "\n",
    "Using your own monthly data for a single year, which countries only trade in your selected trade item rarely or for small amounts? Which partners trade on a regular basis (for example, in at least nine of the months)? \n",
    "\n",
    "Can you also find countries that trade regularly but only for small amounts (for example whose maximum monthly trade value is less than a certain threshold amount) or who trade infrequently but for large amounts (or other combinations thereof)?"
   ]
  },
  {
   "cell_type": "markdown",
   "metadata": {},
   "source": [
    "**Now go back to the course step and mark it complete.**"
   ]
  },
  {
   "cell_type": "markdown",
   "metadata": {},
   "source": [
    "## Exercise 5: Interactive pivot table\n",
    "\n",
    "The interactive pivot table contains a fragment of the milk data downloaded from Comtrade relating to the leading partner importers of milk products to the UK. (**Note:** If you can't see the pivot table, check you have downloaded it to the same folder as this notebook and run the cell below.)\n",
    "\n",
    "Configure the pivot table by dragging the labels into the appropriate row and column selection areas. (You do not need to add all the labels to those areas). Select the aggregation type using the calculation list (which defauts to *count*). Click on the down arrow associated with a label in order to select a subset of values associated with that label.\n",
    "\n",
    "Use the interactive pivot table to generate reports that display:\n",
    "\n",
    "- a single column containing the total value of each trade flow for each commodity  each year (in rows: Year, Commodity, Trade Flow; no columns; sum Trade Value(US$))\n",
    "- for each year and each commodity, a column containing the total trade value by Trade flow (rows: year, commodity; cols Trade Flow; sum trade value)\n",
    "- the total exports for each partner country (rows) by year (columns). Row: partner, trade flow with filter set to export); col: year; sum trade value"
   ]
  },
  {
   "cell_type": "code",
   "execution_count": 32,
   "metadata": {
    "activity": false,
    "run_control": {
     "read_only": false
    }
   },
   "outputs": [
    {
     "data": {
      "text/html": [
       "\n",
       "        <iframe\n",
       "            width=\"1000\"\n",
       "            height=\"600\"\n",
       "            src=\"comtrade_pivot.html\"\n",
       "            frameborder=\"0\"\n",
       "            allowfullscreen\n",
       "        ></iframe>\n",
       "        "
      ],
      "text/plain": [
       "<IPython.lib.display.IFrame at 0x241a7be0400>"
      ]
     },
     "execution_count": 32,
     "metadata": {},
     "output_type": "execute_result"
    }
   ],
   "source": [
    "from IPython.display import HTML,IFrame\n",
    "\n",
    "IFrame('comtrade_pivot.html',width=1000,height=600)\n"
   ]
  },
  {
   "cell_type": "markdown",
   "metadata": {},
   "source": [
    "## Task\n",
    "\n",
    "Try to come up with some of your own questions and then see if you can use the pivot table to answer them.\n",
    "\n",
    "For example, see if you can use the table to find:\n",
    "\n",
    "- the total value by partner country of each commodity type (with each row corresponding to a particular country)\n",
    "- the total value of trade in commodity type for each month of the year\n",
    "- the leading partners associated with the 0402 commodity code\n",
    "- the minimum trade value, by month and commodity type, for Ireland.\n"
   ]
  },
  {
   "cell_type": "markdown",
   "metadata": {},
   "source": [
    "**Now go back to the course step and mark it complete.**"
   ]
  },
  {
   "cell_type": "markdown",
   "metadata": {},
   "source": [
    "## Exercise 6: Pivot tables with pandas\n"
   ]
  },
  {
   "cell_type": "markdown",
   "metadata": {},
   "source": [
    "Pivot tables can be quite hard to understand, so if you want a gentle dataset to pratice with, here is the simple example dataset used in the previous step that you can try out a few pivot table functions on."
   ]
  },
  {
   "cell_type": "code",
   "execution_count": 33,
   "metadata": {
    "activity": false,
    "run_control": {
     "read_only": false
    }
   },
   "outputs": [
    {
     "data": {
      "text/html": [
       "<div>\n",
       "<style>\n",
       "    .dataframe thead tr:only-child th {\n",
       "        text-align: right;\n",
       "    }\n",
       "\n",
       "    .dataframe thead th {\n",
       "        text-align: left;\n",
       "    }\n",
       "\n",
       "    .dataframe tbody tr th {\n",
       "        vertical-align: top;\n",
       "    }\n",
       "</style>\n",
       "<table border=\"1\" class=\"dataframe\">\n",
       "  <thead>\n",
       "    <tr style=\"text-align: right;\">\n",
       "      <th></th>\n",
       "      <th>Commodity</th>\n",
       "      <th>Reporter</th>\n",
       "      <th>Flow</th>\n",
       "      <th>Amount</th>\n",
       "    </tr>\n",
       "  </thead>\n",
       "  <tbody>\n",
       "    <tr>\n",
       "      <th>0</th>\n",
       "      <td>A</td>\n",
       "      <td>P</td>\n",
       "      <td>X</td>\n",
       "      <td>10</td>\n",
       "    </tr>\n",
       "    <tr>\n",
       "      <th>1</th>\n",
       "      <td>A</td>\n",
       "      <td>P</td>\n",
       "      <td>Y</td>\n",
       "      <td>15</td>\n",
       "    </tr>\n",
       "    <tr>\n",
       "      <th>2</th>\n",
       "      <td>A</td>\n",
       "      <td>Q</td>\n",
       "      <td>X</td>\n",
       "      <td>5</td>\n",
       "    </tr>\n",
       "    <tr>\n",
       "      <th>3</th>\n",
       "      <td>A</td>\n",
       "      <td>Q</td>\n",
       "      <td>Y</td>\n",
       "      <td>20</td>\n",
       "    </tr>\n",
       "    <tr>\n",
       "      <th>4</th>\n",
       "      <td>B</td>\n",
       "      <td>P</td>\n",
       "      <td>X</td>\n",
       "      <td>10</td>\n",
       "    </tr>\n",
       "    <tr>\n",
       "      <th>5</th>\n",
       "      <td>B</td>\n",
       "      <td>P</td>\n",
       "      <td>Y</td>\n",
       "      <td>10</td>\n",
       "    </tr>\n",
       "    <tr>\n",
       "      <th>6</th>\n",
       "      <td>B</td>\n",
       "      <td>Q</td>\n",
       "      <td>X</td>\n",
       "      <td>5</td>\n",
       "    </tr>\n",
       "    <tr>\n",
       "      <th>7</th>\n",
       "      <td>C</td>\n",
       "      <td>P</td>\n",
       "      <td>X</td>\n",
       "      <td>20</td>\n",
       "    </tr>\n",
       "    <tr>\n",
       "      <th>8</th>\n",
       "      <td>C</td>\n",
       "      <td>Q</td>\n",
       "      <td>Y</td>\n",
       "      <td>30</td>\n",
       "    </tr>\n",
       "  </tbody>\n",
       "</table>\n",
       "</div>"
      ],
      "text/plain": [
       "  Commodity Reporter Flow  Amount\n",
       "0         A        P    X      10\n",
       "1         A        P    Y      15\n",
       "2         A        Q    X       5\n",
       "3         A        Q    Y      20\n",
       "4         B        P    X      10\n",
       "5         B        P    Y      10\n",
       "6         B        Q    X       5\n",
       "7         C        P    X      20\n",
       "8         C        Q    Y      30"
      ]
     },
     "execution_count": 33,
     "metadata": {},
     "output_type": "execute_result"
    }
   ],
   "source": [
    "#Example dataframe\n",
    "df = DataFrame({\"Commodity\":[\"A\",\"A\",\"A\",\"A\",\"B\",\"B\",\"B\",\"C\",\"C\"],\n",
    "                  \"Amount\":[10,15,5,20,10,10,5,20,30],\n",
    "                  \"Reporter\":[\"P\",\"P\",\"Q\",\"Q\",\"P\",\"P\",\"Q\",\"P\",\"Q\"],\n",
    "                  \"Flow\":[\"X\",\"Y\",\"X\",\"Y\",\"X\",\"Y\",\"X\",\"X\",\"Y\"]},\n",
    "                 columns=[\"Commodity\",\"Reporter\",\"Flow\",\"Amount\"])\n",
    "\n",
    "df"
   ]
  },
  {
   "cell_type": "markdown",
   "metadata": {},
   "source": [
    "### Getting started with pivot tables in pandas \n",
    "\n",
    "The pandas library provides a `pivot_table()` function into which you can pass the elements needed to define the pivot table view you would like to generate over a particular dataset.\n",
    "\n",
    "If you inspect the documentation for the pandas `pivot_table()` function, you will see that it is quite involved (but *DON'T PANIC!*)."
   ]
  },
  {
   "cell_type": "code",
   "execution_count": 34,
   "metadata": {
    "activity": false,
    "collapsed": true,
    "run_control": {
     "read_only": false
    }
   },
   "outputs": [],
   "source": [
    "##Inspect the documentation for the pandas pivot_table() function\n",
    "##Uncomment the following command (remove the #) and then click the play button in the toolbar to run the cell\n",
    "#?pivot_table\n",
    "##The documentation file should pop up from the bottom of the browser.\n",
    "##Click the x to close it."
   ]
  },
  {
   "cell_type": "markdown",
   "metadata": {},
   "source": [
    "You can start to use the pivot table quite straightforwardly, drawing inspiration from the way you configured the interactive pivot table. The function itself takes the form:\n",
    "\n",
    "`pd.pivot_table(DATAFRAME,\n",
    "                index= (LIST_OF_)DATA_COLUMN(S)_THAT_DEFINE_PIVOT_TABLE_ROWS,\n",
    "                columns= (LIST_OF_)DATA_COLUMN(S)_THAT_DEFINE_PIVOT_TABLE_COLUMNS\n",
    "                values= DATA_COLUMN_TO_APPLY_THE SUMMARYFUNCTION_TO,\n",
    "                aggfunc=sum\n",
    "               )`\n",
    "\n",
    "\n",
    "You can generate a pivot table that shows the total trade value as a single column, grouped into row based subdivisions based on year, country, trade flow and commodity in the following way.\n",
    "\n",
    "The following pivot table reports on a subset of countries. The `isin()` method selects rows whose partner value 'is in' the list of specified partners."
   ]
  },
  {
   "cell_type": "code",
   "execution_count": 35,
   "metadata": {
    "activity": false,
    "run_control": {
     "read_only": false
    }
   },
   "outputs": [
    {
     "data": {
      "text/html": [
       "<div>\n",
       "<style>\n",
       "    .dataframe thead tr:only-child th {\n",
       "        text-align: right;\n",
       "    }\n",
       "\n",
       "    .dataframe thead th {\n",
       "        text-align: left;\n",
       "    }\n",
       "\n",
       "    .dataframe tbody tr th {\n",
       "        vertical-align: top;\n",
       "    }\n",
       "</style>\n",
       "<table border=\"1\" class=\"dataframe\">\n",
       "  <thead>\n",
       "    <tr style=\"text-align: right;\">\n",
       "      <th></th>\n",
       "      <th></th>\n",
       "      <th></th>\n",
       "      <th></th>\n",
       "      <th>Trade Value (US$)</th>\n",
       "    </tr>\n",
       "    <tr>\n",
       "      <th>Year</th>\n",
       "      <th>Partner</th>\n",
       "      <th>Trade Flow</th>\n",
       "      <th>Commodity</th>\n",
       "      <th></th>\n",
       "    </tr>\n",
       "  </thead>\n",
       "  <tbody>\n",
       "    <tr>\n",
       "      <th rowspan=\"24\" valign=\"top\">2014</th>\n",
       "      <th rowspan=\"4\" valign=\"top\">Belgium</th>\n",
       "      <th rowspan=\"2\" valign=\"top\">Exports</th>\n",
       "      <th>Milk and cream, concentrated or sweetened</th>\n",
       "      <td>6301229</td>\n",
       "    </tr>\n",
       "    <tr>\n",
       "      <th>Milk and cream, neither concentrated nor sweetened</th>\n",
       "      <td>23041778</td>\n",
       "    </tr>\n",
       "    <tr>\n",
       "      <th rowspan=\"2\" valign=\"top\">Imports</th>\n",
       "      <th>Milk and cream, concentrated or sweetened</th>\n",
       "      <td>36155409</td>\n",
       "    </tr>\n",
       "    <tr>\n",
       "      <th>Milk and cream, neither concentrated nor sweetened</th>\n",
       "      <td>22183336</td>\n",
       "    </tr>\n",
       "    <tr>\n",
       "      <th rowspan=\"4\" valign=\"top\">Denmark</th>\n",
       "      <th rowspan=\"2\" valign=\"top\">Exports</th>\n",
       "      <th>Milk and cream, concentrated or sweetened</th>\n",
       "      <td>1849170</td>\n",
       "    </tr>\n",
       "    <tr>\n",
       "      <th>Milk and cream, neither concentrated nor sweetened</th>\n",
       "      <td>1059287</td>\n",
       "    </tr>\n",
       "    <tr>\n",
       "      <th rowspan=\"2\" valign=\"top\">Imports</th>\n",
       "      <th>Milk and cream, concentrated or sweetened</th>\n",
       "      <td>1102035</td>\n",
       "    </tr>\n",
       "    <tr>\n",
       "      <th>Milk and cream, neither concentrated nor sweetened</th>\n",
       "      <td>29432607</td>\n",
       "    </tr>\n",
       "    <tr>\n",
       "      <th rowspan=\"4\" valign=\"top\">France</th>\n",
       "      <th rowspan=\"2\" valign=\"top\">Exports</th>\n",
       "      <th>Milk and cream, concentrated or sweetened</th>\n",
       "      <td>9025441</td>\n",
       "    </tr>\n",
       "    <tr>\n",
       "      <th>Milk and cream, neither concentrated nor sweetened</th>\n",
       "      <td>25597541</td>\n",
       "    </tr>\n",
       "    <tr>\n",
       "      <th rowspan=\"2\" valign=\"top\">Imports</th>\n",
       "      <th>Milk and cream, concentrated or sweetened</th>\n",
       "      <td>85631781</td>\n",
       "    </tr>\n",
       "    <tr>\n",
       "      <th>Milk and cream, neither concentrated nor sweetened</th>\n",
       "      <td>19376395</td>\n",
       "    </tr>\n",
       "    <tr>\n",
       "      <th rowspan=\"4\" valign=\"top\">Germany</th>\n",
       "      <th rowspan=\"2\" valign=\"top\">Exports</th>\n",
       "      <th>Milk and cream, concentrated or sweetened</th>\n",
       "      <td>24785683</td>\n",
       "    </tr>\n",
       "    <tr>\n",
       "      <th>Milk and cream, neither concentrated nor sweetened</th>\n",
       "      <td>11310950</td>\n",
       "    </tr>\n",
       "    <tr>\n",
       "      <th rowspan=\"2\" valign=\"top\">Imports</th>\n",
       "      <th>Milk and cream, concentrated or sweetened</th>\n",
       "      <td>59776965</td>\n",
       "    </tr>\n",
       "    <tr>\n",
       "      <th>Milk and cream, neither concentrated nor sweetened</th>\n",
       "      <td>16835735</td>\n",
       "    </tr>\n",
       "    <tr>\n",
       "      <th rowspan=\"4\" valign=\"top\">Ireland</th>\n",
       "      <th rowspan=\"2\" valign=\"top\">Exports</th>\n",
       "      <th>Milk and cream, concentrated or sweetened</th>\n",
       "      <td>94889874</td>\n",
       "    </tr>\n",
       "    <tr>\n",
       "      <th>Milk and cream, neither concentrated nor sweetened</th>\n",
       "      <td>326338567</td>\n",
       "    </tr>\n",
       "    <tr>\n",
       "      <th rowspan=\"2\" valign=\"top\">Imports</th>\n",
       "      <th>Milk and cream, concentrated or sweetened</th>\n",
       "      <td>62936247</td>\n",
       "    </tr>\n",
       "    <tr>\n",
       "      <th>Milk and cream, neither concentrated nor sweetened</th>\n",
       "      <td>111379639</td>\n",
       "    </tr>\n",
       "    <tr>\n",
       "      <th rowspan=\"4\" valign=\"top\">Netherlands</th>\n",
       "      <th rowspan=\"2\" valign=\"top\">Exports</th>\n",
       "      <th>Milk and cream, concentrated or sweetened</th>\n",
       "      <td>47518672</td>\n",
       "    </tr>\n",
       "    <tr>\n",
       "      <th>Milk and cream, neither concentrated nor sweetened</th>\n",
       "      <td>21130410</td>\n",
       "    </tr>\n",
       "    <tr>\n",
       "      <th rowspan=\"2\" valign=\"top\">Imports</th>\n",
       "      <th>Milk and cream, concentrated or sweetened</th>\n",
       "      <td>61531712</td>\n",
       "    </tr>\n",
       "    <tr>\n",
       "      <th>Milk and cream, neither concentrated nor sweetened</th>\n",
       "      <td>10677523</td>\n",
       "    </tr>\n",
       "  </tbody>\n",
       "</table>\n",
       "</div>"
      ],
      "text/plain": [
       "                                                                                Trade Value (US$)\n",
       "Year Partner     Trade Flow Commodity                                                            \n",
       "2014 Belgium     Exports    Milk and cream, concentrated or sweetened                     6301229\n",
       "                            Milk and cream, neither concentrated nor sweetened           23041778\n",
       "                 Imports    Milk and cream, concentrated or sweetened                    36155409\n",
       "                            Milk and cream, neither concentrated nor sweetened           22183336\n",
       "     Denmark     Exports    Milk and cream, concentrated or sweetened                     1849170\n",
       "                            Milk and cream, neither concentrated nor sweetened            1059287\n",
       "                 Imports    Milk and cream, concentrated or sweetened                     1102035\n",
       "                            Milk and cream, neither concentrated nor sweetened           29432607\n",
       "     France      Exports    Milk and cream, concentrated or sweetened                     9025441\n",
       "                            Milk and cream, neither concentrated nor sweetened           25597541\n",
       "                 Imports    Milk and cream, concentrated or sweetened                    85631781\n",
       "                            Milk and cream, neither concentrated nor sweetened           19376395\n",
       "     Germany     Exports    Milk and cream, concentrated or sweetened                    24785683\n",
       "                            Milk and cream, neither concentrated nor sweetened           11310950\n",
       "                 Imports    Milk and cream, concentrated or sweetened                    59776965\n",
       "                            Milk and cream, neither concentrated nor sweetened           16835735\n",
       "     Ireland     Exports    Milk and cream, concentrated or sweetened                    94889874\n",
       "                            Milk and cream, neither concentrated nor sweetened          326338567\n",
       "                 Imports    Milk and cream, concentrated or sweetened                    62936247\n",
       "                            Milk and cream, neither concentrated nor sweetened          111379639\n",
       "     Netherlands Exports    Milk and cream, concentrated or sweetened                    47518672\n",
       "                            Milk and cream, neither concentrated nor sweetened           21130410\n",
       "                 Imports    Milk and cream, concentrated or sweetened                    61531712\n",
       "                            Milk and cream, neither concentrated nor sweetened           10677523"
      ]
     },
     "execution_count": 35,
     "metadata": {},
     "output_type": "execute_result"
    }
   ],
   "source": [
    "KEYPARTNERS = ['Belgium','France','Germany','Ireland','Netherlands','Denmark']\n",
    "milk_keypartners = milk_countries[milk_countries['Partner'].isin(KEYPARTNERS)]\n",
    "\n",
    "pivot_table(milk_keypartners,\n",
    "               index=['Year','Partner','Trade Flow','Commodity'],\n",
    "               values='Trade Value (US$)',\n",
    "               aggfunc=sum)"
   ]
  },
  {
   "cell_type": "markdown",
   "metadata": {},
   "source": [
    "If you just want to use a single data column from the original dataset to specify the row (that is, the `index`) groupings or the column groupings, you don't need to use a list, just pass in the name of the appropriate original data column.\n",
    "\n",
    "So, to look at rows grouped by year, country and commodity, and split columns out by trade flow:"
   ]
  },
  {
   "cell_type": "code",
   "execution_count": 36,
   "metadata": {
    "activity": false,
    "run_control": {
     "read_only": false
    }
   },
   "outputs": [
    {
     "data": {
      "text/html": [
       "<div>\n",
       "<style>\n",
       "    .dataframe thead tr:only-child th {\n",
       "        text-align: right;\n",
       "    }\n",
       "\n",
       "    .dataframe thead th {\n",
       "        text-align: left;\n",
       "    }\n",
       "\n",
       "    .dataframe tbody tr th {\n",
       "        vertical-align: top;\n",
       "    }\n",
       "</style>\n",
       "<table border=\"1\" class=\"dataframe\">\n",
       "  <thead>\n",
       "    <tr style=\"text-align: right;\">\n",
       "      <th></th>\n",
       "      <th></th>\n",
       "      <th>Trade Flow</th>\n",
       "      <th>Exports</th>\n",
       "      <th>Imports</th>\n",
       "    </tr>\n",
       "    <tr>\n",
       "      <th>Year</th>\n",
       "      <th>Partner</th>\n",
       "      <th>Commodity</th>\n",
       "      <th></th>\n",
       "      <th></th>\n",
       "    </tr>\n",
       "  </thead>\n",
       "  <tbody>\n",
       "    <tr>\n",
       "      <th rowspan=\"12\" valign=\"top\">2014</th>\n",
       "      <th>Ireland</th>\n",
       "      <th>Milk and cream, neither concentrated nor sweetened</th>\n",
       "      <td>326338567</td>\n",
       "      <td>111379639</td>\n",
       "    </tr>\n",
       "    <tr>\n",
       "      <th>France</th>\n",
       "      <th>Milk and cream, concentrated or sweetened</th>\n",
       "      <td>9025441</td>\n",
       "      <td>85631781</td>\n",
       "    </tr>\n",
       "    <tr>\n",
       "      <th>Ireland</th>\n",
       "      <th>Milk and cream, concentrated or sweetened</th>\n",
       "      <td>94889874</td>\n",
       "      <td>62936247</td>\n",
       "    </tr>\n",
       "    <tr>\n",
       "      <th>Netherlands</th>\n",
       "      <th>Milk and cream, concentrated or sweetened</th>\n",
       "      <td>47518672</td>\n",
       "      <td>61531712</td>\n",
       "    </tr>\n",
       "    <tr>\n",
       "      <th>Germany</th>\n",
       "      <th>Milk and cream, concentrated or sweetened</th>\n",
       "      <td>24785683</td>\n",
       "      <td>59776965</td>\n",
       "    </tr>\n",
       "    <tr>\n",
       "      <th>Belgium</th>\n",
       "      <th>Milk and cream, concentrated or sweetened</th>\n",
       "      <td>6301229</td>\n",
       "      <td>36155409</td>\n",
       "    </tr>\n",
       "    <tr>\n",
       "      <th>Denmark</th>\n",
       "      <th>Milk and cream, neither concentrated nor sweetened</th>\n",
       "      <td>1059287</td>\n",
       "      <td>29432607</td>\n",
       "    </tr>\n",
       "    <tr>\n",
       "      <th>Belgium</th>\n",
       "      <th>Milk and cream, neither concentrated nor sweetened</th>\n",
       "      <td>23041778</td>\n",
       "      <td>22183336</td>\n",
       "    </tr>\n",
       "    <tr>\n",
       "      <th>France</th>\n",
       "      <th>Milk and cream, neither concentrated nor sweetened</th>\n",
       "      <td>25597541</td>\n",
       "      <td>19376395</td>\n",
       "    </tr>\n",
       "    <tr>\n",
       "      <th>Germany</th>\n",
       "      <th>Milk and cream, neither concentrated nor sweetened</th>\n",
       "      <td>11310950</td>\n",
       "      <td>16835735</td>\n",
       "    </tr>\n",
       "    <tr>\n",
       "      <th>Netherlands</th>\n",
       "      <th>Milk and cream, neither concentrated nor sweetened</th>\n",
       "      <td>21130410</td>\n",
       "      <td>10677523</td>\n",
       "    </tr>\n",
       "    <tr>\n",
       "      <th>Denmark</th>\n",
       "      <th>Milk and cream, concentrated or sweetened</th>\n",
       "      <td>1849170</td>\n",
       "      <td>1102035</td>\n",
       "    </tr>\n",
       "  </tbody>\n",
       "</table>\n",
       "</div>"
      ],
      "text/plain": [
       "Trade Flow                                                             Exports  \\\n",
       "Year Partner     Commodity                                                       \n",
       "2014 Ireland     Milk and cream, neither concentrated nor sweetened  326338567   \n",
       "     France      Milk and cream, concentrated or sweetened             9025441   \n",
       "     Ireland     Milk and cream, concentrated or sweetened            94889874   \n",
       "     Netherlands Milk and cream, concentrated or sweetened            47518672   \n",
       "     Germany     Milk and cream, concentrated or sweetened            24785683   \n",
       "     Belgium     Milk and cream, concentrated or sweetened             6301229   \n",
       "     Denmark     Milk and cream, neither concentrated nor sweetened    1059287   \n",
       "     Belgium     Milk and cream, neither concentrated nor sweetened   23041778   \n",
       "     France      Milk and cream, neither concentrated nor sweetened   25597541   \n",
       "     Germany     Milk and cream, neither concentrated nor sweetened   11310950   \n",
       "     Netherlands Milk and cream, neither concentrated nor sweetened   21130410   \n",
       "     Denmark     Milk and cream, concentrated or sweetened             1849170   \n",
       "\n",
       "Trade Flow                                                             Imports  \n",
       "Year Partner     Commodity                                                      \n",
       "2014 Ireland     Milk and cream, neither concentrated nor sweetened  111379639  \n",
       "     France      Milk and cream, concentrated or sweetened            85631781  \n",
       "     Ireland     Milk and cream, concentrated or sweetened            62936247  \n",
       "     Netherlands Milk and cream, concentrated or sweetened            61531712  \n",
       "     Germany     Milk and cream, concentrated or sweetened            59776965  \n",
       "     Belgium     Milk and cream, concentrated or sweetened            36155409  \n",
       "     Denmark     Milk and cream, neither concentrated nor sweetened   29432607  \n",
       "     Belgium     Milk and cream, neither concentrated nor sweetened   22183336  \n",
       "     France      Milk and cream, neither concentrated nor sweetened   19376395  \n",
       "     Germany     Milk and cream, neither concentrated nor sweetened   16835735  \n",
       "     Netherlands Milk and cream, neither concentrated nor sweetened   10677523  \n",
       "     Denmark     Milk and cream, concentrated or sweetened             1102035  "
      ]
     },
     "execution_count": 36,
     "metadata": {},
     "output_type": "execute_result"
    }
   ],
   "source": [
    "#For convenience, let's assign the output of this pivot table operation to a variable...\n",
    "report = pivot_table(milk_keypartners,\n",
    "               index=['Year','Partner','Commodity'],\n",
    "               columns='Trade Flow',\n",
    "               values='Trade Value (US$)',\n",
    "               aggfunc=sum)\n",
    "\n",
    "#And then display the result, sorted by import value\n",
    "report.sort_values('Imports', ascending=False)"
   ]
  },
  {
   "cell_type": "markdown",
   "metadata": {},
   "source": [
    "One of the features of the interactive pivot table you did not explore was its ability to generate bar chart style views over the pivoted data as well as tabulated results. (In fact, this requires a plugin to the pivot table that has not been installed.)\n",
    "\n",
    "In the same way that you produced charts from pandas dataframes previously, you can visualise the contents of the dataframe produced from the pivot table operation."
   ]
  },
  {
   "cell_type": "code",
   "execution_count": 37,
   "metadata": {
    "activity": false,
    "run_control": {
     "read_only": false
    }
   },
   "outputs": [
    {
     "data": {
      "text/plain": [
       "<matplotlib.axes._subplots.AxesSubplot at 0x241a7c61198>"
      ]
     },
     "execution_count": 37,
     "metadata": {},
     "output_type": "execute_result"
    },
    {
     "data": {
      "image/png": "[encoded data removed]",
      "text/plain": [
       "<matplotlib.figure.Figure at 0x241a7bc35f8>"
      ]
     },
     "metadata": {},
     "output_type": "display_data"
    }
   ],
   "source": [
    "report.sort_values('Imports').plot(kind='barh')"
   ]
  },
  {
   "cell_type": "markdown",
   "metadata": {},
   "source": [
    "Here, the `.plot()` command produces a *grouped bar chart* with the bars grouped according to the order of the row index values. The values contained within any numerical columns are then displayed as bars."
   ]
  },
  {
   "cell_type": "markdown",
   "metadata": {},
   "source": [
    "### Task\n",
    "\n",
    "Using your own data set containing data for both imports and exports of a particular trade item, see if you can use a pandas pivot table to answer the same questions you asked of your dataset in Exercise 5, as well as asking some new ones.\n",
    "\n",
    "For example, try to use a pivot table to identify partner countries engaging in 'bi-derectional' trade who have total import values and export values greater than a certain threshold every month.\n",
    "\n",
    "You can also use a pivot table in combination with other operations. For example, try using one of the filtered datasets you created using the `filter()` function, such as one that limited rows to partners trading above a certain level, as the basis for a pivot table report."
   ]
  },
  {
   "cell_type": "markdown",
   "metadata": {},
   "source": [
    "**Now go back to the course step and mark it complete.**"
   ]
  }
 ],
 "metadata": {
  "kernelspec": {
   "display_name": "Python 3",
   "language": "python",
   "name": "python3"
  },
  "language_info": {
   "codemirror_mode": {
    "name": "ipython",
    "version": 3
   },
   "file_extension": ".py",
   "mimetype": "text/x-python",
   "name": "python",
   "nbconvert_exporter": "python",
   "pygments_lexer": "ipython3",
   "version": "3.6.3"
  }
 },
 "nbformat": 4,
 "nbformat_minor": 1
}
